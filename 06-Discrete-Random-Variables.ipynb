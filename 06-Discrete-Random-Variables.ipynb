{
 "cells": [
  {
   "cell_type": "markdown",
   "metadata": {},
   "source": [
    "## Discrete Distributions\n",
    "\n",
    "Until now we have been looking at experiments (games) where the outcome of the game is uncertain and have seen how we can calculate\n",
    "probabilities of events associated with these games. For example, we counted the number of ways to get a sum greater than 10 when rolling two dice (@exr-simulation-dice-rolls),\n",
    "assumed a probability model for the dice rolls (equally likely outcomes), and calculated the probability of the event of interest.\n",
    "\n",
    "In this section, we will look at functions that map the outcomes of an experiment to a real number. For simplicity, consider an experiment of tossing two coins and a game where you win 2 EUR for every head. In this game your payoff is a function of the outcome of the experiment and so you can compute the probability of winning a given amount of money. \n",
    "\n",
    "The sample space of the experiment is \n",
    "\n",
    "$$\n",
    "\\Omega = \\{HH, HT, TH, TT\\}\n",
    "$$\n",
    "\n",
    "where H denotes heads and T denotes tails. Let $w$ be an outcome in the sample space $\\Omega$. The payoff function $X(w)$ is defined as follows:\n",
    "\n",
    "$$\n",
    "X(\\omega) = \\begin{cases}\n",
    "0 & \\text{if } \\omega = TT \\\\\n",
    "2 & \\text{if } \\omega = HT \\text{ or } \\omega = TH \\\\\n",
    "4 & \\text{if } \\omega = HH\n",
    "\\end{cases}\n",
    "$$\n",
    "\n",
    "If we equip the sample space with a probability model, we can compute the probability of winning 0, 1, or 2 EUR. Let's assume that the outcomes are equally likely (our probability model), so that the probability of each outcome in $\\Omega$ is $1/4$. Then the probability of winning nothing is\n",
    "\n",
    "$$\n",
    "P(X = 0) = P(\\{TT\\}) = \\frac{1}{4}\n",
    "$$\n",
    "\n",
    "the probability of winning 2 EUR is\n",
    "\n",
    "$$\n",
    "P(X = 4) = P(\\{HH\\}) = \\frac{1}{4}\n",
    "$$\n",
    "\n",
    "and the probability of winning 1 EUR is\n",
    "\n",
    "$$\n",
    "P(X = 2) = P(\\{HT, TH\\}) = \\frac{2}{4} = \\frac{1}{2}\n",
    "$$\n",
    "\n",
    "With these three probabilities we have a complete description of this game. We call the function $f(x)$ that maps the possible payoffs to their probabilities the **probability mass function** (PMF) of the random variable $X$. In this case, the PMF is very simple:\n",
    "\n",
    "$$\n",
    "f(x) = \\begin{cases}\n",
    "\\frac{1}{4} & \\text{if } x = 0 \\\\\n",
    "\\frac{1}{2} & \\text{if } x = 2 \\\\\n",
    "\\frac{1}{4} & \\text{if } x = 4 \\\\\n",
    "0 & \\text{otherwise}\n",
    "\\end{cases}\n",
    "$$\n"
   ]
  },
  {
   "cell_type": "code",
   "execution_count": 2,
   "metadata": {},
   "outputs": [
    {
     "data": {
      "text/plain": [
       "Text(0, 0.5, 'Probability')"
      ]
     },
     "execution_count": 2,
     "metadata": {},
     "output_type": "execute_result"
    },
    {
     "data": {
      "image/png": "[encoded data removed]",
      "text/plain": [
       "<Figure size 640x480 with 1 Axes>"
      ]
     },
     "metadata": {},
     "output_type": "display_data"
    }
   ],
   "source": [
    "#| label: fig-coins-pmf-plot\n",
    "#| caption: Plot of the probability mass function of the payoff of the coin game.\n",
    "\n",
    "import seaborn as sns\n",
    "import matplotlib.pyplot as plt\n",
    "\n",
    "sns.barplot(x=[0, 1, 2, 3, 4], y=[1/4, 0, 1/2, 0, 1/4])\n",
    "plt.xlabel('Payoff')\n",
    "plt.ylabel('Probability')"
   ]
  },
  {
   "cell_type": "code",
   "execution_count": 3,
   "metadata": {},
   "outputs": [],
   "source": [
    "# Simulate the game\n",
    "\n",
    "import numpy as np\n",
    "\n",
    "# We use 0 to represent heads and 1 to represent tails\n",
    "coins_game = np.random.choice([0, 1], size=[1000, 2])"
   ]
  },
  {
   "cell_type": "code",
   "execution_count": 4,
   "metadata": {},
   "outputs": [],
   "source": [
    "# The payoff is equal to the sum of the 0s and 1s in each row (game) times 2\n",
    "payoff = 2 * np.sum(coins_game, axis=1)"
   ]
  },
  {
   "cell_type": "code",
   "execution_count": 5,
   "metadata": {},
   "outputs": [
    {
     "data": {
      "text/plain": [
       "Text(9.444444444444445, 0.5, 'Proportions')"
      ]
     },
     "execution_count": 5,
     "metadata": {},
     "output_type": "execute_result"
    },
    {
     "data": {
      "image/png": "[encoded data removed]",
      "text/plain": [
       "<Figure size 500x500 with 1 Axes>"
      ]
     },
     "metadata": {},
     "output_type": "display_data"
    }
   ],
   "source": [
    "#| label: fig-coins-epmf-simulated\n",
    "#| caption: Empirical probability mass function of the payoff of the coin game.\n",
    "\n",
    "sns.displot(x=payoff, stat='probability')\n",
    "\n",
    "plt.xlabel('Payoff')\n",
    "plt.ylabel('Proportions')"
   ]
  },
  {
   "cell_type": "markdown",
   "metadata": {},
   "source": [
    "## Probability Mass Function\n",
    "\n",
    ":::{#def-pmf}\n",
    "## Probability Mass Function\n",
    "\n",
    "For a discrete random variable $X$, the probability mass function (PMF) maps each possible value of $X$ to its probability. The PMF is denoted by $f(x)$ and satisfies the following properties:\n",
    "\n",
    "1. $f(x) \\geq 0$ for all $x$.\n",
    "2. $\\sum_{x} f(x) = 1$.\n",
    "\n",
    ":::\n",
    "\n",
    ":::{#exr-pmf-binomial-1}\n",
    "## The Binomial Distribution (1)\n",
    "\n",
    "Consider an experiment where you toss a coin $3$ times independently. Write down the sample space $\\Omega$ as a set of sequences (e.g., $HHH$ for three heads). Let $X$ be the random variable that counts the number of heads in the sequence. Write down the PMF of $X$.\n",
    "\n",
    ":::\n",
    "\n",
    ":::{.callout-note collapse=\"true\"}\n",
    "## Solution (click to expand)\n",
    "\n",
    "The sample space is\n",
    "\n",
    "$$\n",
    "\\Omega = \\{HHH, HHT, HTH, HTT, THH, THT, TTH, TTT\\}\n",
    "$$\n",
    "\n",
    "and has $2^3 = 8$ elements. The random variable $X$ is defined as the number of heads in the sequence. Under a probability model of equally likely outcomes the PMF of $X$ is\n",
    "\n",
    "$$\n",
    "f(x) = \\begin{cases}\n",
    "\\frac{1}{8} & \\text{if } x = 0 \\\\\n",
    "\\frac{3}{8} & \\text{if } x = 1 \\\\\n",
    "\\frac{3}{8} & \\text{if } x = 2 \\\\\n",
    "\\frac{1}{8} & \\text{if } x = 3 \\\\\n",
    "0 & \\text{otherwise}\n",
    "\\end{cases}\n",
    "$$\n",
    "\n",
    "Before we move on, let's look at the counting argument that leads to this PMF. We have obtained the PMF by counting the number of sequences that have $x$ heads and summing their probabilities (because they are disjoint events). For example, the probability of getting 1 head is the sum of the probabilities of the sequences $HTT$, $THT$, and $TTH$. We can generalize this by asking the following questions:\n",
    "\n",
    "1. How many sequences of length 3 have no heads?\n",
    "\n",
    "- There are 3! ways to arrange the heads and tails in the sequence.\n",
    "- The order of the heads does not matter, so we divide by $0!$.\n",
    "- The order of the tails does not matter and if the sequence has no heads, it must have $3 - 0 = 3$ tails. So we divide by $3!$.\n",
    "\n",
    "Therefore, the number of sequences with no heads is\n",
    "\n",
    "$$\n",
    "\\binom{3}{0} = \\frac{3!}{0!3!} = 1\n",
    "$$\n",
    "\n",
    "2. How many sequence of length 3 have one head?\n",
    "\n",
    "- There are 3! ways to arrange the heads and tails in the sequence.\n",
    "- The order of the heads does not matter, so we divide by $1!$.\n",
    "- The order of the tails does not matter and if the sequence has one head, it must have $3 - 1 = 2$ tails. So we divide by $2!$.\n",
    "\n",
    "Therefore, the number of sequences with one head is\n",
    "\n",
    "$$\n",
    "\\binom{3}{1} = \\frac{3!}{1!2!} = 3\n",
    "$$\n",
    "\n",
    "3. How many sequences of length 3 have two heads?\n",
    "\n",
    "- There are 3! ways to arrange the heads and tails in the sequence (as before).\n",
    "- The order of the heads does not matter, so we divide by $2!$.\n",
    "- The order of the tails does not matter and if the sequence has two heads, it must have $3 - 2 = 1$ tail. So we divide by $1!$.\n",
    "\n",
    "Therefore, the number of sequences with two heads is\n",
    "\n",
    "$$\n",
    "\\binom{3}{2} = \\frac{3!}{2!1!} = 3\n",
    "$$\n",
    "\n",
    "4. How many sequences of length 3 have three heads?\n",
    "\n",
    "- There are 3! ways to arrange the heads and tails in the sequence (as before).\n",
    "- The order of the heads does not matter, so we divide by $3!$.\n",
    "- The order of the tails does not matter and if the sequence has three heads, it must have $3 - 3 = 0$ tails. So we divide by $0!$.\n",
    "\n",
    "Therefore, the number of sequences with three heads is\n",
    "\n",
    "$$\n",
    "\\binom{3}{3} = \\frac{3!}{3!0!} = 1\n",
    "$$\n",
    "\n",
    "\n",
    ":::\n",
    "\n",
    "Now let's generalize this distribution. \n",
    "\n",
    ":::{#def-binomial-equally likely}\n",
    "## The Binomial Distribution (2)\n",
    "\n",
    "Consider a similar experiment as in @exr-pmf-binomial-1 but this time you toss the coin not 3 but $n$ times independently. A random variable $X$ counts the number of heads in each sequence. Under a fair coin model all sequences in the sample space $\\Omega$ are equally likely. Write down the PMF of $X$.\n",
    "\n",
    ":::\n",
    "\n",
    ":::{.callout-note collapse=\"true\"}\n",
    "## Solution (click to expand)\n",
    "\n",
    "The sample space consists of all sequences of length $n$ with heads and tails. There are $2^n$ elements in the sample space. \n",
    "\n",
    "$$\n",
    "\\Omega = \\{(e_1, e_2, \\ldots, e_n) | e_i \\in \\{H, T\\}, i = 1,\\ldots n \\}\n",
    "$$\n",
    "\n",
    "The random variable $X$ counts the number of heads in each sequence. As all sequences are equally likely and the outcomes are mutually exclusive, we obtain the PMF of $X$ by counting the number of sequences with $x$ heads and dividing by the total number of sequences.\n",
    "\n",
    "As in the exercise @exr-pmf-binomial-1, consider a sequence of length $n$ with $x$ heads.\n",
    "\n",
    "- There are $n!$ ways to arrange the heads and tails in the sequence.\n",
    "- The order of the heads does not matter, so we divide by $x!$.\n",
    "- The order of the tails does not matter and if the sequence has $x$ heads, it must have $n - x$ tails. So we divide by $(n - x)!$.\n",
    "\n",
    "Therefore, the number of sequences with $x$ heads is\n",
    "\n",
    "$$\n",
    "\\binom{n}{x} = \\frac{n!}{x!(n - x)!}\n",
    "$$\n",
    "\n",
    "The probability of each sequence is $1/2^n$ and so the PMF of $X$ is\n",
    "\n",
    "$$\n",
    "f(x) = \\binom{n}{x} \\left(\\frac{1}{2}\\right)^n\n",
    "$$\n",
    ":::\n"
   ]
  },
  {
   "cell_type": "markdown",
   "metadata": {},
   "source": [
    ":::{#exr-pmf-binomial}\n",
    "## The Binomial Distribution\n",
    "\n",
    "In this exercise we will again consider a coin tossing experiment where you toss a coin $n$ times independently, but this time the coin will not be fair. Instead the probability of getting a head is $p$ and the probability of getting a tail is $1 - p$. Write down the PMF of the random variable $X$ that counts the number of heads in each sequence.\n",
    "\n",
    ":::\n",
    "\n",
    ":::{.callout-note collapse=\"true\"}\n",
    "## Solution (click to expand)\n",
    "\n",
    "As in the previous two examples the sample space consists of all sequences of length $n$ with heads and tails. For a sequence of length $n$ with $x$ heads, the number of sequences is\n",
    "\n",
    "$$\n",
    "\\binom{n}{x}\n",
    "$$\n",
    "\n",
    "The only difference is that the sequences are not equally likely anymore. We still assume that the tosses are independent.\n",
    "\n",
    "Because of independence, the probability of a sequence with $x$ heads is\n",
    "\n",
    "$$\n",
    "p^x (1 - p)^{n - x}\n",
    "$$\n",
    "\n",
    "The PMF of $X$ is then\n",
    "\n",
    "$$\n",
    "f(x) = \\binom{n}{x} p^x (1 - p)^{n - x}\n",
    "$$\n",
    "\n"
   ]
  },
  {
   "cell_type": "code",
   "execution_count": 6,
   "metadata": {},
   "outputs": [
    {
     "data": {
      "text/plain": [
       "Text(0, 0.5, 'Probability')"
      ]
     },
     "execution_count": 6,
     "metadata": {},
     "output_type": "execute_result"
    },
    {
     "data": {
      "image/png": "[encoded data removed]",
      "text/plain": [
       "<Figure size 640x480 with 1 Axes>"
      ]
     },
     "metadata": {},
     "output_type": "display_data"
    }
   ],
   "source": [
    "#| label: fig-binomial-pmf-plot\n",
    "#| fig-cap: Plot of the probability mass function of the binomial distribution with parameters n=6 and p=0.3.\n",
    "import numpy as np\n",
    "from scipy.stats import binom\n",
    "\n",
    "x = np.arange(0, 7)\n",
    "y = binom.pmf(x, n=6, p=0.3)\n",
    "\n",
    "sns.barplot(x=x, y=y)\n",
    "plt.xlabel('Number of successes')\n",
    "plt.ylabel('Probability')\n"
   ]
  },
  {
   "cell_type": "code",
   "execution_count": 7,
   "metadata": {},
   "outputs": [
    {
     "data": {
      "text/plain": [
       "Text(0.5694444444444446, 0.5, 'Proportions')"
      ]
     },
     "execution_count": 7,
     "metadata": {},
     "output_type": "execute_result"
    },
    {
     "data": {
      "image/png": "[encoded data removed]",
      "text/plain": [
       "<Figure size 500x500 with 1 Axes>"
      ]
     },
     "metadata": {},
     "output_type": "display_data"
    }
   ],
   "source": [
    "# Simulate the binomial distribution with n=6 and p=0.3\n",
    "\n",
    "binomial = np.random.binomial(n=6, p=0.3, size=1000)\n",
    "\n",
    "#| label: fig-binomial-epmf-simulated\n",
    "#| caption: Empirical probability mass function of the binomial distribution with parameters n=6 and p=0.3.\n",
    "\n",
    "sns.displot(x=binomial, stat='probability')\n",
    "plt.xlabel('Number of successes')\n",
    "plt.ylabel('Proportions')\n"
   ]
  },
  {
   "cell_type": "markdown",
   "metadata": {},
   "source": [
    "## Cumulative Distribution Function\n",
    "\n",
    "The probability mass function (PMF) of a random variable $X$ gives the probability of each possible value of $X$. The cumulative distribution function (CDF) of $X$ gives the probability that $X$ is less than or equal to a given value $x$.\n",
    "\n",
    ":::{#def-cdf}\n",
    "## Cumulative Distribution Function\n",
    "\n",
    "For a discrete random variable $X$, the cumulative distribution function (CDF) is defined as\n",
    "\n",
    "$$\n",
    "F(x) = P(X \\leq x) = \\sum_{y \\leq x} f(y)\n",
    "$$\n",
    "\n",
    "where $f(y)$ is the PMF of $X$ and the sum runs over all possible values of $y$ that are less than or equal to $x$.\n",
    "\n",
    ":::\n",
    "\n",
    ":::{#exr-cdf}\n",
    "## Properties of the CDF\n",
    "\n",
    "Consider a discrete random variable $X$ with PMF $f(x)$ and CDF $F(x)$. Show that the CDF satisfies the following properties:\n",
    "\n",
    "1. $F(x)$ is non-decreasing.\n",
    "2. $F(x) \\in [0, 1]$ for all $x$.\n",
    "3. $\\lim_{x \\to -\\infty} F(x) = 0$ and $\\lim_{x \\to \\infty} F(x) = 1$.\n",
    "4. $P(a < X \\leq b) = F(b) - F(a)$ for all $a < b$.\n",
    "5. $P(X = x) = F(x) - F(x - 1)$ for all $x$.\n",
    ":::"
   ]
  },
  {
   "cell_type": "markdown",
   "metadata": {},
   "source": [
    ":::{#exr-cdf-coins}\n",
    "## CDF of the Coin Tossing Game\n",
    "\n",
    "Consider our introductory example of the coin tossing game where you win 2 EUR for every head. Write down the CDF of the random variable $X$ that counts the amount of money you win and use it to calculate the following probabilities:\n",
    "\n",
    "1. The probability of winning between 1.5 and 3 EUR (inclusive).\n",
    "2. The probability to win more than 2.5 EUR.\n",
    "3. The probability of winning between 2 and 6 EUR (inclusive).\n",
    "\n",
    ":::\n",
    "\n",
    ":::{.callout-note collapse=\"true\"}\n",
    "## Solution (click to expand)\n",
    "\n",
    "The PMF of $X$ is\n",
    "\n",
    "$$\n",
    "f(x) = \\begin{cases}\n",
    "\\frac{1}{4} & \\text{if } x = 0 \\\\\n",
    "\\frac{1}{2} & \\text{if } x = 2 \\\\\n",
    "\\frac{1}{4} & \\text{if } x = 4 \\\\\n",
    "0 & \\text{otherwise}\n",
    "\\end{cases}\n",
    "$$\n",
    "\n",
    "The CDF of $X$ is\n",
    "\n",
    "$$\n",
    "F(x) = \\sum_{y \\leq x} f(y)\n",
    "$$\n",
    "\n",
    "$$\n",
    "F(x) = \\begin{cases}\n",
    "0 & \\text{if } x < 0 \\\\\n",
    "\\frac{1}{4} & \\text{if } 0 \\leq x < 2 \\\\\n",
    "\\frac{3}{4} & \\text{if } 2 \\leq x < 4 \\\\\n",
    "1 & \\text{if } x \\geq 4\n",
    "\\end{cases}\n",
    "$$\n",
    "\n",
    "The probability of winning between 1.5 and 3 EUR is\n",
    "\n",
    "$$\n",
    "P(1.5 \\leq X \\leq 3) = F(3) - F(1.5) + P(X = 1.5) = \\frac{3}{4} - \\frac{1}{4} + 0 = \\frac{1}{2}\n",
    "$$\n",
    "\n",
    "The probability of winning more than 2.5 EUR is\n",
    "\n",
    "$$\n",
    "P(X > 2.5) = 1 - P(X \\leq 2.5) = 1 - F(2.5) = 1 - \\frac{3}{4} = \\frac{1}{4}\n",
    "$$\n",
    "\n",
    "The probability of winning between 2 and 6 EUR is\n",
    "\n",
    "$$\n",
    "P(2 \\leq X \\leq 6) = F(6) - F(2) + P(X = 2) = 1 - \\frac{3}{4} + 0 = \\frac{1}{4}\n",
    "$$\n",
    "\n",
    "\n"
   ]
  },
  {
   "cell_type": "code",
   "execution_count": 8,
   "metadata": {},
   "outputs": [
    {
     "data": {
      "text/plain": [
       "Text(0, 0.5, 'Proportion of games with payoff less than or equal to x')"
      ]
     },
     "execution_count": 8,
     "metadata": {},
     "output_type": "execute_result"
    },
    {
     "data": {
      "image/png": "[encoded data removed]",
      "text/plain": [
       "<Figure size 640x480 with 1 Axes>"
      ]
     },
     "metadata": {},
     "output_type": "display_data"
    }
   ],
   "source": [
    "#| label: fig-coins-cdf-plot\n",
    "#| fig-cap: Plot of the cumulative distribution function of the payoff of the coin game.\n",
    "\n",
    "sns.ecdfplot(x=payoff)\n",
    "plt.xlabel('Payoff')\n",
    "plt.ylabel('Proportion of games with payoff less than or equal to x')\n"
   ]
  }
 ],
 "metadata": {
  "kernelspec": {
   "display_name": "stat2024",
   "language": "python",
   "name": "python3"
  },
  "language_info": {
   "codemirror_mode": {
    "name": "ipython",
    "version": 3
   },
   "file_extension": ".py",
   "mimetype": "text/x-python",
   "name": "python",
   "nbconvert_exporter": "python",
   "pygments_lexer": "ipython3",
   "version": "3.12.7"
  }
 },
 "nbformat": 4,
 "nbformat_minor": 2
}
