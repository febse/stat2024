{
 "cells": [
  {
   "cell_type": "markdown",
   "metadata": {},
   "source": [
    "# Combinatorics\n",
    "\n",
    "While counting things may seem simple, it can become quite when the number of things to count grows. For example, consider the following problem:\n",
    "\n",
    "As the example of the garden of forking data shows, we need to be able to count the number of ways to choose a subset of elements from a set. This is the subject of combinatorics and there are four basic formulas that we will use to solve these problems.\n",
    "\n",
    "## Multiplication Principle\n",
    "\n",
    "In the garden of forking data we needed to count the number of ways a collection of three white and one blue balls could produce samples three balls, selected with replacement. \n",
    "\n",
    "The first selected ball can be any of the four balls in the box and there are four possibilities. The second selected ball can also be any of the four balls in the box and there are again four possibilities.\n",
    "\n",
    "Up to now we have a total of $4 \\times 4 = 16$ possibilities. The last selected balls can also be any of the four balls in the box and there are four possibilities. The total number of possibilities is $4 \\times 4 \\times 4 = 64$.\n",
    "\n",
    "More generally, there are $n^s$ ways to select $s$ elements from a set of $n$ elements, with replacement.\n",
    "\n",
    "Even more generally, consider a DJ who has a set of $m_s$ salsa songs, $m_b$ bachata songs and $m_r$ reggaeton songs. The DJ plans to play a set of three songs, each of a different genre. How many possible sets of songs can the DJ play?\n",
    "\n",
    "- There are $m_s$ ways to select a salsa song.\n",
    "- There are $m_b$ ways to select a bachata song.\n",
    "- There are $m_r$ ways to select a reggaeton song.\n",
    "\n",
    "The total number of possible sets of songs is $m_s \\times m_b \\times m_r$.\n",
    "\n",
    "\n",
    "## Permutations\n",
    "\n",
    "A permutation is an arrangement of objects in a specific order. If we have a set of $n$ (distinct) objects and we want to arrange them in a specific order, there are $n!$ ways to do this. The factorial function is defined as:\n",
    "\n",
    "$$\n",
    "n! = n \\times (n-1) \\times (n-2) \\times \\ldots \\times 2 \\times 1\n",
    "$$\n",
    "\n",
    "How to explain this formula? Let's set $n = 5$ and consider a set of five songs that a DJ wants to play in sequence. The first song can be any of the five songs, the second song can be any of the remaining four songs, the third song can be any of the remaining three songs, and so on. The total number of ways to arrange the songs is $5 \\times 4 \\times 3 \\times 2 \\times 1 = 5! = 120$.\n",
    "\n",
    ":::{#ex-permutations}\n",
    "## Permutations\n",
    "\n",
    "You have 4 books on your shelf at home. In how many ways can you arrange them?\n",
    "\n",
    ":::\n"
   ]
  },
  {
   "cell_type": "code",
   "execution_count": 29,
   "metadata": {},
   "outputs": [
    {
     "name": "stdout",
     "output_type": "stream",
     "text": [
      "The number of possible arrangements is 3! = 3*2*1 = 6\n",
      "Check it out: 6\n",
      "All possible arrangements of the books:\n",
      "('Framed', 'Malas', 'Ellipses')\n",
      "('Framed', 'Ellipses', 'Malas')\n",
      "('Malas', 'Framed', 'Ellipses')\n",
      "('Malas', 'Ellipses', 'Framed')\n",
      "('Ellipses', 'Framed', 'Malas')\n",
      "('Ellipses', 'Malas', 'Framed')\n"
     ]
    }
   ],
   "source": [
    "import itertools\n",
    "import math\n",
    "import numpy as np\n",
    "\n",
    "# Create a list of 3 books\n",
    "\n",
    "books = [\"Framed\", \"Malas\", \"Ellipses\"]\n",
    "\n",
    "# The order of the books in the list above is one possible arrangement.\n",
    "\n",
    "# Generate all permutations of the books in the list above\n",
    "\n",
    "print(\"The number of possible arrangements is 3! = 3*2*1 = 6\")\n",
    "print(\"Check it out:\", math.factorial(3))\n",
    "print(\"All possible arrangements of the books:\")\n",
    "\n",
    "for p in itertools.permutations(books):\n",
    "    print(p)\n"
   ]
  },
  {
   "cell_type": "code",
   "execution_count": 23,
   "metadata": {},
   "outputs": [
    {
     "name": "stdout",
     "output_type": "stream",
     "text": [
      "The number of possible arrangements is 4! = 4*3*2*1 = 24\n",
      "Compare it with the result from math.factorial: 24\n",
      "All possible arrangements of the books:\n",
      "('Framed', 'Malas', 'Ellipses', 'Beautiful Days')\n",
      "('Framed', 'Malas', 'Beautiful Days', 'Ellipses')\n",
      "('Framed', 'Ellipses', 'Malas', 'Beautiful Days')\n",
      "('Framed', 'Ellipses', 'Beautiful Days', 'Malas')\n",
      "('Framed', 'Beautiful Days', 'Malas', 'Ellipses')\n",
      "('Framed', 'Beautiful Days', 'Ellipses', 'Malas')\n",
      "('Malas', 'Framed', 'Ellipses', 'Beautiful Days')\n",
      "('Malas', 'Framed', 'Beautiful Days', 'Ellipses')\n",
      "('Malas', 'Ellipses', 'Framed', 'Beautiful Days')\n",
      "('Malas', 'Ellipses', 'Beautiful Days', 'Framed')\n",
      "('Malas', 'Beautiful Days', 'Framed', 'Ellipses')\n",
      "('Malas', 'Beautiful Days', 'Ellipses', 'Framed')\n",
      "('Ellipses', 'Framed', 'Malas', 'Beautiful Days')\n",
      "('Ellipses', 'Framed', 'Beautiful Days', 'Malas')\n",
      "('Ellipses', 'Malas', 'Framed', 'Beautiful Days')\n",
      "('Ellipses', 'Malas', 'Beautiful Days', 'Framed')\n",
      "('Ellipses', 'Beautiful Days', 'Framed', 'Malas')\n",
      "('Ellipses', 'Beautiful Days', 'Malas', 'Framed')\n",
      "('Beautiful Days', 'Framed', 'Malas', 'Ellipses')\n",
      "('Beautiful Days', 'Framed', 'Ellipses', 'Malas')\n",
      "('Beautiful Days', 'Malas', 'Framed', 'Ellipses')\n",
      "('Beautiful Days', 'Malas', 'Ellipses', 'Framed')\n",
      "('Beautiful Days', 'Ellipses', 'Framed', 'Malas')\n",
      "('Beautiful Days', 'Ellipses', 'Malas', 'Framed')\n"
     ]
    }
   ],
   "source": [
    "# We can repeat this for a list of 4 books\n",
    "\n",
    "books4 = [\"Framed\", \"Malas\", \"Ellipses\", \"Beautiful Days\"]\n",
    "\n",
    "print(\"The number of possible arrangements is 4! = 4*3*2*1 = 24\")\n",
    "print(\"Compare it with the result from math.factorial:\", math.factorial(4))\n",
    "print(\"All possible arrangements of the books:\")\n",
    "\n",
    "# NOTE: code for demonstration only\n",
    "\n",
    "for p in itertools.permutations(books4):\n",
    "    print(p)\n"
   ]
  },
  {
   "cell_type": "markdown",
   "metadata": {},
   "source": [
    ":::{#exr-permutations}\n",
    "## Permutations\n",
    "\n",
    "A small company has 16 employees. They want to line up for a group photo. How many ways can they arrange themselves?\n",
    "\n",
    ":::"
   ]
  },
  {
   "cell_type": "code",
   "execution_count": 33,
   "metadata": {},
   "outputs": [
    {
     "data": {
      "text/plain": [
       "20922789888000"
      ]
     },
     "execution_count": 33,
     "metadata": {},
     "output_type": "execute_result"
    }
   ],
   "source": [
    "math.factorial(16)"
   ]
  },
  {
   "cell_type": "code",
   "execution_count": 34,
   "metadata": {},
   "outputs": [
    {
     "name": "stdout",
     "output_type": "stream",
     "text": [
      "20,922,789,888,000\n",
      "2.092279e+13\n"
     ]
    }
   ],
   "source": [
    "# NOTE: the code here only prettifies the large number so that we can read it more easily. You don't need to remember the syntax.\n",
    "\n",
    "print(f\"{math.factorial(16):,}\")\n",
    "print(f\"{math.factorial(16):e}\")"
   ]
  },
  {
   "cell_type": "code",
   "execution_count": 26,
   "metadata": {},
   "outputs": [
    {
     "data": {
      "text/plain": [
       "663.4573150684931"
      ]
     },
     "execution_count": 26,
     "metadata": {},
     "output_type": "execute_result"
    }
   ],
   "source": [
    "# To make some sense of this large number, let's say that the employees are unnaturally fast and can \n",
    "# make a photo of each arrangement in one millisecond. How many years would it take to make all the photos?\n",
    "\n",
    "math.factorial(16) / 1000 / 60 / 60 / 24 / 365"
   ]
  },
  {
   "cell_type": "code",
   "execution_count": 27,
   "metadata": {},
   "outputs": [
    {
     "name": "stdout",
     "output_type": "stream",
     "text": [
      "6.689503e+198\n"
     ]
    }
   ],
   "source": [
    "print(f\"{math.factorial(120):e}\")"
   ]
  },
  {
   "cell_type": "markdown",
   "metadata": {},
   "source": [
    "It is hard to imagine the magnitude of extremely large numbers such as $120!$ for example. To gain some perspective, take a look at the following short documentary (it goes to $10^{26}$).\n",
    "\n",
    "{{< video https://www.youtube.com/embed/44cv416bKP4?si=yzDHrjd0xuKCVtCm\n",
    "    title=\"Scales of the Universe in Powers of Ten\"\n",
    ">}}"
   ]
  },
  {
   "cell_type": "code",
   "execution_count": null,
   "metadata": {},
   "outputs": [],
   "source": []
  }
 ],
 "metadata": {
  "kernelspec": {
   "display_name": "stat2024",
   "language": "python",
   "name": "python3"
  },
  "language_info": {
   "codemirror_mode": {
    "name": "ipython",
    "version": 3
   },
   "file_extension": ".py",
   "mimetype": "text/x-python",
   "name": "python",
   "nbconvert_exporter": "python",
   "pygments_lexer": "ipython3",
   "version": "3.12.5"
  }
 },
 "nbformat": 4,
 "nbformat_minor": 2
}
