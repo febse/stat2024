{
 "cells": [
  {
   "cell_type": "code",
   "execution_count": 3,
   "metadata": {},
   "outputs": [],
   "source": [
    "#| echo: false\n",
    "\n",
    "import pandas as pd\n",
    "import numpy as np\n",
    "import matplotlib.pyplot as plt\n",
    "import seaborn as sns\n",
    "\n",
    "# NOTE: you can ignore this code, it's just for data preparation\n",
    "\n",
    "# Imports the age guessing data from the database,\n",
    "# restructures it and merges it with the game data.\n",
    "\n",
    "dt_raw = pd.read_json(\"https://get-uktfaces-data-suq3dizvtq-uc.a.run.app\")\n",
    "dt = pd.melt(\n",
    "    dt_raw.reset_index(names=\"FileId\"), \n",
    "    id_vars=[\"FileId\"],\n",
    "    var_name=\"UserId\",\n",
    "    value_name=\"Data\"\n",
    ")\n",
    "dt_measurements = pd.json_normalize(dt['Data']).rename(columns=lambda x: x[0].upper() + x[1:])\n",
    "dt = pd.concat([dt.drop(columns=[\"Data\"]), dt_measurements], axis=1)\n",
    "\n",
    "game = pd.read_json(\"https://get-uktfaces-game-suq3dizvtq-uc.a.run.app\").rename(columns={\"id\": \"FileId\", \"age\": \"Age\", \"race_f\": \"Race\", \"gender\": \"Gender\"})\n",
    "dt = dt.merge(game, on=\"FileId\", how=\"left\")[[\"FileId\", \"UserId\", \"Guess\", \"Age\", \"Race\", \"Gender\", \"Position\", \"TimeStart\", \"TimeEnd\"]].copy()"
   ]
  },
  {
   "cell_type": "markdown",
   "metadata": {},
   "source": [
    "# Descriptive Statistics\n",
    "\n",
    "[Open in Colab](https://colab.research.google.com/github/febse/stat2024/blob/main/02-Descriptive-Statistics.ipynb)\n",
    "\n",
    "## Introduction\n",
    "\n",
    "In this section we will learn the basic summaries of data and how to compute them using Python. We will also learn how to visualize data using histograms, box plots, and smoothed density plots."
   ]
  },
  {
   "cell_type": "markdown",
   "metadata": {},
   "source": [
    "## The Arithmetic Mean\n",
    "\n",
    "The arithmetic mean is a measure of central tendency that is calculated as the sum of the values divided by the number of values. It is the most common measure of central tendency and is often referred to simply as the \"average\".\n",
    "\n",
    "For a collection of $n$ values $x_1, x_2, \\ldots, x_n$, the arithmetic mean is calculated as:\n",
    "\n",
    "$$\n",
    "\\bar{x} = \\frac{1}{n} \\sum_{i=1}^{n} x_i\n",
    "$$\n",
    "\n",
    "Note that this notation is just a short way of writing:\n",
    "\n",
    "$$\n",
    "\\bar{x} = \\frac{x_1 + x_2 + \\ldots + x_n}{n}\n",
    "$$\n",
    "\n",
    ":::{#exm-mean}\n",
    "## The Arithmetic Mean\n",
    "\n",
    "\n",
    "For a collection of $n = 3$ values:  $x_1 = 5$, $x_2 = 4$, and $x_3 = 6$, the arithmetic mean is:\n",
    "\n",
    "$$\n",
    "\\bar{x} = \\frac{5 + 4 + 6}{3} = 5\n",
    "$$\n",
    "\n",
    ":::"
   ]
  },
  {
   "cell_type": "code",
   "execution_count": 4,
   "metadata": {},
   "outputs": [
    {
     "data": {
      "text/plain": [
       "5.0"
      ]
     },
     "execution_count": 4,
     "metadata": {},
     "output_type": "execute_result"
    }
   ],
   "source": [
    "# Calculating the average of a list of values\n",
    "\n",
    "np.mean([5, 4, 6])"
   ]
  },
  {
   "cell_type": "markdown",
   "metadata": {},
   "source": [
    ":::{.callout-important}\n",
    "# The Sum of Deviations from the Average\n",
    "\n",
    "Consider a collection of $n$ values $x_1, x_2, \\ldots, x_n$ with an arithmetic mean of $\\bar{x}$. For each value, we can define \n",
    "the deviation from the average as $x_i - \\bar{x}$. The sum of these deviations is always zero.\n",
    "\n",
    "$$\n",
    "\\sum_{i=1}^{n} (x_i - \\bar{x}) = 0\n",
    "$$\n",
    "\n",
    ":::\n",
    "\n",
    ":::{#exm-sum-of-deviations}\n",
    "Consider the collection of values $x_1 = 5$, $x_2 = 4$, and $x_3 = 6$ with an arithmetic mean of $\\bar{x} = 5$. The deviations from the average are:\n",
    "\n",
    "$$\n",
    "\\begin{align*}\n",
    "x_1 - \\bar{x} & = 5 - 5 = 0 \\\\\n",
    "x_2 - \\bar{x} & = 4 - 5 = -1 \\\\\n",
    "x_3 - \\bar{x} & = 6 - 5 = 1\n",
    "\\end{align*}\n",
    "$$\n",
    "\n",
    "The sum of these deviations is:\n",
    "\n",
    "$$\n",
    "(5 - 5) + (4 - 5) + (6 - 5) = 0 + (-1) + 1 = 0\n",
    "$$\n",
    ":::"
   ]
  },
  {
   "cell_type": "code",
   "execution_count": 8,
   "metadata": {},
   "outputs": [
    {
     "data": {
      "text/plain": [
       "array([  5,   4, 423,  23,  14])"
      ]
     },
     "execution_count": 8,
     "metadata": {},
     "output_type": "execute_result"
    }
   ],
   "source": [
    "# Create a numpy array (you can think of it as a list of values with a couple of special features)\n",
    "x = np.array([5, 4, 423, 23, 14])\n",
    "\n",
    "# To print the array, just type its name on the last line of the cell\n",
    "x"
   ]
  },
  {
   "cell_type": "code",
   "execution_count": 36,
   "metadata": {},
   "outputs": [
    {
     "data": {
      "text/plain": [
       "93.8"
      ]
     },
     "execution_count": 36,
     "metadata": {},
     "output_type": "execute_result"
    }
   ],
   "source": [
    "# Pass the values to the np.mean function to calculate the arithmetic average\n",
    "\n",
    "np.mean(x)"
   ]
  },
  {
   "cell_type": "code",
   "execution_count": 10,
   "metadata": {},
   "outputs": [
    {
     "data": {
      "text/plain": [
       "array([-88.8, -89.8, 329.2, -70.8, -79.8])"
      ]
     },
     "execution_count": 10,
     "metadata": {},
     "output_type": "execute_result"
    }
   ],
   "source": [
    "# Subtract the mean from each value in the array\n",
    "# Because this is the last line of the cell, the result will be printed\n",
    "x - np.mean(x)"
   ]
  },
  {
   "cell_type": "code",
   "execution_count": 11,
   "metadata": {},
   "outputs": [
    {
     "data": {
      "text/plain": [
       "0.0"
      ]
     },
     "execution_count": 11,
     "metadata": {},
     "output_type": "execute_result"
    }
   ],
   "source": [
    "# Pass the result to the np.sum function to calculate the sum of the differences\n",
    "# You will get a value of zero because the sum of the differences is always zero\n",
    "# This is a property of the arithmetic mean\n",
    "\n",
    "np.sum((x - np.mean(x)))"
   ]
  },
  {
   "cell_type": "markdown",
   "metadata": {},
   "source": [
    ":::{#exr-sum-of-deviations}\n",
    "## The Sum of Deviations from the Average\n",
    "\n",
    "Show that the sum of deviations from the average is always zero for any collection of values.\n",
    ":::\n",
    ":::{.callout-note collapse=\"true\"}\n",
    "## Solution (Click to expand)\n",
    "There are $n$ values $x_1, x_2, \\ldots, x_n$ with an arithmetic mean of $\\bar{x}$. The sum of deviations from the average is:\n",
    "\n",
    "$$\n",
    "\\begin{align*}\n",
    "\\sum_{i=1}^{n} (x_i - \\bar{x}) & = (x_1 - \\bar{x}) + (x_2 - \\bar{x}) + \\ldots + (x_n - \\bar{x}) \\\\\n",
    "& = x_1 + x_2 + \\ldots + x_n - (\\underbrace{\\bar{x} + \\bar{x} + \\ldots + \\bar{x}}_{\\text{n times}}) \\\\\n",
    "& = x_1 + x_2 + \\ldots + x_n - n\\bar{x} \\\\\n",
    "& = \\frac{n}{n}(x_1 + x_2 + \\ldots + x_n) - n\\bar{x} \\\\\n",
    "& = n \\frac{x_1 + x_2 + \\ldots + x_n}{n} - n\\bar{x} \\\\\n",
    "& = n\\bar{x} - n\\bar{x} = 0\n",
    "\\end{align*}\n",
    "$$\n",
    "\n",
    ":::"
   ]
  },
  {
   "cell_type": "markdown",
   "metadata": {},
   "source": [
    "As we have seen, it is hard to guess the exact age of a person. In our example we happen to know the age of the persons at the time the images were taken and so we can calculate the error of the guesses. The error is the difference between the guess and the actual age. We can calculate the mean error and the median error.\n",
    "\n",
    "$$\n",
    "\\text{Guess Error} = \\text{Guessed Age} - \\text{Actual Age}\n",
    "$$\n",
    "\n",
    "The guesses are contained in the `Guess` column and the actual ages in the `Age` column. The error is calculated as `Guess - Age`. We will create a new column in the DataFrame called `GuessError` to store the errors."
   ]
  },
  {
   "cell_type": "code",
   "execution_count": 21,
   "metadata": {},
   "outputs": [
    {
     "data": {
      "text/html": [
       "<div>\n",
       "<style scoped>\n",
       "    .dataframe tbody tr th:only-of-type {\n",
       "        vertical-align: middle;\n",
       "    }\n",
       "\n",
       "    .dataframe tbody tr th {\n",
       "        vertical-align: top;\n",
       "    }\n",
       "\n",
       "    .dataframe thead th {\n",
       "        text-align: right;\n",
       "    }\n",
       "</style>\n",
       "<table border=\"1\" class=\"dataframe\">\n",
       "  <thead>\n",
       "    <tr style=\"text-align: right;\">\n",
       "      <th></th>\n",
       "      <th>Guess</th>\n",
       "      <th>Age</th>\n",
       "      <th>GuessError</th>\n",
       "    </tr>\n",
       "  </thead>\n",
       "  <tbody>\n",
       "    <tr>\n",
       "      <th>0</th>\n",
       "      <td>58</td>\n",
       "      <td>72</td>\n",
       "      <td>-14</td>\n",
       "    </tr>\n",
       "    <tr>\n",
       "      <th>1</th>\n",
       "      <td>70</td>\n",
       "      <td>62</td>\n",
       "      <td>8</td>\n",
       "    </tr>\n",
       "    <tr>\n",
       "      <th>2</th>\n",
       "      <td>57</td>\n",
       "      <td>75</td>\n",
       "      <td>-18</td>\n",
       "    </tr>\n",
       "    <tr>\n",
       "      <th>3</th>\n",
       "      <td>19</td>\n",
       "      <td>21</td>\n",
       "      <td>-2</td>\n",
       "    </tr>\n",
       "    <tr>\n",
       "      <th>4</th>\n",
       "      <td>30</td>\n",
       "      <td>28</td>\n",
       "      <td>2</td>\n",
       "    </tr>\n",
       "  </tbody>\n",
       "</table>\n",
       "</div>"
      ],
      "text/plain": [
       "   Guess  Age  GuessError\n",
       "0     58   72         -14\n",
       "1     70   62           8\n",
       "2     57   75         -18\n",
       "3     19   21          -2\n",
       "4     30   28           2"
      ]
     },
     "execution_count": 21,
     "metadata": {},
     "output_type": "execute_result"
    }
   ],
   "source": [
    "# What was the average guess error in the dataset? First let's calculate the guess error for each row.\n",
    "\n",
    "dt[\"GuessError\"] = dt[\"Guess\"] - dt[\"Age\"]\n",
    "\n",
    "# Selects the Guess, Age and GuessError columns and shows the first 5 rows.\n",
    "dt[['Guess', 'Age', 'GuessError']].head()"
   ]
  },
  {
   "cell_type": "code",
   "execution_count": 22,
   "metadata": {},
   "outputs": [
    {
     "data": {
      "text/plain": [
       "1.665266106442577"
      ]
     },
     "execution_count": 22,
     "metadata": {},
     "output_type": "execute_result"
    }
   ],
   "source": [
    "\n",
    "# There are multiple ways to calculate the average age of the users in the dataset.\n",
    "## Using the mean function\n",
    "\n",
    "np.mean(dt[\"GuessError\"])"
   ]
  },
  {
   "cell_type": "code",
   "execution_count": 23,
   "metadata": {},
   "outputs": [
    {
     "data": {
      "text/plain": [
       "1.665266106442577"
      ]
     },
     "execution_count": 23,
     "metadata": {},
     "output_type": "execute_result"
    }
   ],
   "source": [
    "## Using the mean method of the column\n",
    "\n",
    "dt[\"GuessError\"].mean()"
   ]
  },
  {
   "cell_type": "code",
   "execution_count": 24,
   "metadata": {},
   "outputs": [
    {
     "name": "stdout",
     "output_type": "stream",
     "text": [
      "The average guess errors in the images was 1.67 years.\n"
     ]
    }
   ],
   "source": [
    "# Here we will print the average guess error and round it to two decimal places\n",
    "\n",
    "print(\"The average guess errors in the images was\", dt[\"GuessError\"].mean().round(2), \"years.\")"
   ]
  },
  {
   "cell_type": "markdown",
   "metadata": {},
   "source": [
    ":::{#exm-mean-2}\n",
    "## The Average Guess Duration\n",
    "\n",
    "- Create a new column in the dataset `dt` called `GD` (short for \"Guess Duration\") that contains the time (in _seconds_) it took for each participant to guess the age of the person in the photo. \n",
    "- Calculate the arithmetic mean of the guess duration. Use the `TimeEnd` and `TimeStart` columns to calculate the guess duration and keep in mind that `TimeStart` and `TimeEnd` are measured in milliseconds.\n",
    "\n",
    ":::"
   ]
  },
  {
   "cell_type": "code",
   "execution_count": 37,
   "metadata": {},
   "outputs": [
    {
     "data": {
      "text/html": [
       "<div>\n",
       "<style scoped>\n",
       "    .dataframe tbody tr th:only-of-type {\n",
       "        vertical-align: middle;\n",
       "    }\n",
       "\n",
       "    .dataframe tbody tr th {\n",
       "        vertical-align: top;\n",
       "    }\n",
       "\n",
       "    .dataframe thead th {\n",
       "        text-align: right;\n",
       "    }\n",
       "</style>\n",
       "<table border=\"1\" class=\"dataframe\">\n",
       "  <thead>\n",
       "    <tr style=\"text-align: right;\">\n",
       "      <th></th>\n",
       "      <th>TimeStart</th>\n",
       "      <th>TimeEnd</th>\n",
       "      <th>GD</th>\n",
       "    </tr>\n",
       "  </thead>\n",
       "  <tbody>\n",
       "    <tr>\n",
       "      <th>0</th>\n",
       "      <td>1728456243117</td>\n",
       "      <td>1728456250343</td>\n",
       "      <td>7.226</td>\n",
       "    </tr>\n",
       "    <tr>\n",
       "      <th>1</th>\n",
       "      <td>1728456238837</td>\n",
       "      <td>1728456243116</td>\n",
       "      <td>4.279</td>\n",
       "    </tr>\n",
       "    <tr>\n",
       "      <th>2</th>\n",
       "      <td>1728456228654</td>\n",
       "      <td>1728456235495</td>\n",
       "      <td>6.841</td>\n",
       "    </tr>\n",
       "    <tr>\n",
       "      <th>3</th>\n",
       "      <td>1728456288579</td>\n",
       "      <td>1728456295650</td>\n",
       "      <td>7.071</td>\n",
       "    </tr>\n",
       "    <tr>\n",
       "      <th>4</th>\n",
       "      <td>1728456250345</td>\n",
       "      <td>1728456254708</td>\n",
       "      <td>4.363</td>\n",
       "    </tr>\n",
       "  </tbody>\n",
       "</table>\n",
       "</div>"
      ],
      "text/plain": [
       "       TimeStart        TimeEnd     GD\n",
       "0  1728456243117  1728456250343  7.226\n",
       "1  1728456238837  1728456243116  4.279\n",
       "2  1728456228654  1728456235495  6.841\n",
       "3  1728456288579  1728456295650  7.071\n",
       "4  1728456250345  1728456254708  4.363"
      ]
     },
     "execution_count": 37,
     "metadata": {},
     "output_type": "execute_result"
    }
   ],
   "source": [
    "# Write your code here and run it\n",
    "\n",
    "# The TimeEnd and TimeStart contain the time in milliseconds when the user started seeing the image and when they finished.\n",
    "# To calculate the number of seconds the user spent seeing the image, we need to subtract TimeStart from TimeEnd.\n",
    "# As both columns are measured in milliseconds, the result will also be in milliseconds.\n",
    "# We want the new column to be in seconds, so we need to divide the result by 1000.\n",
    "\n",
    "dt[\"GD\"] = (dt[\"TimeEnd\"] - dt[\"TimeStart\"]) / 1000\n",
    "\n",
    "# Print out the first few rows of the three columns as a check\n",
    "dt[[\"TimeStart\", \"TimeEnd\", \"GD\"]].head()\n"
   ]
  },
  {
   "cell_type": "code",
   "execution_count": 39,
   "metadata": {},
   "outputs": [
    {
     "data": {
      "text/plain": [
       "7.226"
      ]
     },
     "execution_count": 39,
     "metadata": {},
     "output_type": "execute_result"
    }
   ],
   "source": [
    "# You can also manually check the calculation in the first row by\n",
    "# just copying the values from the TimeStart and TimeEnd columns and\n",
    "# dividing by 1000.\n",
    "\n",
    "(1728456250343 - 1728456243117) / 1000"
   ]
  },
  {
   "cell_type": "markdown",
   "metadata": {},
   "source": [
    "## The Median and Mode\n",
    "\n",
    "For a collection of values $x_1, x_2, \\ldots, x_n$, the **median** is the middle value when the values are sorted in ascending order. If the number of values is odd, the median is the middle value. If the number of values is even, the median is the average of the two middle values. It is a measure of central tendency that is less sensitive to extreme observations than the mean.\n",
    "\n",
    "The **mode** is the value that appears most frequently in a collection of values. A collection of values can have no mode (all values appear equally frequently), one mode, or multiple modes (two or more values appear equally frequently).\n",
    "The mode is generally only useful for categorical data (such as gender, employment status, etc.) and not for continuous data (such as income, speed, duration, etc.).\n",
    "\n",
    ":::{#exm-median}\n",
    "## Computing the Median\n",
    "\n",
    "Let's compute the median for \n",
    "\n",
    "$$\n",
    "(1, 5, 3, 4, 2)\n",
    "$$. \n",
    "\n",
    "First, we sort the values in ascending order: \n",
    "\n",
    "$$\n",
    "(1, 2, 3, 4, 5)\n",
    "$$.\n",
    "\n",
    "Since the number of values is odd (5), the median is the middle value, which is $3$. _Approximately_ half of the values are less than the median and _Approximately_ half are greater than the median. In this example $1$ and $2$ are less than the median and $4$ and $5$ are greater than the median (so not _exactly_ 50 percent).\n",
    "\n",
    "Let's compute the median for \n",
    "\n",
    "$$\n",
    "(7, 5, 12, 4, 2, 1.2)\n",
    "$$.\n",
    "\n",
    "First, we sort the values in ascending order: \n",
    "\n",
    "$$\n",
    "(1.2, 2, 4, 5, 7, 12)\n",
    "$$.\n",
    "\n",
    "Since the number of values is 6, therefore _even_, so the median is the average of the two middle values, which are $4$ and $5$. Therefore, the median is $(4 + 5) / 2 = 4.5$. Again, _approximately_ half of the values are less than the median and half are greater than the median.\n",
    "\n",
    ":::\n",
    "\n"
   ]
  },
  {
   "cell_type": "code",
   "execution_count": 26,
   "metadata": {},
   "outputs": [
    {
     "data": {
      "text/plain": [
       "3.0"
      ]
     },
     "execution_count": 26,
     "metadata": {},
     "output_type": "execute_result"
    }
   ],
   "source": [
    "# The same example as above using the median function from numpy\n",
    "\n",
    "np.median([1, 5, 3, 4, 2])"
   ]
  },
  {
   "cell_type": "code",
   "execution_count": 27,
   "metadata": {},
   "outputs": [
    {
     "data": {
      "text/plain": [
       "4.5"
      ]
     },
     "execution_count": 27,
     "metadata": {},
     "output_type": "execute_result"
    }
   ],
   "source": [
    "np.median([1.2, 2, 4, 5, 7, 12])"
   ]
  },
  {
   "cell_type": "code",
   "execution_count": 28,
   "metadata": {},
   "outputs": [
    {
     "data": {
      "text/plain": [
       "1.0"
      ]
     },
     "execution_count": 28,
     "metadata": {},
     "output_type": "execute_result"
    }
   ],
   "source": [
    "# The median of the guess error\n",
    "\n",
    "np.median(dt[\"GuessError\"])"
   ]
  },
  {
   "cell_type": "markdown",
   "metadata": {},
   "source": [
    "The median guess error is one year. This means that about half of the errors were less than one year and about half were larger than one year."
   ]
  },
  {
   "cell_type": "markdown",
   "metadata": {},
   "source": [
    ":::{#exr-median}\n",
    "## Computing the Median\n",
    "\n",
    "Compute the median for the following collections of values: $z = (2.1, 5, 8, 1, 2, 3)$ first on a piece of paper and then using Python.\n",
    "\n",
    ":::"
   ]
  },
  {
   "cell_type": "markdown",
   "metadata": {},
   "source": [
    ":::{.callout-note collapse=\"true\"}\n",
    "## Solution (Click to expand)\n",
    "\n",
    "1. Sort the values in ascending order\n",
    "\n",
    "$$\n",
    "(1, 2, 2.1, 3, 5, 8)\n",
    "$$.\n",
    "\n",
    "See if the number of values is odd or even. Since the number of values is 6, the median is the average of the two middle values, which are $2.1$ and $3$. Therefore, the median is $(2.1 + 3) / 2 = 2.55$.\n",
    ":::"
   ]
  },
  {
   "cell_type": "code",
   "execution_count": 40,
   "metadata": {},
   "outputs": [
    {
     "data": {
      "text/plain": [
       "2.55"
      ]
     },
     "execution_count": 40,
     "metadata": {},
     "output_type": "execute_result"
    }
   ],
   "source": [
    "# Write your code here and run it\n",
    "\n",
    "np.median([2.1, 5, 8, 1, 2, 3])"
   ]
  },
  {
   "cell_type": "markdown",
   "metadata": {},
   "source": [
    "## The Range of the Data\n",
    "\n",
    "Reporting the average of a collection of values is useful, but it only tells a part of the story. We also want to know how different the values in the collection are. One way to measure this is to describe the variation of the data. There are multiple ways to measure the variation of a dataset, here we will start with the percentiles and the range.\n",
    "\n",
    "- The smallest value in the dataset is called the **minimum** (or the 0th percentile, 0th quartile, or 0th decile).\n",
    "- The largest value in the dataset is called the **maximum** (or the 100th percentile, 100th quartile, or 100th decile).\n",
    "\n",
    "- The **range** of the data is the pair of the minimum and the maximum. (Sometime the range is understood as the difference between the maximum and the minimum.)\n",
    "- The **span** of the data is the difference between the maximum and the minimum.\n",
    "- The difference between the 75th percentile and the 25th percentile is called the **interquartile range** (IQR) and it is a measure of the spread of the middle 50% of the data.\n",
    "\n",
    "## The Quartiles\n",
    "\n",
    "- The **first quartile** (Q1): approximately 25% of the data fall below this value.\n",
    "- The **second quartile** (Q2) is the value below which (approx.) 50% of the data fall. This is just another name for the _median_.\n",
    "- The **third quartile** (Q3) is the value below which (approx.) 75% of the data fall.\n",
    "\n",
    "Instead of four parts (quartiles), we can divide the data into ten parts (deciles) or one hundred parts (percentiles) or into any number of parts (quantiles).\n",
    "\n",
    "- The **first decile** (D1) is the value below which (approx.) 10% of the data fall.\n",
    "- The **second decile** (D2) is the value below which (approx.) 20% of the data fall.\n",
    "...\n",
    "- The **ninth decile** (D9) is the value below which (approx.) 90% of the data fall.\n",
    "\n",
    "- The **first percentile** (P1) is the value below which (approx.) 1% of the data fall.\n",
    "- The **second percentile** (P2) is the value below which (approx.) 2% of the data fall.\n",
    "...\n",
    "- The **ninetieth percentile** (P90) is the value below which (approx.) 90% of the data fall.\n",
    "- The **ninety-ninth percentile** (P99) is the value below which (approx.) 99% of the data fall.\n",
    "\n"
   ]
  },
  {
   "cell_type": "code",
   "execution_count": 30,
   "metadata": {},
   "outputs": [
    {
     "data": {
      "text/plain": [
       "array([-3.,  1.,  7.])"
      ]
     },
     "execution_count": 30,
     "metadata": {},
     "output_type": "execute_result"
    }
   ],
   "source": [
    "# We can compute the quartiles of the guesses of the users in the dataset using the quantile method\n",
    "# and the numpy quantile function.\n",
    "\n",
    "np.quantile(dt[\"GuessError\"], [0.25, 0.5, 0.75])"
   ]
  },
  {
   "cell_type": "markdown",
   "metadata": {},
   "source": [
    "The result from the quantile function tells us the values of the three quartiles: (25% or 0.25: Q1 (the first quartile)),\n",
    "(50% or 0.5: Q2 (the second quartile, the median)), and (75% or 0.75: Q3 (the third quartile)).\n",
    "\n",
    "- The first quartile (Q1) is -3 years, so about one quarter of the guesses _underestimated_ the age by more than 3 years.\n",
    "- The median is 1 year, so about half of the guesses _overestimated_ the age by more than 1 year.\n",
    "- The third quartile (Q3) is 7 years, meaning that about one quarter of the guesses _overestimated_ the age by more than 7 years and that the guess error was less than 7 years in about 75% of the guesses.\n"
   ]
  },
  {
   "cell_type": "code",
   "execution_count": 31,
   "metadata": {},
   "outputs": [
    {
     "data": {
      "text/plain": [
       "0.25   -3.0\n",
       "0.50    1.0\n",
       "0.75    7.0\n",
       "Name: GuessError, dtype: float64"
      ]
     },
     "execution_count": 31,
     "metadata": {},
     "output_type": "execute_result"
    }
   ],
   "source": [
    "# Pandas Series (a column of a DataFrame) also have a quantile method.\n",
    "\n",
    "dt[\"GuessError\"].quantile([0.25, 0.5, 0.75])"
   ]
  },
  {
   "cell_type": "code",
   "execution_count": 32,
   "metadata": {},
   "outputs": [
    {
     "data": {
      "text/plain": [
       "count    714.000000\n",
       "mean       1.665266\n",
       "std        9.569631\n",
       "min      -29.000000\n",
       "25%       -3.000000\n",
       "50%        1.000000\n",
       "75%        7.000000\n",
       "max       60.000000\n",
       "Name: GuessError, dtype: float64"
      ]
     },
     "execution_count": 32,
     "metadata": {},
     "output_type": "execute_result"
    }
   ],
   "source": [
    "# A quick way to get an overview of the data is to use the describe method of a pandas Series (a column of a DataFrame).\n",
    "\n",
    "dt[\"GuessError\"].describe()"
   ]
  },
  {
   "cell_type": "markdown",
   "metadata": {},
   "source": [
    ":::{.callout-important}\n",
    "## Minimum and Maximum\n",
    "\n",
    "When working with data it is important to check the extreme values (minimum and maximum). Data collection and programming errors can often be discovered\n",
    "by checking the plausible range of the data. For example, if you are working with a dataset of ages, and you find that the minimum age is -5, then you know that there is an error in the data collection process. Similarly, if you are working with a dataset of heights and you find that the maximum height is 300 cm, then you should examine the data processing steps.\n",
    ":::"
   ]
  },
  {
   "cell_type": "markdown",
   "metadata": {},
   "source": [
    "## The Boxplot\n",
    "\n",
    "The boxplot is a visualization of the quartiles of a distribution. It shows the minimum and maximum values, the first quartile, the median, and the third quartile. The boxplot is a useful tool for identifying outliers in the data and for comparing distributions.\n",
    "\n",
    "The boxplot is constructed as follows:\n",
    "\n",
    "1. A box is drawn from the first quartile to the third quartile. (How many values are in the box?)\n",
    "2. A line is drawn inside the box at the median.\n",
    "3. Lines (whiskers) are drawn from the box to the minimum and maximum values that are not outliers.\n",
    "4. Outliers are plotted as individual points.\n",
    "\n",
    "By default, values that are more than 1.5 times the IQR range from the first or third quartile are shown as outliers.\n",
    "\n",
    ":::{.callout-warning}\n",
    "## Outliers and Errors\n",
    "\n",
    "The term \"outlier\" is often used to describe values that are unusual or unexpected. Outliers can result from errors in the data collection process, from unusual events, or from the _natural variability of the data_. Identifying outliers is very important because they can help you find errors in your data (perhaps wrong data entry, wrong programming logic, etc.). However, you should never think of outliers as \"bad\" data, unless you can indeed identify the source of the error. You cannot simply remove outliers from your data without understanding why they are there.\n",
    "\n",
    "Later on we will see that whether or not an observation looks unusual (an outlier) or not only makes sense in the context of a \n",
    "specific statistical model.\n",
    "\n",
    ":::\n"
   ]
  },
  {
   "cell_type": "code",
   "execution_count": 33,
   "metadata": {},
   "outputs": [
    {
     "data": {
      "text/plain": [
       "<matplotlib.lines.Line2D at 0x7fe412e3d430>"
      ]
     },
     "execution_count": 33,
     "metadata": {},
     "output_type": "execute_result"
    },
    {
     "data": {
      "image/png": "[encoded data removed]",
      "text/plain": [
       "<Figure size 640x480 with 1 Axes>"
      ]
     },
     "metadata": {},
     "output_type": "display_data"
    }
   ],
   "source": [
    "# One way to create a boxplot easily is to use the seaborn library (it is imported as sns at the top of this notebook).\n",
    "\n",
    "sns.boxplot(data=dt, x=\"GuessError\")\n",
    "plt.axvline(x=0, color='r', linestyle='--')"
   ]
  },
  {
   "cell_type": "code",
   "execution_count": 34,
   "metadata": {},
   "outputs": [
    {
     "data": {
      "text/plain": [
       "<matplotlib.lines.Line2D at 0x7fe4122532f0>"
      ]
     },
     "execution_count": 34,
     "metadata": {},
     "output_type": "execute_result"
    },
    {
     "data": {
      "image/png": "[encoded data removed]",
      "text/plain": [
       "<Figure size 640x480 with 1 Axes>"
      ]
     },
     "metadata": {},
     "output_type": "display_data"
    }
   ],
   "source": [
    "#| label: fig-boxplots-rage-gender\n",
    "#| fig-cap: \"Separate boxplots for the distribution of the guess errors by gender and race of the person in the image\"\n",
    "\n",
    "sns.boxplot(data=dt, x=\"GuessError\", y=\"Gender\", hue=\"Race\")\n",
    "plt.axvline(0, color=\"red\", linestyle=\"--\")"
   ]
  },
  {
   "cell_type": "markdown",
   "metadata": {},
   "source": [
    ":::{#exr-quantiles}\n",
    "## The Quartiles and the Percentiles\n",
    "\n",
    "You have already create a column `GD` (guess duration) in the previous exercise. Now use this column to solve the following tasks:\n",
    "\n",
    "1. What was the longest guess duration? (Use the `max` method of the new column.)\n",
    "2. What was the shortest guess duration? (Use the `min` method of the new column.)\n",
    "3. Use the quantile method of the new column to calculate the first quartile, the median, and the third quartile. Write a short sentence explaining the meaning of these values.\n",
    "4. What was the guess duration such that 90% of the guesses took less than this duration? (Use the `quantile` method of the new column.)\n",
    "5. What was the guess duration such that 20% took more than this duration? (Use the `quantile` method of the new column.)\n",
    "6. Draw a boxplot of the guess durations.\n",
    "7. Draw a boxplot of the guess duration by `Gender`. Did the participants tend to take longer in guessing the age of males or females?\n",
    "8. Draw a boxplot of the guess duration by `Gender` and `Race`. Did the participants tend to take longer in guessing the age of non-white women?\n",
    ":::"
   ]
  },
  {
   "cell_type": "code",
   "execution_count": null,
   "metadata": {},
   "outputs": [],
   "source": [
    "# Write your code here, then compare it with the solution below."
   ]
  },
  {
   "cell_type": "code",
   "execution_count": 58,
   "metadata": {},
   "outputs": [
    {
     "name": "stdout",
     "output_type": "stream",
     "text": [
      "The fastest guess took  1.707 seconds.\n",
      "The slowest guess took  202.204 seconds.\n"
     ]
    }
   ],
   "source": [
    "# Solution\n",
    "\n",
    "# 1. To compute the minimum\n",
    "\n",
    "print(\"The fastest guess took \", dt[\"GD\"].min(), \"seconds.\")\n",
    "\n",
    "# 2. To compute the maximum\n",
    "\n",
    "print(\"The slowest guess took \", dt[\"GD\"].max(), \"seconds.\")"
   ]
  },
  {
   "cell_type": "code",
   "execution_count": 47,
   "metadata": {},
   "outputs": [
    {
     "data": {
      "text/plain": [
       "0.25     5.26900\n",
       "0.50     8.32850\n",
       "0.75    15.63325\n",
       "Name: GD, dtype: float64"
      ]
     },
     "execution_count": 47,
     "metadata": {},
     "output_type": "execute_result"
    }
   ],
   "source": [
    "# 3. Now compute the quartiles\n",
    "\n",
    "dt[\"GD\"].quantile([0.25, 0.5, 0.75])"
   ]
  },
  {
   "cell_type": "markdown",
   "metadata": {},
   "source": [
    "About one quarter of the guesses took less than 5.3 seconds (Q1). About three quarters took more than 5.3 seconds.\n",
    "In about half the guesses the users spent less than 8.3 seconds (median) and in about half the guesses the users spended more than 8.3 seconds.\n",
    "The third quartile tells us about the longest guesses. About one quarter of all guesses took more than 15.6 seconds. Respectively, about three quarters took less than 15.6 seconds."
   ]
  },
  {
   "cell_type": "code",
   "execution_count": 60,
   "metadata": {},
   "outputs": [
    {
     "data": {
      "text/plain": [
       "31.921600000000016"
      ]
     },
     "execution_count": 60,
     "metadata": {},
     "output_type": "execute_result"
    }
   ],
   "source": [
    "# 4. Here we want to find the 90th percentile (0.9 quantile)\n",
    "\n",
    "dt[\"GD\"].quantile(0.9)"
   ]
  },
  {
   "cell_type": "markdown",
   "metadata": {},
   "source": [
    "Its value is 31.9 seconds. This means that about 90% of the guesses took less than 31.9 seconds."
   ]
  },
  {
   "cell_type": "code",
   "execution_count": 62,
   "metadata": {},
   "outputs": [
    {
     "data": {
      "text/plain": [
       "18.546599999999998"
      ]
     },
     "execution_count": 62,
     "metadata": {},
     "output_type": "execute_result"
    }
   ],
   "source": [
    "# 5. Here we are looking for the 80th percentile (0.8 quantile)\n",
    "\n",
    "dt[\"GD\"].quantile(0.8)"
   ]
  },
  {
   "cell_type": "markdown",
   "metadata": {},
   "source": [
    "Its value is 18.5 seconds, meaning that about 20% of the guesses took longer than 18.5 seconds, and about 80% took less than this."
   ]
  },
  {
   "cell_type": "code",
   "execution_count": 63,
   "metadata": {},
   "outputs": [
    {
     "data": {
      "text/plain": [
       "<Axes: xlabel='GD'>"
      ]
     },
     "execution_count": 63,
     "metadata": {},
     "output_type": "execute_result"
    },
    {
     "data": {
      "image/png": "[encoded data removed]",
      "text/plain": [
       "<Figure size 640x480 with 1 Axes>"
      ]
     },
     "metadata": {},
     "output_type": "display_data"
    }
   ],
   "source": [
    "# 6. Boxplot of the guess duration\n",
    "\n",
    "sns.boxplot(data=dt, x=\"GD\")"
   ]
  },
  {
   "cell_type": "markdown",
   "metadata": {},
   "source": [
    "The boxplot depicts the minimum and maximum values, the first quartile, the median, and the third quartile. The whisker on the left side of the box extends to the minimum value. The maximum value is shown as an individual point, as it is classified as an outlier."
   ]
  },
  {
   "cell_type": "code",
   "execution_count": 64,
   "metadata": {},
   "outputs": [
    {
     "data": {
      "text/plain": [
       "<Axes: xlabel='GD', ylabel='Gender'>"
      ]
     },
     "execution_count": 64,
     "metadata": {},
     "output_type": "execute_result"
    },
    {
     "data": {
      "image/png": "[encoded data removed]",
      "text/plain": [
       "<Figure size 640x480 with 1 Axes>"
      ]
     },
     "metadata": {},
     "output_type": "display_data"
    }
   ],
   "source": [
    "# 7. Boxplot of the guess duration by gender\n",
    "\n",
    "sns.boxplot(data = dt, x = \"GD\", y = \"Gender\")"
   ]
  },
  {
   "cell_type": "markdown",
   "metadata": {},
   "source": [
    "This boxplot shows us the distributions of the guess durations for images with women and with men. The guess durations for men appear to be more dispersed than those for women (judging from the IQR, the whiskers and the outliers). This may indicate that the participants were more uncertain about the age of some of the men and took longer to enter their guesses.\n"
   ]
  },
  {
   "cell_type": "code",
   "execution_count": 65,
   "metadata": {},
   "outputs": [
    {
     "data": {
      "text/plain": [
       "<Axes: xlabel='GD', ylabel='Gender'>"
      ]
     },
     "execution_count": 65,
     "metadata": {},
     "output_type": "execute_result"
    },
    {
     "data": {
      "image/png": "[encoded data removed]",
      "text/plain": [
       "<Figure size 640x480 with 1 Axes>"
      ]
     },
     "metadata": {},
     "output_type": "display_data"
    }
   ],
   "source": [
    "# 8. Boxplot of the guess duration by gender and race\n",
    "\n",
    "sns.boxplot(data = dt, x = \"GD\", y =\"Gender\", hue=\"Race\")"
   ]
  },
  {
   "cell_type": "markdown",
   "metadata": {},
   "source": [
    "The comparison of the distributions of guess durations by both gender and race shows that the guess durations were most dispersed for non-white men. Furthermore, the median guess duration (line inside the box of the boxplot) was the longest for this group. This may indicate that the participants were more uncertain about guessing the age in this group and took longer to think about their guesses."
   ]
  },
  {
   "cell_type": "markdown",
   "metadata": {},
   "source": [
    "## Bar Charts\n",
    "\n",
    "You are probably already familiar with bar charts as these are pervasive in the media. Bar charts are commonly used to visualize the frequency (the number of observations) of different categories. The height of the bars represents the frequency of each category.\n",
    "\n",
    "We can count how many times each value appears in a column using the `value_counts` method. For example, let's count the number of guesses for men and women in the dataset."
   ]
  },
  {
   "cell_type": "code",
   "execution_count": 48,
   "metadata": {},
   "outputs": [
    {
     "data": {
      "text/plain": [
       "Gender\n",
       "M    378\n",
       "F    336\n",
       "Name: count, dtype: int64"
      ]
     },
     "execution_count": 48,
     "metadata": {},
     "output_type": "execute_result"
    }
   ],
   "source": [
    "dt[\"Gender\"].value_counts()"
   ]
  },
  {
   "cell_type": "markdown",
   "metadata": {},
   "source": [
    "The result of `.value_counts()` tells us that the users guessed the age of 378 images of men and 336 images of women. This is\n",
    "what we call a _frequency table_. A very common visualization of a frequency table is a bar chart. The height (length if it is horizontal as in the example here) of the bars in this figure represent the frequency of each category."
   ]
  },
  {
   "cell_type": "code",
   "execution_count": 36,
   "metadata": {},
   "outputs": [
    {
     "data": {
      "text/plain": [
       "<Axes: xlabel='count', ylabel='Gender'>"
      ]
     },
     "execution_count": 36,
     "metadata": {},
     "output_type": "execute_result"
    },
    {
     "data": {
      "image/png": "[encoded data removed]",
      "text/plain": [
       "<Figure size 640x480 with 1 Axes>"
      ]
     },
     "metadata": {},
     "output_type": "display_data"
    }
   ],
   "source": [
    "# You can create a bar chart using the countplot function from the seaborn library.\n",
    "\n",
    "sns.countplot(dt, y = \"Gender\")"
   ]
  },
  {
   "cell_type": "code",
   "execution_count": 59,
   "metadata": {},
   "outputs": [
    {
     "data": {
      "text/plain": [
       "Race\n",
       "Other    378\n",
       "White    336\n",
       "Name: count, dtype: int64"
      ]
     },
     "execution_count": 59,
     "metadata": {},
     "output_type": "execute_result"
    }
   ],
   "source": [
    "# Exercise: create a frequency table and a bar chart for the Race column\n",
    "\n",
    "# First the frequency table\n",
    "dt[\"Race\"].value_counts()"
   ]
  },
  {
   "cell_type": "code",
   "execution_count": 51,
   "metadata": {},
   "outputs": [
    {
     "data": {
      "text/plain": [
       "<Axes: xlabel='count', ylabel='Race'>"
      ]
     },
     "execution_count": 51,
     "metadata": {},
     "output_type": "execute_result"
    },
    {
     "data": {
      "image/png": "[encoded data removed]",
      "text/plain": [
       "<Figure size 640x480 with 1 Axes>"
      ]
     },
     "metadata": {},
     "output_type": "display_data"
    }
   ],
   "source": [
    "# And now the bar chart\n",
    "\n",
    "sns.countplot(data = dt, y = \"Race\")"
   ]
  },
  {
   "cell_type": "markdown",
   "metadata": {},
   "source": [
    "## The Histogram\n",
    "\n",
    "In the previous block we encountered bar charts as a way to visualize the frequency of different categories. The histogram is a similar visualization, but it is used to visualize the distribution of a continuous variable. The problem it solves is that we cannot visualize the frequency of each value of a continuous variable because there are infinitely many values. Instead, we group the values into intervals (bins) and visualize the frequency of each bin. The number of bins is a parameter that can be adjusted to show more or less detail. Usually you will have to experiment with the number of bins to find a reasonable visualization.\n",
    "\n"
   ]
  },
  {
   "cell_type": "code",
   "execution_count": 38,
   "metadata": {},
   "outputs": [
    {
     "data": {
      "text/plain": [
       "Text(0, 0.5, 'Count')"
      ]
     },
     "execution_count": 38,
     "metadata": {},
     "output_type": "execute_result"
    },
    {
     "data": {
      "image/png": "[encoded data removed]",
      "text/plain": [
       "<Figure size 640x480 with 1 Axes>"
      ]
     },
     "metadata": {},
     "output_type": "display_data"
    }
   ],
   "source": [
    "# Plot a histogram of the guess errors\n",
    "import matplotlib.pyplot as plt\n",
    "import seaborn as sns\n",
    "\n",
    "# Seaborn histogram\n",
    "\n",
    "sns.histplot(dt, x = \"GuessError\", bins=20, alpha=0.1)\n",
    "\n",
    "# Draws a vertical line at x=0 (no guess error) in green\n",
    "plt.axvline(x=0, color='green')\n",
    "\n",
    "# Draws a vertical line at the mean guess error in red\n",
    "plt.axvline(x=dt[\"GuessError\"].mean(), color='red')\n",
    "\n",
    "# Set axis labels\n",
    "plt.xlabel(\"Guess errors\")\n",
    "plt.ylabel(\"Count\")"
   ]
  },
  {
   "cell_type": "markdown",
   "metadata": {},
   "source": [
    ":::{#exr-histogram}\n",
    "\n",
    "## A Histogram of the Guess Durations\n",
    "\n",
    "- Create a histogram of the guess durations, set the labels of the x-axis to \"Guess Duration\".\n",
    "- Does the distribution of the guess durations look symmetric?\n",
    "\n",
    ":::"
   ]
  },
  {
   "cell_type": "code",
   "execution_count": 52,
   "metadata": {},
   "outputs": [
    {
     "data": {
      "text/plain": [
       "<Axes: xlabel='GD', ylabel='Count'>"
      ]
     },
     "execution_count": 52,
     "metadata": {},
     "output_type": "execute_result"
    },
    {
     "data": {
      "image/png": "[encoded data removed]",
      "text/plain": [
       "<Figure size 640x480 with 1 Axes>"
      ]
     },
     "metadata": {},
     "output_type": "display_data"
    }
   ],
   "source": [
    "# Write your code here and run it\n",
    "\n",
    "sns.histplot(dt, x = \"GD\", bins=20, alpha=0.1)"
   ]
  },
  {
   "cell_type": "markdown",
   "metadata": {},
   "source": [
    "The distribution of the guess durations is not symmetric as was the case of the guess errors. It shows a high number of short guesses and many infrequent long guesses. \n"
   ]
  },
  {
   "cell_type": "markdown",
   "metadata": {},
   "source": [
    "## The Kernel Density Estimate\n",
    "\n",
    "The kernel density estimate (KDE) is a smooth version of the histogram. It is a non-parametric method to estimate the probability density function of a continuous random variable (we will talk more about it when we introduce the concept of probability density functions later in the course).\n",
    "\n",
    "Just like the histogram, the KDE has a parameter that controls the smoothness of the estimate."
   ]
  },
  {
   "cell_type": "code",
   "execution_count": 57,
   "metadata": {},
   "outputs": [
    {
     "data": {
      "text/plain": [
       "<Axes: xlabel='GuessError', ylabel='Density'>"
      ]
     },
     "execution_count": 57,
     "metadata": {},
     "output_type": "execute_result"
    },
    {
     "data": {
      "image/png": "[encoded data removed]",
      "text/plain": [
       "<Figure size 640x480 with 1 Axes>"
      ]
     },
     "metadata": {},
     "output_type": "display_data"
    }
   ],
   "source": [
    "sns.kdeplot(data = dt, x = \"GuessError\", bw_adjust=1)"
   ]
  },
  {
   "cell_type": "code",
   "execution_count": 54,
   "metadata": {},
   "outputs": [
    {
     "data": {
      "text/plain": [
       "<Axes: xlabel='GuessError', ylabel='Density'>"
      ]
     },
     "execution_count": 54,
     "metadata": {},
     "output_type": "execute_result"
    },
    {
     "data": {
      "image/png": "[encoded data removed]",
      "text/plain": [
       "<Figure size 640x480 with 1 Axes>"
      ]
     },
     "metadata": {},
     "output_type": "display_data"
    }
   ],
   "source": [
    "sns.kdeplot(data = dt, x=\"GuessError\", hue=\"Gender\")"
   ]
  },
  {
   "cell_type": "markdown",
   "metadata": {},
   "source": [
    "## Of Variability and Variance\n",
    "\n",
    "Until now we have discussed the span of the data and the inter-quartile range as measures of variability. Another measure of variability is the variance.\n",
    "\n",
    ":::{#def-variance}\n",
    "## The Sample Variance and Sample Standard Deviation\n",
    "\n",
    "The variance of a collection of $n$ values $x_1, x_2, \\ldots, x_n$ is calculated as the average (with a correction factor) of the squared differences between each value and the mean:\n",
    "\n",
    "$$\n",
    "\\text{S}^2_{x} = \\frac{1}{n - 1} \\sum_{i=1}^{n} (x_i - \\bar{x})^2\n",
    "$$\n",
    "\n",
    "This is a short way of writing:\n",
    "\n",
    "$$\n",
    "\\text{S}^2_{x} = \\frac{(x_1 - \\bar{x})^2 + (x_2 - \\bar{x})^2 + \\ldots + (x_n - \\bar{x})^2}{n - 1}\n",
    "$$\n",
    "\n",
    "The standard deviation is the square root of the variance:\n",
    "\n",
    "$$\n",
    "\\text{S}_{x} = \\sqrt{\\text{S}^2_{x}}\n",
    "$$\n",
    "\n",
    ":::\n",
    "\n",
    "What are the units of measurement of the variance and the standard deviation?\n",
    "\n",
    "- Assume that x is measured in meters. What are the units of measurement of the variance and the standard deviation?\n",
    "- Assume that x is measured in centimeters. What are the units of measurement of the variance and the standard deviation?\n",
    "- Assume that x is measured in years. What are the units of measurement of the variance and the standard deviation?v\n",
    "\n",
    "\n",
    ":::{#exm-variance}\n",
    "## Computing the sample variance and the sample standard deviation\n",
    "\n",
    "Given a set of measurements $x = (x_1 = 1, x_2 = 8, x_3 = 3)$, calculate the sample variance and the sample standard deviation.\n",
    "\n",
    ":::\n",
    ":::{.solution}\n",
    "\n",
    "For the set $x$:\n",
    "\n",
    "$$\n",
    "\\bar{x} = \\frac{1 + 8 + 3}{3} = 4\n",
    "$$\n",
    "\n",
    "$$\n",
    "\\text{S}^2_{x} = \\frac{(1 - 4)^2 + (8 - 4)^2 + (3 - 4)^2}{3 - 1} = \\frac{9 + 16 + 1}{2} = 13\n",
    "$$\n",
    "\n",
    ":::\n"
   ]
  },
  {
   "cell_type": "markdown",
   "metadata": {},
   "source": [
    ":::{#thm-variance-partition}\n",
    "## Sum of Squares formula\n",
    "\n",
    "The centerpiece of the definition of the sample variance is the sum of squared deviations from the mean. This sum can also be calculated according to the following formula:\n",
    "\n",
    "$$\n",
    "\\sum_{i = 1}^{n} (x_i - \\bar{x})^2 = \\sum_{i = 1}^{n} x_i^2 - n \\bar{x}^2\n",
    "$$\n",
    ":::\n",
    ":::{.proof}\n",
    "\n",
    "Let's start with the left hand side of the equation:\n",
    "\n",
    "$$\n",
    "\\begin{align*}\n",
    "\\sum_{i = 1}^{n} (x_i - \\bar{x})^2 & = \\sum_{i = 1}^{n} (x_i^2 - 2x_i\\bar{x} + \\bar{x}^2) \\\\\n",
    "& = \\sum_{i = 1}^{n} x_i^2 - 2\\bar{x} \\sum_{i = 1}^{n} x_i + n\\bar{x}^2 \\\\\n",
    "& = \\sum_{i = 1}^{n} x_i^2 - 2n\\bar{x}^2 + n\\bar{x}^2 \\\\\n",
    "& = \\sum_{i = 1}^{n} x_i^2 - n\\bar{x}^2\n",
    "\\end{align*}\n",
    "$$\n",
    "\n",
    ":::"
   ]
  },
  {
   "cell_type": "code",
   "execution_count": 42,
   "metadata": {},
   "outputs": [
    {
     "name": "stdout",
     "output_type": "stream",
     "text": [
      "x = [1, 8, 3]\n"
     ]
    }
   ],
   "source": [
    "# To calculate the variances in Python it is convenient to first store the values into variables\n",
    "\n",
    "x = [1, 8, 3]\n",
    "\n",
    "print(\"x =\", x)"
   ]
  },
  {
   "cell_type": "code",
   "execution_count": 43,
   "metadata": {},
   "outputs": [
    {
     "data": {
      "text/plain": [
       "13.0"
      ]
     },
     "execution_count": 43,
     "metadata": {},
     "output_type": "execute_result"
    }
   ],
   "source": [
    "# Numpy provides functions to calculate the variance and standard deviation of a list of values.\n",
    "\n",
    "# Computes the variance of the list x. ddof=1 means that the denominator is n-1 of the sum of squared differences is n - 1 (as in the formula above)\n",
    "np.var(x, ddof=1)"
   ]
  },
  {
   "cell_type": "code",
   "execution_count": 44,
   "metadata": {},
   "outputs": [
    {
     "data": {
      "text/plain": [
       "3.605551275463989"
      ]
     },
     "execution_count": 44,
     "metadata": {},
     "output_type": "execute_result"
    }
   ],
   "source": [
    "# Compute the standard deviations of the list x. The ddof parameter is the same as in the variance function.\n",
    "\n",
    "np.std(x, ddof=1)"
   ]
  },
  {
   "cell_type": "code",
   "execution_count": 45,
   "metadata": {},
   "outputs": [
    {
     "data": {
      "text/plain": [
       "3.605551275463989"
      ]
     },
     "execution_count": 45,
     "metadata": {},
     "output_type": "execute_result"
    }
   ],
   "source": [
    "# You can check that the standard deviation is the square root of the variance. np.sqrt computes the square root of its argument.\n",
    "\n",
    "np.sqrt(np.var(x, ddof=1))"
   ]
  },
  {
   "cell_type": "markdown",
   "metadata": {},
   "source": [
    ":::{#exr-variance}\n",
    "## Computing the sample variance and the sample standard deviation\n",
    "\n",
    "Given a set of measurements \n",
    "$$\n",
    "y = (y_1 = 2, y_2 = 7, y_3 = 4)\n",
    "$$\n",
    "\n",
    "- Calculate the sample variance and the sample standard deviation (on a piece of paper).\n",
    "- Calculate the same by creating a new array `y` and using the `mean` and `std` methods of the array. \n",
    "- Compare the results.\n",
    "\n",
    ":::"
   ]
  },
  {
   "cell_type": "code",
   "execution_count": 46,
   "metadata": {},
   "outputs": [],
   "source": [
    "# Write your code here\n",
    "\n"
   ]
  },
  {
   "cell_type": "markdown",
   "metadata": {},
   "source": [
    ":::{#exr-variance-guess-duration}\n",
    "## The Variance of the Guess Duration\n",
    "\n",
    "Calculate the sample variance and the sample standard deviation of the guess duration (`GD`) column.\n",
    ":::"
   ]
  },
  {
   "cell_type": "code",
   "execution_count": 47,
   "metadata": {},
   "outputs": [],
   "source": [
    "# Exercise: Calculate the variance of the guess durations. First, use the `.var()` method and then the `np.var()` function and compare the results.\n",
    "\n"
   ]
  }
 ],
 "metadata": {
  "kernelspec": {
   "display_name": "stat2024",
   "language": "python",
   "name": "python3"
  },
  "language_info": {
   "codemirror_mode": {
    "name": "ipython",
    "version": 3
   },
   "file_extension": ".py",
   "mimetype": "text/x-python",
   "name": "python",
   "nbconvert_exporter": "python",
   "pygments_lexer": "ipython3",
   "version": "3.12.5"
  }
 },
 "nbformat": 4,
 "nbformat_minor": 2
}
