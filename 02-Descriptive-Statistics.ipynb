{
 "cells": [
  {
   "cell_type": "code",
   "execution_count": 1,
   "metadata": {},
   "outputs": [],
   "source": [
    "#| echo: false\n",
    "\n",
    "import pandas as pd\n",
    "import numpy as np\n",
    "import matplotlib.pyplot as plt\n",
    "import seaborn as sns\n",
    "\n",
    "# NOTE: you can ignore this code, it's just for data preparation\n",
    "\n",
    "# Imports the age guessing data from the database,\n",
    "# restructures it and merges it with the game data.\n",
    "\n",
    "dt_raw = pd.read_json(\"https://get-uktfaces-data-suq3dizvtq-uc.a.run.app\")\n",
    "dt = pd.melt(\n",
    "    dt_raw.reset_index(names=\"FileId\"), \n",
    "    id_vars=[\"FileId\"],\n",
    "    var_name=\"UserId\",\n",
    "    value_name=\"Data\"\n",
    ")\n",
    "dt_mesurements = pd.json_normalize(dt['Data']).rename(columns=lambda x: x[0].upper() + x[1:])\n",
    "dt = pd.concat([dt.drop(columns=[\"Data\"]), dt_mesurements], axis=1)\n",
    "\n",
    "game = pd.read_json(\"https://get-uktfaces-game-suq3dizvtq-uc.a.run.app\").rename(columns={\"id\": \"FileId\", \"age\": \"Age\", \"race_f\": \"Race\", \"gender\": \"Gender\"})\n",
    "dt = dt.merge(game, on=\"FileId\", how=\"left\")[[\"FileId\", \"UserId\", \"Guess\", \"Age\", \"Race\", \"Gender\", \"Position\", \"TimeStart\", \"TimeEnd\"]].copy()"
   ]
  },
  {
   "cell_type": "markdown",
   "metadata": {},
   "source": [
    "# Descriptive Statistics\n",
    "\n",
    "[Open in Colab](https://colab.research.google.com/github/febse/stat2024/blob/main/02-Descriptive-Statistics.ipynb)\n",
    "\n",
    "## Introduction\n",
    "\n",
    "In this section we will learn the basic summaries of data and how to compute them using Python. We will also learn how to visualize data using histograms, box plots, and scatter plots."
   ]
  },
  {
   "cell_type": "markdown",
   "metadata": {},
   "source": [
    "## The Arithmetic Mean\n",
    "\n",
    "The arithmetic mean is a measure of central tendency that is calculated as the sum of the values divided by the number of values. It is the most common measure of central tendency and is often referred to simply as the \"average\".\n",
    "\n",
    "For a collection of $n$ values $x_1, x_2, \\ldots, x_n$, the arithmetic mean is calculated as:\n",
    "\n",
    "$$\n",
    "\\bar{x} = \\frac{1}{n} \\sum_{i=1}^{n} x_i\n",
    "$$\n",
    "\n",
    "Note that this notation is just a short way of writing:\n",
    "\n",
    "$$\n",
    "\\bar{x} = \\frac{x_1 + x_2 + \\ldots + x_n}{n}\n",
    "$$\n",
    "\n",
    ":::{#ex-mean}\n",
    "## The Arithmetic Mean\n",
    "\n",
    "\n",
    "For a collection of three values $n = 3$,  $x_1 = 5$, $x_2 = 4$, and $x_3 = 6$, the arithmetic mean is:\n",
    "\n",
    "$$\n",
    "\\bar{x} = \\frac{5 + 4 + 6}{3} = 5\n",
    "$$\n",
    "\n",
    ":::"
   ]
  },
  {
   "cell_type": "code",
   "execution_count": 2,
   "metadata": {},
   "outputs": [
    {
     "data": {
      "text/plain": [
       "5.0"
      ]
     },
     "execution_count": 2,
     "metadata": {},
     "output_type": "execute_result"
    }
   ],
   "source": [
    "# Calculating the average in a numpy array (a special list of values)\n",
    "\n",
    "np.array([5, 4, 6]).mean()"
   ]
  },
  {
   "cell_type": "markdown",
   "metadata": {},
   "source": [
    "## The Average Guess Error\n",
    "\n",
    "As we have seen, it is hard to guess the exact age of a person. In our example we happen to know the age of the persons at the time the images were taken and so we can calculate the error of the guesses. The error is the difference between the guess and the actual age. We can calculate the mean error and the median error.\n",
    "\n",
    "$$\n",
    "\\text{Guess Error} = \\text{Guessed Age} - \\text{Actual Age}\n",
    "$$\n",
    "\n",
    "The guesses are contained in the `Guess` column and the actual ages in the `Age` column. The error is calculated as `Guess - Age`. We will create a new column in the DataFrame called `GuessError` to store the errors."
   ]
  },
  {
   "cell_type": "code",
   "execution_count": 3,
   "metadata": {},
   "outputs": [
    {
     "data": {
      "text/html": [
       "<div>\n",
       "<style scoped>\n",
       "    .dataframe tbody tr th:only-of-type {\n",
       "        vertical-align: middle;\n",
       "    }\n",
       "\n",
       "    .dataframe tbody tr th {\n",
       "        vertical-align: top;\n",
       "    }\n",
       "\n",
       "    .dataframe thead th {\n",
       "        text-align: right;\n",
       "    }\n",
       "</style>\n",
       "<table border=\"1\" class=\"dataframe\">\n",
       "  <thead>\n",
       "    <tr style=\"text-align: right;\">\n",
       "      <th></th>\n",
       "      <th>Guess</th>\n",
       "      <th>Age</th>\n",
       "      <th>GuessError</th>\n",
       "    </tr>\n",
       "  </thead>\n",
       "  <tbody>\n",
       "    <tr>\n",
       "      <th>0</th>\n",
       "      <td>58</td>\n",
       "      <td>72</td>\n",
       "      <td>-14</td>\n",
       "    </tr>\n",
       "    <tr>\n",
       "      <th>1</th>\n",
       "      <td>70</td>\n",
       "      <td>62</td>\n",
       "      <td>8</td>\n",
       "    </tr>\n",
       "    <tr>\n",
       "      <th>2</th>\n",
       "      <td>57</td>\n",
       "      <td>75</td>\n",
       "      <td>-18</td>\n",
       "    </tr>\n",
       "    <tr>\n",
       "      <th>3</th>\n",
       "      <td>19</td>\n",
       "      <td>21</td>\n",
       "      <td>-2</td>\n",
       "    </tr>\n",
       "    <tr>\n",
       "      <th>4</th>\n",
       "      <td>30</td>\n",
       "      <td>28</td>\n",
       "      <td>2</td>\n",
       "    </tr>\n",
       "  </tbody>\n",
       "</table>\n",
       "</div>"
      ],
      "text/plain": [
       "   Guess  Age  GuessError\n",
       "0     58   72         -14\n",
       "1     70   62           8\n",
       "2     57   75         -18\n",
       "3     19   21          -2\n",
       "4     30   28           2"
      ]
     },
     "execution_count": 3,
     "metadata": {},
     "output_type": "execute_result"
    }
   ],
   "source": [
    "# What was the average guess error in the dataset? First let's calculate the guess error for each row.\n",
    "\n",
    "dt[\"GuessError\"] = dt[\"Guess\"] - dt[\"Age\"]\n",
    "dt[['Guess', 'Age', 'GuessError']].head()"
   ]
  },
  {
   "cell_type": "code",
   "execution_count": 4,
   "metadata": {},
   "outputs": [
    {
     "name": "stdout",
     "output_type": "stream",
     "text": [
      "1.665266106442577\n"
     ]
    },
    {
     "data": {
      "text/plain": [
       "1.665266106442577"
      ]
     },
     "execution_count": 4,
     "metadata": {},
     "output_type": "execute_result"
    }
   ],
   "source": [
    "\n",
    "# There are multiple ways to calculate the average age of the users in the dataset. We will use two methods: the mean function and the mean method.\n",
    "\n",
    "## Using the mean method\n",
    "\n",
    "print(dt[\"GuessError\"].mean())\n",
    "\n",
    "## Using the mean function\n",
    "\n",
    "np.mean(dt[\"GuessError\"])\n"
   ]
  },
  {
   "cell_type": "code",
   "execution_count": 5,
   "metadata": {},
   "outputs": [
    {
     "name": "stdout",
     "output_type": "stream",
     "text": [
      "The average guess errors in the images was 1.67 years.\n"
     ]
    }
   ],
   "source": [
    "# Here we will print the average guess error and round it to two decimal places\n",
    "\n",
    "print(\"The average guess errors in the images was\", dt[\"GuessError\"].mean().round(2), \"years.\")"
   ]
  },
  {
   "cell_type": "markdown",
   "metadata": {},
   "source": [
    ":::{#ex-mean-2}\n",
    "## The Average Guess Duration\n",
    "\n",
    "- Create a new column in the dataset `dt` called `GD` (short for \"Guess Duration\") that contains the time (in _seconds_) it took for each participant to guess the age of the person in the photo. \n",
    "- Calculate the arithmetic mean of the guess duration. Use the `TimeEnd` and `TimeStart` columns to calculate the guess duration and keep in mind that `TimeStart` and `TimeEnd` are measured in milliseconds.\n",
    "\n",
    ":::"
   ]
  },
  {
   "cell_type": "code",
   "execution_count": 6,
   "metadata": {},
   "outputs": [],
   "source": [
    "# Write your code here and run it\n",
    "\n"
   ]
  },
  {
   "cell_type": "markdown",
   "metadata": {},
   "source": [
    "## The Median and Mode\n",
    "\n",
    "For a collection of values $x_1, x_2, \\ldots, x_n$, the **median** is the middle value when the values are sorted in ascending order. If the number of values is odd, the median is the middle value. If the number of values is even, the median is the average of the two middle values. It is a measure of central tendency that is less sensitive to extreme observations than the mean.\n",
    "\n",
    "The **mode** is the value that appears most frequently in a collection of values. A collection of values can have no mode, one mode, or multiple modes.\n",
    "The mode is generally only useful for categorical data (such as gender, employment status, etc.) and not for continuous data.\n",
    "\n",
    ":::{#exm-median}\n",
    "## Computing the Median\n",
    "\n",
    "Let's compute the median for $x = (1, 5, 3, 4, 2)$. First, we sort the values in ascending order: $(1, 2, 3, 4, 5)$. Since the number of values is odd, the median is the middle value, which is $3$. _Approximately_ half of the values are less than the median and half are greater than the median. In this example $1$ and $2$ are less than the median and $4$ and $5$ are greater than the median (so not _exactly_ 50 percent).\n",
    "\n",
    "Let's compute the median for $x = (7, 5, 12, 4, 2, 1.2)$. First, we sort the values in ascending order: $(1.2, 2, 4, 5, 7, 12)$. Since the number of values is even, the median is the average of the two middle values, which are $4$ and $5$. Therefore, the median is $(4 + 5) / 2 = 4.5$. Again, _approximately_ half of the values are less than the median and half are greater than the median.\n",
    "\n",
    ":::\n",
    "\n"
   ]
  },
  {
   "cell_type": "code",
   "execution_count": 7,
   "metadata": {},
   "outputs": [
    {
     "data": {
      "text/plain": [
       "3.0"
      ]
     },
     "execution_count": 7,
     "metadata": {},
     "output_type": "execute_result"
    }
   ],
   "source": [
    "# The same example as above but using the median function (there is no median method)\n",
    "\n",
    "x = np.array([1, 5, 3, 4, 2])\n",
    "np.median(x)"
   ]
  },
  {
   "cell_type": "code",
   "execution_count": 8,
   "metadata": {},
   "outputs": [
    {
     "data": {
      "text/plain": [
       "4.5"
      ]
     },
     "execution_count": 8,
     "metadata": {},
     "output_type": "execute_result"
    }
   ],
   "source": [
    "y = np.array([1.2, 2, 4, 5, 7, 12])\n",
    "np.median(y)"
   ]
  },
  {
   "cell_type": "code",
   "execution_count": 9,
   "metadata": {},
   "outputs": [
    {
     "data": {
      "text/plain": [
       "1.0"
      ]
     },
     "execution_count": 9,
     "metadata": {},
     "output_type": "execute_result"
    }
   ],
   "source": [
    "# The median of the guess error\n",
    "\n",
    "np.median(dt[\"GuessError\"])"
   ]
  },
  {
   "cell_type": "markdown",
   "metadata": {},
   "source": [
    ":::{#exr-median}\n",
    "## Computing the Median\n",
    "\n",
    "Compute the median for the following collections of values: $z = (2.1, 5, 8, 1, 2, 3)$ first on a piece of paper and then using Python.\n",
    "\n",
    ":::"
   ]
  },
  {
   "cell_type": "code",
   "execution_count": 10,
   "metadata": {},
   "outputs": [],
   "source": [
    "# Write your code here and run it\n",
    "\n"
   ]
  },
  {
   "cell_type": "markdown",
   "metadata": {},
   "source": [
    "## The Range of the Data\n",
    "\n",
    "Reporting the average of a collection of values is useful, but it only tells a part of the story. We also want to know how different the values in the collection are. One way to measure this is to describe the variation of the data. There are multiple ways to measure the variation of a dataset, here we will start with the percentiles and the range.\n",
    "\n",
    "- The smallest value in the dataset is called the **minimum** (or the 0th percentile, 0th quartile, or 0th decile).\n",
    "- The largest value in the dataset is called the **maximum** (or the 100th percentile, 100th quartile, or 100th decile).\n",
    "\n",
    "- The **range** of the data is the pair of the minimum and the maximum. (Sometime the range is understood as the difference between the maximum and the minimum.)\n",
    "- The **span** of the data is the difference between the maximum and the minimum.\n",
    "- The difference between the 75th percentile and the 25th percentile is called the **interquartile range** (IQR) and it is a measure of the spread of the middle 50% of the data.\n",
    "\n",
    "## The Quartiles\n",
    "\n",
    "- The **first quartile** (Q1) is the value below which (approx.) 25% of the data fall.\n",
    "- The **second quartile** (Q2) is the value below which (approx.) 50% of the data fall. The second quartile is also known as the median.\n",
    "- The **third quartile** (Q3) is the value below which (approx.) 75% of the data fall.\n",
    "\n",
    "Instead of four parts (quartiles), we can divide the data into ten parts (deciles) or one hundred parts (percentiles) or into any number of parts (quantiles).\n",
    "\n",
    "- The **first decile** (D1) is the value below which (approx.) 10% of the data fall.\n",
    "- The **second decile** (D2) is the value below which (approx.) 20% of the data fall.\n",
    "...\n",
    "- The **ninth decile** (D9) is the value below which (approx.) 90% of the data fall.\n",
    "\n",
    "- The **first percentile** (P1) is the value below which (approx.) 1% of the data fall.\n",
    "- The **second percentile** (P2) is the value below which (approx.) 2% of the data fall.\n",
    "...\n",
    "- The **ninetieth percentile** (P90) is the value below which (approx.) 90% of the data fall.\n",
    "- The **ninety-ninth percentile** (P99) is the value below which (approx.) 99% of the data fall.\n",
    "\n"
   ]
  },
  {
   "cell_type": "code",
   "execution_count": 11,
   "metadata": {},
   "outputs": [
    {
     "name": "stdout",
     "output_type": "stream",
     "text": [
      "0.25   -3.0\n",
      "0.50    1.0\n",
      "0.75    7.0\n",
      "Name: GuessError, dtype: float64\n"
     ]
    },
    {
     "data": {
      "text/plain": [
       "array([-3.,  1.,  7.])"
      ]
     },
     "execution_count": 11,
     "metadata": {},
     "output_type": "execute_result"
    }
   ],
   "source": [
    "# We can compute the quartiles of the guesses of the users in the dataset using the quantile method\n",
    "# and the numpy quantile function.\n",
    "\n",
    "print(dt[\"GuessError\"].quantile([0.25, 0.5, 0.75]))\n",
    "\n",
    "np.quantile(dt[\"GuessError\"], [0.25, 0.5, 0.75])\n"
   ]
  },
  {
   "cell_type": "code",
   "execution_count": 12,
   "metadata": {},
   "outputs": [
    {
     "data": {
      "text/plain": [
       "count    714.000000\n",
       "mean       1.665266\n",
       "std        9.569631\n",
       "min      -29.000000\n",
       "25%       -3.000000\n",
       "50%        1.000000\n",
       "75%        7.000000\n",
       "max       60.000000\n",
       "Name: GuessError, dtype: float64"
      ]
     },
     "execution_count": 12,
     "metadata": {},
     "output_type": "execute_result"
    }
   ],
   "source": [
    "# A quick way to get an overview of the data is to use the describe method\n",
    "\n",
    "dt[\"GuessError\"].describe()"
   ]
  },
  {
   "cell_type": "markdown",
   "metadata": {},
   "source": [
    "## The Boxplot\n",
    "\n",
    "The boxplot is a visualization of the quartiles of a distribution. It shows the minimum and maximum values, the first quartile, the median, and the third quartile. The boxplot is a useful tool for identifying outliers in the data and for comparing distributions.\n",
    "\n",
    "The boxplot is constructed as follows:\n",
    "\n",
    "1. A box is drawn from the first quartile to the third quartile. (How many values are in the box?)\n",
    "2. A line is drawn inside the box at the median.\n",
    "3. Lines (whiskers) are drawn from the box to the minimum and maximum values that are not outliers.\n",
    "4. Outliers are plotted as individual points.\n",
    "\n",
    "By default, values that are more than 1.5 times the IQR range from the first or third quartile are shown as outliers.\n",
    "\n",
    ":::{.callout-warning}\n",
    "## Outliers and Errors\n",
    "\n",
    "The term \"outlier\" is often used to describe values that are unusual or unexpected. Outliers can result from errors in the data collection process, from unusual events, or from the _natural variability of the data_. Identifying outliers is very important because they can help you find errors in your data (perhaps wrong data entry, wrong programming logic, etc.). However, you should never think of outliers as \"bad\" data, unless you can indeed identify the source of the error. You cannot simply remove outliers from your data without understanding why they are there.\n",
    "\n",
    "Later on we will see that whether or not an observation looks unusual (an outlier) or not only makes sense in the context of a \n",
    "specific statistical model.\n",
    "\n",
    ":::\n"
   ]
  },
  {
   "cell_type": "code",
   "execution_count": 13,
   "metadata": {},
   "outputs": [
    {
     "data": {
      "text/plain": [
       "<Axes: xlabel='GuessError'>"
      ]
     },
     "execution_count": 13,
     "metadata": {},
     "output_type": "execute_result"
    },
    {
     "data": {
      "image/png": "[encoded data removed]",
      "text/plain": [
       "<Figure size 640x480 with 1 Axes>"
      ]
     },
     "metadata": {},
     "output_type": "display_data"
    }
   ],
   "source": [
    "# One way to create a boxplot easily is to use the seaborn library (it is imported as sns at the top of this notebook).\n",
    "\n",
    "sns.boxplot(data=dt, x=\"GuessError\")"
   ]
  },
  {
   "cell_type": "code",
   "execution_count": 14,
   "metadata": {},
   "outputs": [
    {
     "data": {
      "text/plain": [
       "<Axes: xlabel='GuessError', ylabel='Gender'>"
      ]
     },
     "execution_count": 14,
     "metadata": {},
     "output_type": "execute_result"
    },
    {
     "data": {
      "image/png": "[encoded data removed]",
      "text/plain": [
       "<Figure size 640x480 with 1 Axes>"
      ]
     },
     "metadata": {},
     "output_type": "display_data"
    }
   ],
   "source": [
    "sns.boxplot(data=dt, x=\"GuessError\", y=\"Gender\", hue=\"Race\")"
   ]
  },
  {
   "cell_type": "markdown",
   "metadata": {},
   "source": [
    ":::{#exr-quantiles}\n",
    "## The Quartiles and the Percentiles\n",
    "\n",
    "You have already create a column `GD` (guess duration) in the previous exercise. Now use this column to solve the following tasks:\n",
    "\n",
    "- What was the longest guess duration? (Use the `max` method of the new column.)\n",
    "- What was the shortest guess duration? (Use the `min` method of the new column.)\n",
    "- Use the quantile method of the new column to calculate the first quartile, the median, and the third quartile. Write a short sentence explaining the meaning of these values.\n",
    "- What was the guess duration such that 90% of the guesses took less than this duration? (Use the `quantile` method of the new column.)\n",
    "- What was the guess duration such that 20% took more than this duration? (Use the `quantile` method of the new column.)\n",
    "- Use a logical operation to find the number of guesses that took under a second. (Hint: The `GD` column is in seconds.)\n",
    "- Draw a boxplot of the guess durations.\n",
    "- Draw a boxplot of the guess duration by `Sex`. Did the participants tend to take longer in guessing the age of males or females?\n",
    "- Draw a boxplot of the guess duration by `Sex` and `Race`. Did the participants tend to take longer in guessing the age of non-white women?\n",
    ":::"
   ]
  },
  {
   "cell_type": "code",
   "execution_count": 15,
   "metadata": {},
   "outputs": [],
   "source": [
    "# Write your code here\n",
    "\n"
   ]
  },
  {
   "cell_type": "markdown",
   "metadata": {},
   "source": [
    "## Bar Charts\n",
    "\n",
    "You are probably already familiar with bar charts as these are pervasive in the media. Bar charts are commonly used to visualize the frequency (the number of observations) of different categories. The height of the bars represents the frequency of each category."
   ]
  },
  {
   "cell_type": "code",
   "execution_count": 16,
   "metadata": {},
   "outputs": [
    {
     "data": {
      "text/plain": [
       "<Axes: xlabel='count', ylabel='Gender'>"
      ]
     },
     "execution_count": 16,
     "metadata": {},
     "output_type": "execute_result"
    },
    {
     "data": {
      "image/png": "[encoded data removed]",
      "text/plain": [
       "<Figure size 640x480 with 1 Axes>"
      ]
     },
     "metadata": {},
     "output_type": "display_data"
    }
   ],
   "source": [
    "# You can create a bar chart using the countplot function from the seaborn library.\n",
    "\n",
    "sns.countplot(dt, y = \"Gender\")"
   ]
  },
  {
   "cell_type": "code",
   "execution_count": 17,
   "metadata": {},
   "outputs": [],
   "source": [
    "# Exercise: create a bar chart for the frequency of `Race` in the dataset\n",
    "\n"
   ]
  },
  {
   "cell_type": "markdown",
   "metadata": {},
   "source": [
    "## The Histogram\n",
    "\n",
    "In the previous block we encountered bar charts as a way to visualize the frequency of different categories. The histogram is a similar visualization, but it is used to visualize the distribution of a continuous variable. The problem it solves is that we cannot visualize the frequency of each value of a continuous variable because there are infinitely many values. Instead, we group the values into intervals (bins) and visualize the frequency of each bin. The number of bins is a parameter that can be adjusted to show more or less detail. Usually you will have to experiment with the number of bins to find a reasonable visualization.\n",
    "\n"
   ]
  },
  {
   "cell_type": "code",
   "execution_count": 20,
   "metadata": {},
   "outputs": [
    {
     "data": {
      "text/plain": [
       "Text(0, 0.5, 'Count')"
      ]
     },
     "execution_count": 20,
     "metadata": {},
     "output_type": "execute_result"
    },
    {
     "data": {
      "image/png": "[encoded data removed]",
      "text/plain": [
       "<Figure size 640x480 with 1 Axes>"
      ]
     },
     "metadata": {},
     "output_type": "display_data"
    }
   ],
   "source": [
    "# Plot a histogram of the guess errors\n",
    "import matplotlib.pyplot as plt\n",
    "import seaborn as sns\n",
    "\n",
    "# Seaborn histogram\n",
    "\n",
    "sns.histplot(dt, x = \"GuessError\", bins=20, alpha=0.1)\n",
    "\n",
    "# Draws a vertical line at x=0 (no guess error)\n",
    "plt.axvline(x=0, color='green')\n",
    "\n",
    "# Draws a vertical line at the mean guess error\n",
    "plt.axvline(x=dt[\"GuessError\"].mean(), color='red')\n",
    "\n",
    "plt.xlabel(\"Guess errors\")\n",
    "plt.ylabel(\"Count\")"
   ]
  },
  {
   "cell_type": "markdown",
   "metadata": {},
   "source": [
    ":::{#exr-histogram}\n",
    "\n",
    "## A Histogram of the Guess Durations\n",
    "\n",
    "- Create a histogram of the guess durations, set the labels of the x-axis to \"Guess Duration\".\n",
    "- Does the distribution of the guess durations look symmetric?\n",
    "\n",
    ":::"
   ]
  },
  {
   "cell_type": "code",
   "execution_count": null,
   "metadata": {},
   "outputs": [],
   "source": [
    "# Write your code here and run it\n"
   ]
  },
  {
   "cell_type": "markdown",
   "metadata": {},
   "source": [
    "## Of Variability and Variance\n",
    "\n",
    "Until now we have discussed the span of the data and the inter-quartile range as measures of variability. Another measure of variability is the variance.\n",
    "\n",
    ":::{#def-variance}\n",
    "## The Sample Variance and Sample Standard Deviation\n",
    "\n",
    "The variance of a collection of $n$ values $x_1, x_2, \\ldots, x_n$ is calculated as the average (with a correction factor) of the squared differences between each value and the mean:\n",
    "\n",
    "$$\n",
    "\\text{S}^2_{x} = \\frac{1}{n - 1} \\sum_{i=1}^{n} (x_i - \\bar{x})^2\n",
    "$$\n",
    "\n",
    "This is a short way of writing:\n",
    "\n",
    "$$\n",
    "\\text{S}^2_{x} = \\frac{(x_1 - \\bar{x})^2 + (x_2 - \\bar{x})^2 + \\ldots + (x_n - \\bar{x})^2}{n - 1}\n",
    "$$\n",
    "\n",
    "The standard deviation is the square root of the variance:\n",
    "\n",
    "$$\n",
    "\\text{S}_{x} = \\sqrt{\\text{S}^2_{x}}\n",
    "$$\n",
    "\n",
    ":::\n",
    "\n",
    "What are the units of measurement of the variance and the standard deviation?\n",
    "\n",
    "- Assume that x is measured in meters. What are the units of measurement of the variance and the standard deviation?\n",
    "- Assume that x is measured in centimeters. What are the units of measurement of the variance and the standard deviation?\n",
    "- Assume that x is measured in years. What are the units of measurement of the variance and the standard deviation?v\n",
    "\n",
    "\n",
    ":::{#exm-variance}\n",
    "## Computing the sample variance and the sample standard deviation\n",
    "\n",
    "Given a set of measurements $x = (x_1 = 1, x_2 = 8, x_3 = 3)$, calculate the sample variance and the sample standard deviation.\n",
    "\n",
    ":::\n",
    ":::{.solution}\n",
    "\n",
    "For the set $x$:\n",
    "\n",
    "$$\n",
    "\\bar{x} = \\frac{1 + 8 + 3}{3} = 4\n",
    "$$\n",
    "\n",
    "$$\n",
    "\\text{S}^2_{x} = \\frac{(1 - 4)^2 + (8 - 4)^2 + (3 - 4)^2}{3 - 1} = \\frac{9 + 16 + 1}{2} = 13\n",
    "$$\n",
    "\n",
    ":::\n"
   ]
  },
  {
   "cell_type": "code",
   "execution_count": 38,
   "metadata": {},
   "outputs": [
    {
     "name": "stdout",
     "output_type": "stream",
     "text": [
      "x = [1 8 3]\n"
     ]
    }
   ],
   "source": [
    "# To calculate the variances in Python it is convenient to first store the values into variables\n",
    "\n",
    "x = np.array([1, 8, 3])\n",
    "\n",
    "print(\"x =\", x)"
   ]
  },
  {
   "cell_type": "code",
   "execution_count": 8,
   "metadata": {},
   "outputs": [
    {
     "name": "stdout",
     "output_type": "stream",
     "text": [
      "13.0\n",
      "13.0\n",
      "3.605551275463989\n",
      "3.605551275463989\n"
     ]
    }
   ],
   "source": [
    "# To calculate the variance according to the formula above, we can use the numpy var function\n",
    "# The ddof parameter is used to specify the degrees of freedom, which is 0 by default\n",
    "\n",
    "print(np.var(x, ddof=1))\n",
    "print(x.var(ddof=1))\n",
    "print(np.std(x, ddof=1))\n",
    "print(np.sqrt(np.var(x, ddof=1)))"
   ]
  },
  {
   "cell_type": "markdown",
   "metadata": {},
   "source": [
    ":::{#exr-variance}\n",
    "## Computing the sample variance and the sample standard deviation\n",
    "\n",
    "Given a set of measurements $y = (y_1 = 2, y_2 = 7, y_3 = 4)$:\n",
    "\n",
    "- Calculate the sample variance and the sample standard deviation (on a piece of paper).\n",
    "- Calculate the same by creating a new array `y` and using the `mean` and `std` methods of the array. \n",
    "- Compare the results.\n",
    "\n",
    ":::"
   ]
  },
  {
   "cell_type": "code",
   "execution_count": 9,
   "metadata": {},
   "outputs": [],
   "source": [
    "# Write your code here\n",
    "\n"
   ]
  },
  {
   "cell_type": "markdown",
   "metadata": {},
   "source": [
    ":::{#exr-variance-guess-duration}\n",
    "## The Variance of the Guess Duration\n",
    "\n",
    "Calculate the sample variance and the sample standard deviation of the guess duration (`GD`) column.\n",
    ":::"
   ]
  },
  {
   "cell_type": "code",
   "execution_count": null,
   "metadata": {},
   "outputs": [],
   "source": [
    "# Exercise: Calculate the variance of the guess durations. First, use the `.var()` method and then the `np.var()` function and compare the results.\n",
    "\n"
   ]
  }
 ],
 "metadata": {
  "kernelspec": {
   "display_name": "stat2024",
   "language": "python",
   "name": "python3"
  },
  "language_info": {
   "codemirror_mode": {
    "name": "ipython",
    "version": 3
   },
   "file_extension": ".py",
   "mimetype": "text/x-python",
   "name": "python",
   "nbconvert_exporter": "python",
   "pygments_lexer": "ipython3",
   "version": "3.12.5"
  }
 },
 "nbformat": 4,
 "nbformat_minor": 2
}
