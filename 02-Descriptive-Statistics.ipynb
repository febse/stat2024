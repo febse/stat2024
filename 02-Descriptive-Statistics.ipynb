{
 "cells": [
  {
   "cell_type": "code",
   "execution_count": 2,
   "metadata": {},
   "outputs": [],
   "source": [
    "#| echo: false\n",
    "\n",
    "import pandas as pd\n",
    "import numpy as np\n",
    "import matplotlib.pyplot as plt\n",
    "import seaborn as sns\n",
    "\n",
    "# NOTE: you can ignore this code, it's just for data preparation\n",
    "\n",
    "# Imports the age guessing data from the database,\n",
    "# restructures it and merges it with the game data.\n",
    "\n",
    "dt_raw = pd.read_json(\"https://get-uktfaces-data-suq3dizvtq-uc.a.run.app\")\n",
    "dt = pd.melt(\n",
    "    dt_raw.reset_index(names=\"FileId\"), \n",
    "    id_vars=[\"FileId\"],\n",
    "    var_name=\"UserId\",\n",
    "    value_name=\"Data\"\n",
    ")\n",
    "dt_mesurements = pd.json_normalize(dt['Data']).rename(columns=lambda x: x[0].upper() + x[1:])\n",
    "dt = pd.concat([dt.drop(columns=[\"Data\"]), dt_mesurements], axis=1)\n",
    "\n",
    "game = pd.read_json(\"https://get-uktfaces-game-suq3dizvtq-uc.a.run.app\").rename(columns={\"id\": \"FileId\", \"age\": \"Age\", \"race_f\": \"Race\", \"gender\": \"Gender\"})\n",
    "dt = dt.merge(game, on=\"FileId\", how=\"left\")[[\"FileId\", \"UserId\", \"Guess\", \"Age\", \"Race\", \"Gender\", \"Position\", \"TimeStart\", \"TimeEnd\"]].copy()"
   ]
  },
  {
   "cell_type": "markdown",
   "metadata": {},
   "source": [
    "# Descriptive Statistics\n",
    "\n",
    "## Introduction\n",
    "\n",
    "In this section we will learn the basic summaries of data and how to compute them using Python. We will also learn how to visualize data using histograms, box plots, and scatter plots."
   ]
  },
  {
   "cell_type": "markdown",
   "metadata": {},
   "source": [
    "## The Arithmetic Mean\n",
    "\n",
    "The arithmetic mean is a measure of central tendency that is calculated as the sum of the values divided by the number of values. It is the most common measure of central tendency and is often referred to simply as the \"average\".\n",
    "\n",
    "For a collection of $n$ values $x_1, x_2, \\ldots, x_n$, the arithmetic mean is calculated as:\n",
    "\n",
    "$$\n",
    "\\bar{x} = \\frac{1}{n} \\sum_{i=1}^{n} x_i\n",
    "$$\n",
    "\n",
    "Note that this notation is just a short way of writing:\n",
    "\n",
    "$$\n",
    "\\bar{x} = \\frac{x_1 + x_2 + \\ldots + x_n}{n}\n",
    "$$\n",
    "\n",
    ":::{#ex-mean}\n",
    "## The Arithmetic Mean\n",
    "\n",
    "\n",
    "For a collection of three values $n = 3$,  $x_1 = 5$, $x_2 = 4$, and $x_3 = 6$, the arithmetic mean is:\n",
    "\n",
    "$$\n",
    "\\bar{x} = \\frac{5 + 4 + 6}{3} = 5\n",
    "$$\n",
    "\n",
    ":::"
   ]
  },
  {
   "cell_type": "code",
   "execution_count": 3,
   "metadata": {},
   "outputs": [
    {
     "data": {
      "text/plain": [
       "44.94117647058823"
      ]
     },
     "execution_count": 3,
     "metadata": {},
     "output_type": "execute_result"
    }
   ],
   "source": [
    "# What was the average age of the users in the dataset?\n",
    "\n",
    "# There are multiple ways to calculate the average age of the users in the dataset. We will use two methods: the mean function and the mean method.\n",
    "\n",
    "## Using the mean method\n",
    "\n",
    "dt[\"Age\"].mean()\n",
    "\n",
    "## Using the mean function\n",
    "\n",
    "np.mean(dt[\"Age\"])\n"
   ]
  },
  {
   "cell_type": "code",
   "execution_count": 4,
   "metadata": {},
   "outputs": [
    {
     "name": "stdout",
     "output_type": "stream",
     "text": [
      "The average age of the persons in the images was 44.94 years.\n"
     ]
    }
   ],
   "source": [
    "# Here we will print the average age and round it to two decimal places\n",
    "\n",
    "print(\"The average age of the persons in the images was\", dt[\"Age\"].mean().round(2), \"years.\")"
   ]
  },
  {
   "cell_type": "markdown",
   "metadata": {},
   "source": [
    ":::{#ex-mean-2}\n",
    "## The Average Guess\n",
    "\n",
    "Calculate the average guess made by the users in the dataset. Print the result rounded to one decimal place.\n",
    "\n",
    ":::"
   ]
  },
  {
   "cell_type": "code",
   "execution_count": 5,
   "metadata": {},
   "outputs": [],
   "source": [
    "# Write your code here and run it\n"
   ]
  },
  {
   "cell_type": "markdown",
   "metadata": {},
   "source": [
    "## The Range of the Data\n",
    "\n",
    "Reporting the average of a collection of values is useful, but it only tells a part of the story. We also want to know how different the values in the collection are. One way to measure this is to describe the variation of the data. There are multiple ways to measure the variation of a dataset, here we will start with the percentiles and the range.\n",
    "\n",
    "- The smallest value in the dataset is called the **minimum** (or the 0th percentile, 0th quartile, or 0th decile).\n",
    "- The largest value in the dataset is called the **maximum** (or the 100th percentile, 100th quartile, or 100th decile).\n",
    "\n",
    "- The **range** of the data is the pair of the minimum and the maximum. (Sometime the range is understood as the difference between the maximum and the minimum.)\n",
    "- The **span** of the data is the difference between the maximum and the minimum.\n",
    "- The difference between the 75th percentile and the 25th percentile is called the **interquartile range** (IQR).\n",
    "\n",
    "## The Quartiles\n",
    "\n",
    "- The **first quartile** (Q1) is the value below which (approx.) 25% of the data fall.\n",
    "- The **second quartile** (Q2) is the value below which (approx.) 50% of the data fall. The second quartile is also known as the median.\n",
    "- The **third quartile** (Q3) is the value below which (approx.) 75% of the data fall.\n",
    "\n",
    "Instead of four parts (quartiles), we can divide the data into ten parts (deciles) or one hundred parts (percentiles) or into any number of parts (quantiles).\n",
    "\n",
    "- The **first decile** (D1) is the value below which (approx.) 10% of the data fall.\n",
    "- The **second decile** (D2) is the value below which (approx.) 20% of the data fall.\n",
    "...\n",
    "- The **ninth decile** (D9) is the value below which (approx.) 90% of the data fall.\n",
    "\n",
    "- The **first percentile** (P1) is the value below which (approx.) 1% of the data fall.\n",
    "- The **second percentile** (P2) is the value below which (approx.) 2% of the data fall.\n",
    "...\n",
    "- The **ninetieth percentile** (P90) is the value below which (approx.) 90% of the data fall.\n",
    "- The **ninety-ninth percentile** (P99) is the value below which (approx.) 99% of the data fall.\n",
    "\n"
   ]
  },
  {
   "cell_type": "code",
   "execution_count": 6,
   "metadata": {},
   "outputs": [
    {
     "name": "stdout",
     "output_type": "stream",
     "text": [
      "0.25    23.00\n",
      "0.50    43.50\n",
      "0.75    67.75\n",
      "Name: Guess, dtype: float64\n"
     ]
    },
    {
     "data": {
      "text/plain": [
       "array([23.  , 43.5 , 67.75])"
      ]
     },
     "execution_count": 6,
     "metadata": {},
     "output_type": "execute_result"
    }
   ],
   "source": [
    "# We can compute the quartiles of the guesses of the users in the dataset using the quantile method\n",
    "# and the numpy quantile function.\n",
    "\n",
    "print(dt[\"Guess\"].quantile([0.25, 0.5, 0.75]))\n",
    "\n",
    "np.quantile(dt[\"Guess\"], [0.25, 0.5, 0.75])\n"
   ]
  },
  {
   "cell_type": "code",
   "execution_count": 17,
   "metadata": {},
   "outputs": [
    {
     "data": {
      "text/plain": [
       "count    714.000000\n",
       "mean       1.665266\n",
       "std        9.569631\n",
       "min      -29.000000\n",
       "25%       -3.000000\n",
       "50%        1.000000\n",
       "75%        7.000000\n",
       "max       60.000000\n",
       "Name: GuessError, dtype: float64"
      ]
     },
     "execution_count": 17,
     "metadata": {},
     "output_type": "execute_result"
    }
   ],
   "source": [
    "# A quick way to get an overview of the data is to use the describe method\n",
    "\n",
    "dt[\"GuessError\"].describe()"
   ]
  },
  {
   "cell_type": "markdown",
   "metadata": {},
   "source": [
    "## The Boxplot\n",
    "\n",
    "The boxplot is a visualization of the quartiles of a distribution. It shows the minimum and maximum values, the first quartile, the median, and the third quartile. The boxplot is a useful tool for identifying outliers in the data and for comparing the distributions of different datasets."
   ]
  },
  {
   "cell_type": "code",
   "execution_count": 18,
   "metadata": {},
   "outputs": [
    {
     "data": {
      "text/plain": [
       "<Axes: xlabel='GuessError'>"
      ]
     },
     "execution_count": 18,
     "metadata": {},
     "output_type": "execute_result"
    },
    {
     "data": {
      "image/png": "[encoded data removed]",
      "text/plain": [
       "<Figure size 640x480 with 1 Axes>"
      ]
     },
     "metadata": {},
     "output_type": "display_data"
    }
   ],
   "source": [
    "# One way to create a boxplot easily is to use the seaborn library (it is imported as sns at the top of this notebook).\n",
    "\n",
    "sns.boxplot(data=dt, x=\"GuessError\")"
   ]
  },
  {
   "cell_type": "code",
   "execution_count": 19,
   "metadata": {},
   "outputs": [
    {
     "data": {
      "text/plain": [
       "<Axes: xlabel='GuessError', ylabel='Gender'>"
      ]
     },
     "execution_count": 19,
     "metadata": {},
     "output_type": "execute_result"
    },
    {
     "data": {
      "image/png": "[encoded data removed]",
      "text/plain": [
       "<Figure size 640x480 with 1 Axes>"
      ]
     },
     "metadata": {},
     "output_type": "display_data"
    }
   ],
   "source": [
    "sns.boxplot(data=dt, x=\"GuessError\", y=\"Gender\", hue=\"Race\")"
   ]
  },
  {
   "cell_type": "markdown",
   "metadata": {},
   "source": [
    ":::{#exr-quantiles}\n",
    "## The Quartiles and the Boxplot\n",
    "\n",
    "Create a new column in the dataset `dt` called `GD` (short for guess duration) that shows the duration of each guess in seconds.\n",
    "\n",
    "- What was the longest guess duration? (Use the `max` method of the new column.)\n",
    "- What was the shortest guess duration? (Use the `min` method of the new column.)\n",
    "- What is the average guess duration? (Use the `mean` method of the new column.)\n",
    "- Use the quantile method of the new column to calculate the first quartile, the median, and the third quartile. Write a short sentence explaining the meaning of these values.\n",
    "\n",
    ":::"
   ]
  },
  {
   "cell_type": "code",
   "execution_count": 51,
   "metadata": {},
   "outputs": [
    {
     "data": {
      "text/plain": [
       "<Axes: xlabel='GD'>"
      ]
     },
     "execution_count": 51,
     "metadata": {},
     "output_type": "execute_result"
    },
    {
     "data": {
      "image/png": "[encoded data removed]",
      "text/plain": [
       "<Figure size 640x480 with 1 Axes>"
      ]
     },
     "metadata": {},
     "output_type": "display_data"
    }
   ],
   "source": [
    "# Write your code here\n",
    "\n",
    "dt[\"GD\"] = dt[\"TimeEnd\"] - dt[\"TimeStart\"]\n",
    "dt[\"GD\"].quantile([0.25, 0.5, 0.75])\n",
    "dt[\"GD\"].describe()\n",
    "\n",
    "sns.boxplot(data=dt, x=\"GD\")"
   ]
  },
  {
   "cell_type": "markdown",
   "metadata": {},
   "source": [
    "## The Variance and the Standard Deviation\n",
    "\n",
    "We have already seen two measures of variation: the span, and the inter-quartile range. "
   ]
  },
  {
   "cell_type": "code",
   "execution_count": null,
   "metadata": {},
   "outputs": [],
   "source": []
  },
  {
   "cell_type": "markdown",
   "metadata": {},
   "source": [
    "## The Guess Errors\n",
    "\n",
    "As we have seen, it is hard to guess the exact age of a person. In our example we happen to know the age of the persons at the time the images were taken and so we can calculate the error of the guesses. The error is the difference between the guess and the actual age. We can calculate the mean error and the median error.\n",
    "\n",
    "$$\n",
    "\\text{Guess Error} = \\text{Guessed Age} - \\text{Actual Age}\n",
    "$$\n",
    "\n",
    "The guesses are contained in the `Guess` column and the actual ages in the `Age` column. The error is calculated as `Guess - Age`. We will create a new column in the DataFrame called `GuessError` to store the errors."
   ]
  },
  {
   "cell_type": "code",
   "execution_count": 10,
   "metadata": {},
   "outputs": [
    {
     "data": {
      "text/html": [
       "<div>\n",
       "<style scoped>\n",
       "    .dataframe tbody tr th:only-of-type {\n",
       "        vertical-align: middle;\n",
       "    }\n",
       "\n",
       "    .dataframe tbody tr th {\n",
       "        vertical-align: top;\n",
       "    }\n",
       "\n",
       "    .dataframe thead th {\n",
       "        text-align: right;\n",
       "    }\n",
       "</style>\n",
       "<table border=\"1\" class=\"dataframe\">\n",
       "  <thead>\n",
       "    <tr style=\"text-align: right;\">\n",
       "      <th></th>\n",
       "      <th>FileId</th>\n",
       "      <th>UserId</th>\n",
       "      <th>Guess</th>\n",
       "      <th>Age</th>\n",
       "      <th>GuessError</th>\n",
       "    </tr>\n",
       "  </thead>\n",
       "  <tbody>\n",
       "    <tr>\n",
       "      <th>0</th>\n",
       "      <td>72_1_0_20170110141531648_jpg</td>\n",
       "      <td>2TkJQyslSFb5GXbdv1aCc2QAZO53</td>\n",
       "      <td>58</td>\n",
       "      <td>72</td>\n",
       "      <td>-14</td>\n",
       "    </tr>\n",
       "    <tr>\n",
       "      <th>1</th>\n",
       "      <td>62_0_0_20170111210223707_jpg</td>\n",
       "      <td>2TkJQyslSFb5GXbdv1aCc2QAZO53</td>\n",
       "      <td>70</td>\n",
       "      <td>62</td>\n",
       "      <td>8</td>\n",
       "    </tr>\n",
       "    <tr>\n",
       "      <th>2</th>\n",
       "      <td>75_0_1_20170111205346848_jpg</td>\n",
       "      <td>2TkJQyslSFb5GXbdv1aCc2QAZO53</td>\n",
       "      <td>57</td>\n",
       "      <td>75</td>\n",
       "      <td>-18</td>\n",
       "    </tr>\n",
       "    <tr>\n",
       "      <th>3</th>\n",
       "      <td>21_1_2_20170105183505385_jpg</td>\n",
       "      <td>2TkJQyslSFb5GXbdv1aCc2QAZO53</td>\n",
       "      <td>19</td>\n",
       "      <td>21</td>\n",
       "      <td>-2</td>\n",
       "    </tr>\n",
       "    <tr>\n",
       "      <th>4</th>\n",
       "      <td>28_0_1_20170112211810813_jpg</td>\n",
       "      <td>2TkJQyslSFb5GXbdv1aCc2QAZO53</td>\n",
       "      <td>30</td>\n",
       "      <td>28</td>\n",
       "      <td>2</td>\n",
       "    </tr>\n",
       "  </tbody>\n",
       "</table>\n",
       "</div>"
      ],
      "text/plain": [
       "                         FileId                        UserId  Guess  Age  \\\n",
       "0  72_1_0_20170110141531648_jpg  2TkJQyslSFb5GXbdv1aCc2QAZO53     58   72   \n",
       "1  62_0_0_20170111210223707_jpg  2TkJQyslSFb5GXbdv1aCc2QAZO53     70   62   \n",
       "2  75_0_1_20170111205346848_jpg  2TkJQyslSFb5GXbdv1aCc2QAZO53     57   75   \n",
       "3  21_1_2_20170105183505385_jpg  2TkJQyslSFb5GXbdv1aCc2QAZO53     19   21   \n",
       "4  28_0_1_20170112211810813_jpg  2TkJQyslSFb5GXbdv1aCc2QAZO53     30   28   \n",
       "\n",
       "   GuessError  \n",
       "0         -14  \n",
       "1           8  \n",
       "2         -18  \n",
       "3          -2  \n",
       "4           2  "
      ]
     },
     "execution_count": 10,
     "metadata": {},
     "output_type": "execute_result"
    }
   ],
   "source": [
    "# Defines a new column \"GuessError\" in the dataset dt that contains the difference between the guess and the actual age\n",
    "\n",
    "dt[\"GuessError\"] = dt[\"Guess\"] - dt[\"Age\"]\n",
    "\n",
    "# Check out the first few rows of the dataset to see the new column\n",
    "\n",
    "dt[[\"FileId\", \"UserId\", \"Guess\", \"Age\", \"GuessError\"]].head()"
   ]
  },
  {
   "cell_type": "code",
   "execution_count": 14,
   "metadata": {},
   "outputs": [
    {
     "data": {
      "text/plain": [
       "Text(0, 0.5, 'Count')"
      ]
     },
     "execution_count": 14,
     "metadata": {},
     "output_type": "execute_result"
    },
    {
     "data": {
      "image/png": "[encoded data removed]",
      "text/plain": [
       "<Figure size 640x480 with 1 Axes>"
      ]
     },
     "metadata": {},
     "output_type": "display_data"
    }
   ],
   "source": [
    "# Plot a histogram of the guess errors\n",
    "import matplotlib.pyplot as plt\n",
    "import seaborn as sns\n",
    "\n",
    "# Seaborn histogram\n",
    "\n",
    "sns.histplot(dt[\"GuessError\"], bins=20, alpha=0.1)\n",
    "\n",
    "# Draws a vertical line at x=0 (no guess error)\n",
    "plt.axvline(x=0, color='r', linestyle='--', linewidth=1)\n",
    "plt.axvline(x=dt[\"GuessError\"].mean(), color='g', linestyle='--', linewidth=1)\n",
    "\n",
    "plt.xlabel(\"Guess error\")\n",
    "plt.ylabel(\"Count\")"
   ]
  },
  {
   "cell_type": "code",
   "execution_count": 15,
   "metadata": {},
   "outputs": [
    {
     "data": {
      "text/plain": [
       "Gender\n",
       "F    0.735119\n",
       "M    2.492063\n",
       "Name: GuessError, dtype: float64"
      ]
     },
     "execution_count": 15,
     "metadata": {},
     "output_type": "execute_result"
    }
   ],
   "source": [
    "dt.groupby(\"Gender\")[\"GuessError\"].mean()"
   ]
  },
  {
   "cell_type": "code",
   "execution_count": null,
   "metadata": {},
   "outputs": [
    {
     "data": {
      "image/png": "[encoded data removed]",
      "text/plain": [
       "<Figure size 1800x600 with 2 Axes>"
      ]
     },
     "metadata": {},
     "output_type": "display_data"
    }
   ],
   "source": [
    "# NOTE: ignore this code for now, it's just for visualization\n",
    "\n",
    "# Create a FacetGrid object\n",
    "g = sns.FacetGrid(dt, col=\"Gender\", height=6, aspect=1.5, )\n",
    "\n",
    "# Map the sns.histplot function to the grid\n",
    "g.map(sns.histplot, \"GuessError\", bins=20)\n",
    "g.map(plt.axvline, x=0, color='r', linestyle='--', linewidth=1)\n",
    "\n",
    "def plot_mean(data, **kwargs):\n",
    "    plt.axvline(x=data.mean(), color='g', linestyle='--', linewidth=1)\n",
    "\n",
    "g.map(plot_mean, \"GuessError\")\n",
    "# Set titles\n",
    "g.set_titles(col_template=\"{col_name}\")\n",
    "\n",
    "# Adjust layout\n",
    "plt.tight_layout()\n",
    "\n",
    "# Show the plot\n",
    "plt.show()"
   ]
  },
  {
   "cell_type": "markdown",
   "metadata": {},
   "source": [
    "Now that we have the errors, we can ask questions like:\n",
    "\n",
    "- What is the average error of the guesses?\n",
    "- What is the median error of the guesses?\n",
    "- What is the range of the errors?\n"
   ]
  },
  {
   "cell_type": "code",
   "execution_count": null,
   "metadata": {},
   "outputs": [],
   "source": [
    "# Exercise: print out three columns for your part of the data (mydata): \"Guess\", \"Age\", \"GuessError\"\n",
    "# Note: you will have to re-create mydt because we added a new column to the dataset of all users (dt)\n",
    "\n"
   ]
  },
  {
   "cell_type": "code",
   "execution_count": null,
   "metadata": {},
   "outputs": [],
   "source": [
    "# Exercise: Calculate your average guess error. What problem do you see with this value? Use the np.mean function to calculate your average guess error.\n",
    "\n"
   ]
  },
  {
   "cell_type": "code",
   "execution_count": null,
   "metadata": {},
   "outputs": [],
   "source": [
    "# Exercise: What were your highest overestimate and highest underestimate? Use the np.max and np.min functions to calculate these values.\n",
    "\n"
   ]
  },
  {
   "cell_type": "code",
   "execution_count": null,
   "metadata": {},
   "outputs": [],
   "source": [
    "# Exercise: Calculate the median of your guess errors. Use the np.median function to calculate the median of your guess errors.\n",
    "# What is the meaning of the median in this context?\n",
    "\n"
   ]
  },
  {
   "cell_type": "markdown",
   "metadata": {},
   "source": [
    "## Of Variability and Variance\n",
    "\n",
    "Until now we have discussed the span of the data and the inter-quartile range as measures of variability. Another measure of variability is the variance. The variance is the average of the squared differences between each value and the mean. The (empirical/sample) variance is calculated as:\n",
    "\n",
    "$$\n",
    "\\text{S}^2_{x} = \\frac{1}{n - 1} \\sum_{i=1}^{n} (x_i - \\bar{x})^2\n",
    "$$\n",
    "\n",
    "Closely related to it is the standard deviation, which is the square root of the variance:\n",
    "\n",
    "$$\n",
    "\\text{S}_{x} = \\sqrt{\\text{S}^2_{x}}\n",
    "$$\n",
    "\n",
    "\n",
    "What are the units of measurement of the variance and the standard deviation?\n",
    "\n",
    "- Assume that x is measured in meters. What are the units of measurement of the variance and the standard deviation?\n",
    "- Assume that x is measured in centimeters. What are the units of measurement of the variance and the standard deviation?\n",
    "- Assume that x is measured in years. What are the units of measurement of the variance and the standard deviation?v\n",
    "\n",
    ":::{#ex-variance}\n",
    "## Computing the variance\n",
    "\n",
    "Given two sets of measurements: $x = (x_1 = 1, x_2 = 8, x_3 = 3)$, $y = (y_1 = 2, y_2 = 7, y_3 = 4)$, calculate the variance and the standard error of each set.\n",
    "\n",
    ":::\n"
   ]
  },
  {
   "cell_type": "code",
   "execution_count": null,
   "metadata": {},
   "outputs": [
    {
     "name": "stdout",
     "output_type": "stream",
     "text": [
      "x=  [1 8 3]\n",
      "y=  [2 7 4]\n"
     ]
    }
   ],
   "source": [
    "# To calculate the variances in Python it is convenient to first store the values into variables\n",
    "\n",
    "x = np.array([1, 8, 3])\n",
    "y = np.array([2, 7, 4])\n",
    "\n",
    "print(\"x= \", x)\n",
    "print(\"y= \", y)"
   ]
  },
  {
   "cell_type": "code",
   "execution_count": null,
   "metadata": {},
   "outputs": [
    {
     "data": {
      "text/plain": [
       "8.666666666666666"
      ]
     },
     "metadata": {},
     "output_type": "display_data"
    }
   ],
   "source": [
    "np.var(x)"
   ]
  },
  {
   "cell_type": "code",
   "execution_count": null,
   "metadata": {},
   "outputs": [
    {
     "data": {
      "text/plain": [
       "4.222222222222222"
      ]
     },
     "metadata": {},
     "output_type": "display_data"
    }
   ],
   "source": [
    "np.var(y)"
   ]
  },
  {
   "cell_type": "code",
   "execution_count": null,
   "metadata": {},
   "outputs": [
    {
     "data": {
      "text/plain": [
       "2.943920288775949"
      ]
     },
     "metadata": {},
     "output_type": "display_data"
    }
   ],
   "source": [
    "np.std(x)"
   ]
  },
  {
   "cell_type": "code",
   "execution_count": null,
   "metadata": {},
   "outputs": [
    {
     "data": {
      "text/plain": [
       "2.0548046676563256"
      ]
     },
     "metadata": {},
     "output_type": "display_data"
    }
   ],
   "source": [
    "np.sqrt(np.var(x))"
   ]
  },
  {
   "cell_type": "code",
   "execution_count": null,
   "metadata": {},
   "outputs": [
    {
     "data": {
      "text/plain": [
       "2.0548046676563256"
      ]
     },
     "metadata": {},
     "output_type": "display_data"
    }
   ],
   "source": [
    "np.std(y)"
   ]
  },
  {
   "cell_type": "code",
   "execution_count": null,
   "metadata": {},
   "outputs": [
    {
     "data": {
      "text/plain": [
       "2.0548046676563256"
      ]
     },
     "metadata": {},
     "output_type": "display_data"
    }
   ],
   "source": [
    "np.sqrt(np.var(y))"
   ]
  },
  {
   "cell_type": "code",
   "execution_count": null,
   "metadata": {},
   "outputs": [],
   "source": [
    "# Exercise: Calculate the standard deviation of your guess errors"
   ]
  },
  {
   "cell_type": "markdown",
   "metadata": {},
   "source": [
    ":::{#ex-duration}\n",
    "## Guess Duration\n",
    "\n",
    "The columns `TimeStart` and `TimeEnd` contain the timestamps (seconds since January 1st 1970) when the user saw the image and when the user submitted the guess. We can calculate the time it took the user to make the guess by subtracting the start time from the end time.\n",
    "\n",
    "- Create a new column in the DataFrame called `GuessDuration` containing the time it took the user to make the guess in seconds.\n",
    "- Calculate the average time it took the users to make the guess.\n",
    "- Calculate the median time it took the users to make the guess.\n",
    "\n",
    ":::"
   ]
  },
  {
   "cell_type": "code",
   "execution_count": null,
   "metadata": {},
   "outputs": [],
   "source": []
  }
 ],
 "metadata": {
  "kernelspec": {
   "display_name": "stat2024",
   "language": "python",
   "name": "python3"
  },
  "language_info": {
   "codemirror_mode": {
    "name": "ipython",
    "version": 3
   },
   "file_extension": ".py",
   "mimetype": "text/x-python",
   "name": "python",
   "nbconvert_exporter": "python",
   "pygments_lexer": "ipython3",
   "version": "3.12.5"
  }
 },
 "nbformat": 4,
 "nbformat_minor": 2
}
