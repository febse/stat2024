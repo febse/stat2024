{
 "cells": [
  {
   "cell_type": "markdown",
   "metadata": {},
   "source": [
    "## Sample Exam Problems\n",
    "\n",
    "\n",
    ":::{#exr-probability-1}\n",
    "## Problem 1 (5 points)\n",
    "\n",
    "A box contains 3 red balls and 2 green balls. Two balls are drawn at random with replacement. What is the probability mass function of a variable that counts the number of red balls drawn?\n",
    "\n",
    ":::\n",
    "\n",
    "\n",
    ":::{#exr-probability-2}\n",
    "## Problem 2 (5 points)\n",
    "\n",
    "You are conducting a financial audit of a company. You have a list of 50 transactions, and you take a random sample (without replacement) of 6 transactions. What is the probability that you find at least one fraudulent transaction in your sample given that 10 of the transactions in the list are fraudulent?\n",
    "\n",
    ":::\n"
   ]
  },
  {
   "cell_type": "markdown",
   "metadata": {},
   "source": [
    ":::{#exr-probability-3}\n",
    "## Problem 3 (2 points)\n",
    "\n",
    "The events $A$ and $B$ are independent. The probability of event $A$ is 0.3 and the probability of event $B$ is 0.4. What is the probability of the union of events $A$ and $B$?\n",
    "\n",
    ":::"
   ]
  },
  {
   "cell_type": "markdown",
   "metadata": {},
   "source": [
    ":::{#exr-probability-4}\n",
    "## Problem 4 (3 points)\n",
    "\n",
    "60 percent of the clients of a bank have a checking account, 40 percent have a savings account, and 20 percent have both. What is the probability that a randomly selected client has a checking account or a savings account? What is the probability that a randomly selected client has neither a checking account nor a savings account?\n",
    "\n",
    ":::"
   ]
  },
  {
   "cell_type": "markdown",
   "metadata": {},
   "source": [
    ":::{#exr-probability-5}\n",
    "## Problem 5 (5 points)\n",
    "\n",
    "The Chebychev inequality states that for any random variable $X$ with mean $\\mu$ and variance $\\sigma^2$, and for any $k > 0$, the probability that $X$ takes a value within $k$ standard deviations of the mean is at least $1 - 1/k^2$.\n",
    "\n",
    "$$\n",
    "P(|X - \\mu| \\leq k\\sigma) \\geq 1 - \\frac{1}{k^2}\n",
    "$$\n",
    "\n",
    "Use the Chebychev inequality to find a lower bound on the probability that a random variable with mean 10 and variance 4 takes a value between 4 and 16. Why is the Chebychev inequality only useful for $k > 1$?\n",
    "\n",
    ":::\n",
    "\n",
    "\n",
    ":::{#exr-probability-6}\n",
    "## Problem 6 (5 points)\n",
    "\n",
    "In a game of \"Who wants to be a millionaire?\", a contestant is asked a series of multiple-choice questions. Each question has four possible answers, and only one of them is correct. Assume that ten thousand contestants are playing the game, and each contestant randomly guesses the answer to each question, i.e. they pick an answer with equal probability among the four choices. How many of the 100 contestants would expect to win the grand prize of one million dollars if the game has 5 questions?\n",
    "\n",
    ":::\n"
   ]
  },
  {
   "cell_type": "markdown",
   "metadata": {},
   "source": [
    ":::{#exr-probability-7}\n",
    "## Problem 7 (5 points)\n",
    "\n",
    "You conduct a survey using a random sample of 1000 persons with the goal to estiamate the proportion of people in a city who are in favor of a new policy. You find that 60 persons in the sample are in favor of the policy. Use the central limit theorem to find an approximate 95% confidence interval for the proportion of people in the city who are in favor of the policy.\n",
    "\n",
    ":::"
   ]
  }
 ],
 "metadata": {
  "kernelspec": {
   "display_name": "stat2024",
   "language": "python",
   "name": "python3"
  },
  "language_info": {
   "codemirror_mode": {
    "name": "ipython",
    "version": 3
   },
   "file_extension": ".py",
   "mimetype": "text/x-python",
   "name": "python",
   "nbconvert_exporter": "python",
   "pygments_lexer": "ipython3",
   "version": "3.12.4"
  }
 },
 "nbformat": 4,
 "nbformat_minor": 2
}
