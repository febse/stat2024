{
 "cells": [
  {
   "cell_type": "markdown",
   "metadata": {},
   "source": [
    "## Exam Problems\n",
    "\n",
    "\n",
    ":::{#exr-probability-1}\n",
    "## Problem 1 (5 points)\n",
    "\n",
    "A box contains 3 red balls and 2 green balls. Two balls are drawn at random without replacement. What is the probability mass function of a variable that counts the number of red balls drawn?\n",
    "\n",
    ":::\n",
    "\n",
    ":::{.callout-note collapse=\"true\"}\n",
    "## Solution (click to expand)\n",
    "\n",
    "\n",
    ":::\n",
    "\n",
    "\n",
    ":::{#exr-probability-2}\n",
    "## Problem 2 (5 points)\n",
    "\n",
    "You are conducting a financial audit of a company. You have a list of 100 transactions, and you take a random sample (without replacement) of 6 transactions. What is the probability that you find at least one fraudulent transaction in your sample given that 5% of the transactions in the list are fraudulent?\n",
    "\n",
    ":::\n",
    "\n",
    ":::{.callout-note collapse=\"true\"}\n",
    "## Solution (click to expand)\n",
    "\n",
    ":::\n"
   ]
  },
  {
   "cell_type": "markdown",
   "metadata": {},
   "source": [
    ":::{#exr-probability-3}\n",
    "## Problem 3 (5 points)\n",
    "\n",
    "You are discussing \n",
    "\n",
    ":::\n"
   ]
  }
 ],
 "metadata": {
  "language_info": {
   "name": "python"
  }
 },
 "nbformat": 4,
 "nbformat_minor": 2
}
