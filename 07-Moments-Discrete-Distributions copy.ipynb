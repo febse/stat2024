{
 "cells": [
  {
   "cell_type": "markdown",
   "metadata": {},
   "source": [
    "# Moments of Discrete Distributions\n",
    "\n",
    "In the previous section we discussed the concepts of PMF and CDF. In this section we will introduce a couple of summaries of these functions, called moments.\n",
    "\n",
    "## Expected Value\n",
    "\n",
    "In the example of the two coin tosses, we met the idea of a random variable: a function that maps the outcomes of a random experiment to real numbers. The concrete example was a payoff of 2 EUR for each head. Its PMF was:\n",
    "\n",
    "| x      | 0   | 2   | 4   |\n",
    "| ------ | --- | --- | --- |\n",
    "| P(X=x) | 1/4 | 2/4 | 1/4 |\n",
    "\n",
    "If you are to play this game, you could ask the question: \"How much money can I expect to win on average?\" if I play this game many times. \n",
    "\n",
    "The answer to this question is given by the expected value of the random variable. The expected value is a weighted average of the possible values of the random variable, where the weights are given by the probabilities of the values.\n",
    "\n",
    ":::{#def-expected-value}\n",
    "## Expected Value\n",
    "\n",
    "The expected value of a discrete random variable X is defined as:\n",
    "\n",
    "$$\n",
    "E(X) = \\sum_{x} x \\cdot P(X=x)\n",
    "$$\n",
    "\n",
    "where the sum is over all possible values of X.\n",
    ":::\n",
    "\n",
    ":::{#exr-expected-value-coin-toss}\n",
    "## Expected Value of the Payoff of Two Coin Tosses\n",
    "\n",
    "Calculate the expected value of the payoff of two coin tosses.\n",
    "\n",
    "$$\n",
    "E(X) = 0 \\cdot P(X=0) + 2 \\cdot P(X=2) + 4 \\cdot P(X=4) = 0 \\cdot 1/4 + 2 \\cdot 2/4 + 4 \\cdot 1/4 = 2\n",
    "$$\n",
    "\n",
    ":::\n"
   ]
  },
  {
   "cell_type": "code",
   "execution_count": 51,
   "metadata": {},
   "outputs": [
    {
     "data": {
      "text/plain": [
       "1.956"
      ]
     },
     "execution_count": 51,
     "metadata": {},
     "output_type": "execute_result"
    }
   ],
   "source": [
    "# Simulate the coin toss game and calculate the average\n",
    "\n",
    "import numpy as np\n",
    "\n",
    "payoff_single = np.random.choice([0, 2, 4], size=1000, p=[0.25, 0.5, 0.25])\n",
    "np.mean(payoff_single)"
   ]
  },
  {
   "cell_type": "code",
   "execution_count": 59,
   "metadata": {},
   "outputs": [],
   "source": [
    "payoffs = np.random.choice([0, 2, 4], size=(1000, 1000), p=[0.25, 0.5, 0.25])\n",
    "payoffs_average = np.mean(payoffs, axis=1)"
   ]
  },
  {
   "cell_type": "code",
   "execution_count": 60,
   "metadata": {},
   "outputs": [
    {
     "data": {
      "text/plain": [
       "Text(4.944444444444445, 0.5, 'Frequency')"
      ]
     },
     "execution_count": 60,
     "metadata": {},
     "output_type": "execute_result"
    },
    {
     "data": {
      "image/png": "[encoded data removed]",
      "text/plain": [
       "<Figure size 500x500 with 1 Axes>"
      ]
     },
     "metadata": {},
     "output_type": "display_data"
    }
   ],
   "source": [
    "import seaborn as sns\n",
    "import matplotlib.pyplot as plt\n",
    "\n",
    "sns.displot(payoffs_average)\n",
    "plt.xlabel('Average payoff')\n",
    "plt.ylabel('Frequency')"
   ]
  },
  {
   "cell_type": "markdown",
   "metadata": {},
   "source": [
    "The expectation has a couple of nice properties and we will need them in the following sections.\n",
    "\n",
    ":::{#thm-expected-value}\n",
    "## Properties of Expected Value\n",
    "\n",
    "1. The expected value of a constant is the constant itself:\n",
    "\n",
    "$$\n",
    "E(a) = a\n",
    "$$\n",
    "\n",
    "2. The expected value of a sum of random variables is the sum of the expected values:\n",
    "\n",
    "$$\n",
    "E(X + Y) = E(X) + E(Y)\n",
    "$$\n",
    "\n",
    "3. The expected value of a scaled random variable is the scaled expected value:\n",
    "\n",
    "$$\n",
    "E(aX) = a \\cdot E(X)\n",
    "$$\n",
    "\n",
    ":::\n",
    "\n",
    ":::{.callout-note collapse=\"true\"}\n",
    "\n",
    "Let us prove the third property. We have:\n",
    "\n",
    "$$\n",
    "E(aX) = \\sum_{x} a \\cdot x \\cdot P(X=x) = a \\cdot \\sum_{x} x \\cdot P(X=x) = a \\cdot E(X)\n",
    "$$\n",
    "\n",
    "This follows from the fact that $a$ does not depend on the summation index $x$.\n",
    "\n",
    ":::\n"
   ]
  },
  {
   "cell_type": "markdown",
   "metadata": {},
   "source": [
    "## The Bernoulli Distribution\n",
    "\n",
    "The Bernoulli distribution is a simple distribution that models the outcome of a single trial with two possible outcomes: success and failure. Let success be denoted by 1 and failure by 0. The PMF of the Bernoulli distribution is:\n",
    "\n",
    "$$\n",
    "\\begin{align*}\n",
    "P(X=1) & = p \\\\\n",
    "P(X=0) & = 1-p\n",
    "\\end{align*}\n",
    "$$\n",
    "\n",
    "where $p$ is the probability of success.\n",
    "\n",
    "The expected value of a Bernoulli random variable is very simple to calculate:\n",
    "\n",
    "$$\n",
    "E(X) = 1 \\cdot p + 0 \\cdot (1-p) = p\n",
    "$$\n",
    "\n"
   ]
  },
  {
   "cell_type": "markdown",
   "metadata": {},
   "source": [
    "## The Binomial Distribution\n",
    "\n",
    "We have introduced the binomial distribution in the previous section. The PMF of the binomial distribution is given by:\n",
    "\n",
    "$$\n",
    "P(X=x) = \\binom{n}{x} p^x (1-p)^{n-x}, \\quad x=0,1,\\ldots,n\n",
    "$$\n",
    "\n",
    "where $n$ is the number of trials, $x$ is the number of successes, and $p$ is the probability of success in a single trial.\n",
    "\n",
    ":::{#exr-expected-value-binomial}\n",
    "## Expected Value of the Binomial Distribution\n",
    "\n",
    "There are two equivalent ways to calculate the expected value of the binomial distribution. One way is to use the definition of the expected value from @def-expected-value and compute the sum directly. The solution is provided below for reference. Another ways is to use the fact that a binomial random variable is a sum of $n$ independent Bernoulli random variables, each with expected value $p$.\n",
    "\n",
    "A Bernoulli random variable is a random variable that takes the value 1 with probability $p$ and 0 with probability $1-p$. The expected value of a Bernoulli random variable is $p$.\n",
    "\n",
    "$$\n",
    "1 \\cdot p + 0 \\cdot (1-p) = p\n",
    "$$\n",
    "\n",
    "A binomially distributed random variable is a sum of $n$ independent Bernoulli random variables. Let $X_1, X_2, \\ldots, X_n$ be independent Bernoulli random variables with success probability $p$. Then, the binomial random variable $X$ is defined as:\n",
    "\n",
    "$$\n",
    "X = X_1 + X_2 + \\ldots + X_n\n",
    "$$\n",
    "\n",
    "The expected value of $X$ is (using the properties of the expected value from @thm-expected-value):\n",
    "\n",
    "$$\n",
    "E(X) = E(X_1 + X_2 + \\ldots + X_n) = E(X_1) + E(X_2) + \\ldots + E(X_n) = \\underbrace{p + p + \\ldots p}_{n \\text{ times}} = n \\cdot p\n",
    "$$\n",
    "\n",
    "\n",
    ":::\n",
    "\n",
    ":::{.callout-note collapse=\"true\"}\n",
    "## Solution Using the Binomial Formula (click to expand)\n",
    "\n",
    "Calculate the expected value of the binomial distribution using the definition of the expected value from @def-expected-value.\n",
    "\n",
    "$$\n",
    "E(X) = \\sum_{x=0}^{n} x \\cdot P(X=x) = \\sum_{x=0}^{n} x \\binom{n}{x} p^x (1-p)^{n-x}\n",
    "$$\n",
    "\n",
    "This formula looks very complicated at first, but we can simplify it by using the following identity and the binomial theorem:\n",
    "\n",
    "$$\n",
    "x \\binom{n}{x} = n \\binom{n-1}{x-1}\n",
    "$$\n",
    "\n",
    "To see why this identity is true, consider the following the definition of the binomial coefficient:\n",
    "\n",
    "$$\n",
    "\\binom{n}{x} = \\frac{n!}{x!(n-x)!}\n",
    "$$\n",
    "\n",
    "Then, we have:\n",
    "\n",
    "$$\n",
    "x \\binom{n}{x} = x \\frac{n!}{x!(n-x)!} = n \\frac{(n-1)!}{(x-1)!((n - \\cancel{1})- (x - \\cancel{1}))!} = n \\binom{n-1}{x-1}\n",
    "$$\n",
    "\n",
    "The binomial theorem states that:\n",
    "\n",
    "$$\n",
    "(a + b)^m = \\sum_{i=0}^{m} \\binom{m}{i} a^{m-i} b^i\n",
    "$$\n",
    "\n",
    "Using the identity, we can factor out $np$ from the sum:\n",
    "\n",
    "$$\n",
    "\\begin{align*}\n",
    "E(X) & = \\sum_{x=0}^{n} x \\binom{n}{x} p^x (1-p)^{n-x} \\\\\n",
    "& = \\sum_{x=1}^{n} n \\binom{n-1}{x-1} p^x (1-p)^{n-x} \\\\\n",
    "& = n \\sum_{x=1}^{n} \\binom{n-1}{x-1} p^x (1-p)^{n-x} \\\\\n",
    "& = np \\sum_{x=1}^{n} \\binom{n-1}{x-1} p^{x-1} (1-p)^{n - x} \\\\\n",
    "\\end{align*}\n",
    "$$\n",
    "\n",
    "Now, let's take a close look at the sum:\n",
    "\n",
    "$$\n",
    "\\begin{align*}\n",
    "\\sum_{x=1}^{n} \\binom{n-1}{x-1} p^{x-1} (1-p)^{n - x}\n",
    "\\end{align*}\n",
    "$$\n",
    "\n",
    "It may be hard to see at first, but this sum is actually equal to 1.\n",
    "\n",
    "$$\n",
    "\\begin{align*}\n",
    "\\sum_{x=1}^{n} \\binom{n-1}{x-1} p^{x-1} (1-p)^{n - x} & = \\sum_{x=0}^{n-1} \\binom{n-1}{x} p^{x} (1-p)^{n - 1 - x} \\\\\n",
    "& = (p + (1-p))^{n-1} = 1\n",
    "\\end{align*}\n",
    "$$\n",
    "\n",
    "\n",
    ":::"
   ]
  },
  {
   "cell_type": "code",
   "execution_count": null,
   "metadata": {},
   "outputs": [
    {
     "data": {
      "text/plain": [
       "29.822"
      ]
     },
     "execution_count": 72,
     "metadata": {},
     "output_type": "execute_result"
    }
   ],
   "source": [
    "# Binomial distribution with n=100, p=0.3, 1000 samples\n",
    "# The expected value is n*p = 30\n",
    "\n",
    "x = np.random.binomial(100, 0.3, size=1000)\n",
    "np.mean(x)"
   ]
  },
  {
   "cell_type": "markdown",
   "metadata": {},
   "source": [
    "## Variance\n",
    "\n",
    "Until now we have discussed the expected value of a random variable which gives us an idea about the location of the distribution. Another important summary of a distribution is the variance which gives us an idea about the spread of the distribution (how different the values produced by the distribution are from the expected value).\n",
    "\n",
    ":::{#def-variance}\n",
    "## Variance and Standard Deviation\n",
    "\n",
    "The variance of a random variable X is defined as:\n",
    "\n",
    "$$\n",
    "Var(X) = E((X - E(X))^2) = E(X^2) - E(X)^2\n",
    "$$\n",
    "\n",
    "The standard deviation is the square root of the variance:\n",
    "\n",
    "$$\n",
    "S(X) = \\sqrt{Var(X)}\n",
    "$$\n",
    "\n",
    ":::\n",
    "\n",
    ":::{#exr-variance-coin-toss}\n",
    "## Variance of the Payoff of Two Coin Tosses\n",
    "\n",
    "Calculate the variance and the standard deviation of the payoff of two coin tosses.\n",
    "\n",
    "$$\n",
    "Var(X) = \\sum_{x} (x - E(X))^2 \\cdot P(X=x) = \\sum_{x} (x - 2)^2 \\cdot P(X=x) = (0 - 2)^2 \\cdot 1/4 + (2 - 2)^2 \\cdot 2/4 + (4 - 2)^2 \\cdot 1/4 = 2\n",
    "$$\n",
    "\n",
    "$$\n",
    "S(X) = \\sqrt{Var(X)} = \\sqrt{2}\n",
    "$$\n",
    "\n",
    ":::\n",
    "\n"
   ]
  },
  {
   "cell_type": "code",
   "execution_count": 78,
   "metadata": {},
   "outputs": [
    {
     "data": {
      "text/plain": [
       "2.0"
      ]
     },
     "execution_count": 78,
     "metadata": {},
     "output_type": "execute_result"
    }
   ],
   "source": [
    "x = np.array([0, 2, 4])\n",
    "p = np.array([0.25, 0.5, 0.25])\n",
    "\n",
    "E_X = np.sum(x*p)\n",
    "V_X = np.sum((x-E_X)**2*p)\n",
    "V_X"
   ]
  },
  {
   "cell_type": "markdown",
   "metadata": {},
   "source": [
    "The variance has a number of properties that make it a useful summary of a random variable:\n",
    "\n",
    ":::{#thm-variance}\n",
    "## Properties of Variance\n",
    "\n",
    "\n",
    "1. The variance is a quadratic operator:\n",
    "\n",
    "$$\n",
    "Var(aX + b) = a^2 Var(X)\n",
    "$$\n",
    "\n",
    "where $a$ and $b$ are constants.\n",
    "\n",
    "2. The variance of a constant is zero:\n",
    "\n",
    "$$\n",
    "Var(a) = 0, \\quad c \\in \\mathbb{R}\n",
    "$$\n",
    "\n",
    "3. The variance of a sum of independent random variables is the sum of the variances:\n",
    "\n",
    "$$\n",
    "Var(X + Y) = Var(X) + Var(Y)\n",
    "$$\n",
    "\n",
    "4. The variance of a difference of independent random variables is the sum of the variances:\n",
    "\n",
    "$$\n",
    "Var(X - Y) = Var(X) + Var(Y)\n",
    "$$\n",
    ":::\n",
    "\n",
    ":::{.callout-note collapse=\"true\"}\n",
    "## Proof \n",
    "\n",
    "Let us prove the first property. We have:\n",
    "\n",
    "$$\n",
    "\\begin{align*}\n",
    "Var(aX + b) & = E((aX + b - E(aX + b))^2) \\\\\n",
    "& = E((aX + b - aE(X) - b)^2) \\\\\n",
    "& = E((a(X - E(X)))^2) \\\\\n",
    "& = E(a^2(X - E(X))^2) \\\\\n",
    "& = a^2 E((X - E(X))^2) \\\\\n",
    "& = a^2 Var(X)\n",
    "\\end{align*}\n",
    "$$\n",
    "\n",
    "The second property is easy to prove:\n",
    "\n",
    "$$\n",
    "Var(a) = E((a - E(a))^2) = E(0) = 0\n",
    "$$\n",
    "\n",
    "Intuitively, a constant does not vary, so its variance is zero.\n",
    "\n",
    "We will leave the proofs of the third and fourth properties without a proof for now, because they involve the joint distribution of random variables. We will discuss this in the next section.\n",
    "\n",
    ":::"
   ]
  },
  {
   "cell_type": "markdown",
   "metadata": {},
   "source": [
    ":::{#exr-variance-binomial}\n",
    "## Variance of the Binomial Distribution\n",
    "\n",
    "Calculate the variance of the binomial distribution using the definition of the variance from @def-variance. The easiest way to do this is to use the fact that a binomial random variable is a sum of $n$ independent Bernoulli random variables, each with variance $p(1-p)$.\n",
    "\n",
    "$$\n",
    "Var(X) = n \\cdot p \\cdot (1-p)\n",
    "$$\n",
    "\n",
    "\n",
    ":::"
   ]
  },
  {
   "cell_type": "code",
   "execution_count": 113,
   "metadata": {},
   "outputs": [
    {
     "data": {
      "text/plain": [
       "21.432068068068066"
      ]
     },
     "execution_count": 113,
     "metadata": {},
     "output_type": "execute_result"
    }
   ],
   "source": [
    "# For a binomial distribution, the variance is n*p*(1-p)\n",
    "# For n=100, p=0.3, the variance is 21\n",
    "\n",
    "x = np.random.binomial(100, 0.3, size=1000)\n",
    "np.var(x, ddof=1)\n"
   ]
  }
 ],
 "metadata": {
  "kernelspec": {
   "display_name": "stat2024",
   "language": "python",
   "name": "python3"
  },
  "language_info": {
   "codemirror_mode": {
    "name": "ipython",
    "version": 3
   },
   "file_extension": ".py",
   "mimetype": "text/x-python",
   "name": "python",
   "nbconvert_exporter": "python",
   "pygments_lexer": "ipython3",
   "version": "3.12.7"
  }
 },
 "nbformat": 4,
 "nbformat_minor": 2
}
