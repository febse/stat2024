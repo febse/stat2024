{
 "cells": [
  {
   "cell_type": "markdown",
   "metadata": {},
   "source": [
    "# Bi-variate Discrete Distributions\n",
    "\n",
    "Until now we have been dealing with univariate distributions, i.e., distributions of a single random variable. In this notebook, we will discuss bi-variate distributions, i.e., distributions of two random variables. We will start with the simplest case, the joint distribution of two discrete random variables.\n",
    "\n",
    "## Joint Distribution\n",
    "\n",
    "Until now we have discussed the probability mass function (pmf) of a single discrete random variable. It answers questions such as \"What is the probability that the random variable takes the value $x$?\". It is very common that we are interested in more than out random variable. For example, we might conduct an experiment where we assign different marketing strategies to groups of customers and measure the number of products they buy. In that case we might be interested in the joint outcome of the marketing strategy and the number of products bought.\n",
    "\n",
    "For discrete distributions with a limited number of outcomes, we can represent the joint distribution as a table. For example, consider the following table of two random variables $X$ and $Y$. $X$ can take the values 0, 1, 2, and 3, and $Y$ can take the values 2, and 3. The cells of the table contain the probability that the random variables take the corresponding values."
   ]
  },
  {
   "cell_type": "code",
   "execution_count": 20,
   "metadata": {},
   "outputs": [
    {
     "data": {
      "text/html": [
       "<div>\n",
       "<style scoped>\n",
       "    .dataframe tbody tr th:only-of-type {\n",
       "        vertical-align: middle;\n",
       "    }\n",
       "\n",
       "    .dataframe tbody tr th {\n",
       "        vertical-align: top;\n",
       "    }\n",
       "\n",
       "    .dataframe thead th {\n",
       "        text-align: right;\n",
       "    }\n",
       "</style>\n",
       "<table border=\"1\" class=\"dataframe\">\n",
       "  <thead>\n",
       "    <tr style=\"text-align: right;\">\n",
       "      <th>y</th>\n",
       "      <th>2</th>\n",
       "      <th>3</th>\n",
       "    </tr>\n",
       "    <tr>\n",
       "      <th>x</th>\n",
       "      <th></th>\n",
       "      <th></th>\n",
       "    </tr>\n",
       "  </thead>\n",
       "  <tbody>\n",
       "    <tr>\n",
       "      <th>0</th>\n",
       "      <td>0.241</td>\n",
       "      <td>0.009</td>\n",
       "    </tr>\n",
       "    <tr>\n",
       "      <th>1</th>\n",
       "      <td>0.089</td>\n",
       "      <td>0.006</td>\n",
       "    </tr>\n",
       "    <tr>\n",
       "      <th>2</th>\n",
       "      <td>0.229</td>\n",
       "      <td>0.043</td>\n",
       "    </tr>\n",
       "    <tr>\n",
       "      <th>3</th>\n",
       "      <td>0.201</td>\n",
       "      <td>0.182</td>\n",
       "    </tr>\n",
       "  </tbody>\n",
       "</table>\n",
       "</div>"
      ],
      "text/plain": [
       "y      2      3\n",
       "x              \n",
       "0  0.241  0.009\n",
       "1  0.089  0.006\n",
       "2  0.229  0.043\n",
       "3  0.201  0.182"
      ]
     },
     "execution_count": 20,
     "metadata": {},
     "output_type": "execute_result"
    }
   ],
   "source": [
    "import pandas as pd\n",
    "import numpy as np\n",
    "import matplotlib.pyplot as plt\n",
    "\n",
    "# Import a couple of csv files from github\n",
    "px = pd.read_csv(\"https://raw.githubusercontent.com/febse/data/main/econ/prob_review/px.csv\")\n",
    "py = pd.read_csv(\"https://raw.githubusercontent.com/febse/data/main/econ/prob_review/py.csv\")\n",
    "pxy = pd.read_csv(\"https://raw.githubusercontent.com/febse/data/main/econ/prob_review/pxy.csv\")\n",
    "\n",
    "# Select specific columns\n",
    "pxy = pxy[['x', 'y', 'p']]\n",
    "\n",
    "pxy_table = pd.pivot_table(pxy, values='p', index='x', columns='y')\n",
    "pxy_table"
   ]
  },
  {
   "cell_type": "markdown",
   "metadata": {},
   "source": [
    "So we can look up probabilities such as\n",
    "\n",
    "$$\n",
    "P(X=0, Y=2) = 0.241\n",
    "$$\n",
    "\n",
    "directly from the table. We will write the PMF of two random variables $X$ and $Y$ as \n",
    "\n",
    "$$\n",
    "f_{XY}(x, y) = P_{XY}(X=x, Y=y)\n",
    "$$.\n",
    "\n",
    "As the PMF of a single random variable, the joint PMF must satisfy the following properties:\n",
    "\n",
    "1. $f_{XY}(x, y) \\geq 0$ for all $x$ and $y$.\n",
    "2. $\\sum_x \\sum_y f_{XY}(x, y) = 1$.\n"
   ]
  },
  {
   "cell_type": "code",
   "execution_count": 3,
   "metadata": {},
   "outputs": [
    {
     "data": {
      "text/plain": [
       "1.0"
      ]
     },
     "execution_count": 3,
     "metadata": {},
     "output_type": "execute_result"
    }
   ],
   "source": [
    "# Verify that the sum of all probabilities is 1\n",
    "\n",
    "pxy_table.sum().sum()"
   ]
  },
  {
   "cell_type": "markdown",
   "metadata": {},
   "source": [
    "# Marginal Distributions\n",
    "\n",
    "If we have a joint distribution of two random variables, we can calculate the marginal distribution of each of the random variables, which are simply the univariate distributions of each of the random variables. For example, the marginal distribution of $X$ is\n",
    "\n",
    "$$\n",
    "f_X(x) = \\sum_y f_{XY}(x, y)\n",
    "$$\n",
    "\n",
    "and the marginal distribution of $Y$ is\n",
    "\n",
    "$$\n",
    "f_Y(y) = \\sum_x f_{XY}(x, y)\n",
    "$$\n"
   ]
  },
  {
   "cell_type": "code",
   "execution_count": 4,
   "metadata": {},
   "outputs": [
    {
     "data": {
      "text/plain": [
       "y\n",
       "2    0.76\n",
       "3    0.24\n",
       "dtype: float64"
      ]
     },
     "execution_count": 4,
     "metadata": {},
     "output_type": "execute_result"
    }
   ],
   "source": [
    "# The marginal distribution of y is the sum of the rows of the table\n",
    "\n",
    "pxy_table.sum(axis=0)"
   ]
  },
  {
   "cell_type": "code",
   "execution_count": 5,
   "metadata": {},
   "outputs": [
    {
     "data": {
      "text/plain": [
       "x\n",
       "0    0.250\n",
       "1    0.095\n",
       "2    0.272\n",
       "3    0.383\n",
       "dtype: float64"
      ]
     },
     "execution_count": 5,
     "metadata": {},
     "output_type": "execute_result"
    }
   ],
   "source": [
    "# The marginal distribution of x is the sum of the columns of the table\n",
    "pxy_table.sum(axis=1)"
   ]
  },
  {
   "cell_type": "markdown",
   "metadata": {},
   "source": [
    "## Conditional Distributions\n",
    "\n",
    "A lot of questions in applied research boil down to the comparisons of conditional probabilities. For example, we might be interested in the probability that a customer buys a product given that they have been exposed to a certain marketing strategy or that a patient survives a decease given that they have been treated with a certain drug.\n",
    "\n",
    "To be able to answer these questions, we need to calculate the conditional distribution of one random variable given the other. The conditional distribution of $X$ given $Y$ is defined as\n",
    "\n",
    "$$\n",
    "f_{X|Y}(x|y) = P(X=x|Y=y) = \\frac{P(X=x, Y=y)}{P(Y=y)} = \\frac{f_{XY}(x, y)}{f_Y(y)}\n",
    "$$\n",
    "\n",
    "and of course the conditional distribution of $Y$ given $X$ is\n",
    "\n",
    "$$\n",
    "f_{Y|X}(y|x) = P(Y=y|X=x) = \\frac{P(X=x, Y=y)}{P(X=x)} = \\frac{f_{XY}(x, y)}{f_X(x)}\n",
    "$$\n"
   ]
  },
  {
   "cell_type": "code",
   "execution_count": 6,
   "metadata": {},
   "outputs": [
    {
     "name": "stdout",
     "output_type": "stream",
     "text": [
      "y\n",
      "2    0.76\n",
      "3    0.24\n",
      "dtype: float64\n"
     ]
    },
    {
     "data": {
      "text/html": [
       "<div>\n",
       "<style scoped>\n",
       "    .dataframe tbody tr th:only-of-type {\n",
       "        vertical-align: middle;\n",
       "    }\n",
       "\n",
       "    .dataframe tbody tr th {\n",
       "        vertical-align: top;\n",
       "    }\n",
       "\n",
       "    .dataframe thead th {\n",
       "        text-align: right;\n",
       "    }\n",
       "</style>\n",
       "<table border=\"1\" class=\"dataframe\">\n",
       "  <thead>\n",
       "    <tr style=\"text-align: right;\">\n",
       "      <th>y</th>\n",
       "      <th>2</th>\n",
       "      <th>3</th>\n",
       "    </tr>\n",
       "    <tr>\n",
       "      <th>x</th>\n",
       "      <th></th>\n",
       "      <th></th>\n",
       "    </tr>\n",
       "  </thead>\n",
       "  <tbody>\n",
       "    <tr>\n",
       "      <th>0</th>\n",
       "      <td>0.317105</td>\n",
       "      <td>0.037500</td>\n",
       "    </tr>\n",
       "    <tr>\n",
       "      <th>1</th>\n",
       "      <td>0.117105</td>\n",
       "      <td>0.025000</td>\n",
       "    </tr>\n",
       "    <tr>\n",
       "      <th>2</th>\n",
       "      <td>0.301316</td>\n",
       "      <td>0.179167</td>\n",
       "    </tr>\n",
       "    <tr>\n",
       "      <th>3</th>\n",
       "      <td>0.264474</td>\n",
       "      <td>0.758333</td>\n",
       "    </tr>\n",
       "  </tbody>\n",
       "</table>\n",
       "</div>"
      ],
      "text/plain": [
       "y         2         3\n",
       "x                    \n",
       "0  0.317105  0.037500\n",
       "1  0.117105  0.025000\n",
       "2  0.301316  0.179167\n",
       "3  0.264474  0.758333"
      ]
     },
     "execution_count": 6,
     "metadata": {},
     "output_type": "execute_result"
    }
   ],
   "source": [
    "# Conditional distribution of x given y\n",
    "\n",
    "x_marginal = pxy_table.sum(axis=0)\n",
    "print(x_marginal)\n",
    "\n",
    "px_given_y = pxy_table.div(x_marginal, axis=1)\n",
    "px_given_y"
   ]
  },
  {
   "cell_type": "code",
   "execution_count": 7,
   "metadata": {},
   "outputs": [
    {
     "name": "stdout",
     "output_type": "stream",
     "text": [
      "x\n",
      "0    0.250\n",
      "1    0.095\n",
      "2    0.272\n",
      "3    0.383\n",
      "dtype: float64\n"
     ]
    },
    {
     "data": {
      "text/html": [
       "<div>\n",
       "<style scoped>\n",
       "    .dataframe tbody tr th:only-of-type {\n",
       "        vertical-align: middle;\n",
       "    }\n",
       "\n",
       "    .dataframe tbody tr th {\n",
       "        vertical-align: top;\n",
       "    }\n",
       "\n",
       "    .dataframe thead th {\n",
       "        text-align: right;\n",
       "    }\n",
       "</style>\n",
       "<table border=\"1\" class=\"dataframe\">\n",
       "  <thead>\n",
       "    <tr style=\"text-align: right;\">\n",
       "      <th>y</th>\n",
       "      <th>2</th>\n",
       "      <th>3</th>\n",
       "    </tr>\n",
       "    <tr>\n",
       "      <th>x</th>\n",
       "      <th></th>\n",
       "      <th></th>\n",
       "    </tr>\n",
       "  </thead>\n",
       "  <tbody>\n",
       "    <tr>\n",
       "      <th>0</th>\n",
       "      <td>0.964000</td>\n",
       "      <td>0.036000</td>\n",
       "    </tr>\n",
       "    <tr>\n",
       "      <th>1</th>\n",
       "      <td>0.936842</td>\n",
       "      <td>0.063158</td>\n",
       "    </tr>\n",
       "    <tr>\n",
       "      <th>2</th>\n",
       "      <td>0.841912</td>\n",
       "      <td>0.158088</td>\n",
       "    </tr>\n",
       "    <tr>\n",
       "      <th>3</th>\n",
       "      <td>0.524804</td>\n",
       "      <td>0.475196</td>\n",
       "    </tr>\n",
       "  </tbody>\n",
       "</table>\n",
       "</div>"
      ],
      "text/plain": [
       "y         2         3\n",
       "x                    \n",
       "0  0.964000  0.036000\n",
       "1  0.936842  0.063158\n",
       "2  0.841912  0.158088\n",
       "3  0.524804  0.475196"
      ]
     },
     "execution_count": 7,
     "metadata": {},
     "output_type": "execute_result"
    }
   ],
   "source": [
    "# Conditional distribution of y given x\n",
    "\n",
    "y_marginal = pxy_table.sum(axis=1)\n",
    "print(y_marginal)\n",
    "py_given_x = pxy_table.div(y_marginal, axis=0)\n",
    "py_given_x\n"
   ]
  },
  {
   "cell_type": "markdown",
   "metadata": {},
   "source": [
    "## Conditional Moments\n",
    "\n",
    "The conditional distributions are probability distributions in their own right, and we can summarize them in the same way as we summarize univariate distributions. For example, we can calculate the conditional mean of $X$ given $Y$ as\n",
    "\n",
    "$$\n",
    "E(X|Y=y) = \\sum_x x f_{X|Y}(x|y)\n",
    "$$\n",
    "\n",
    "and the conditional variance of $X$ given $Y$ as\n",
    "\n",
    "$$\n",
    "Var(X|Y=y) = \\sum_x (x - E(X|Y=y))^2 f_{X|Y}(x|y)\n",
    "$$\n"
   ]
  },
  {
   "cell_type": "markdown",
   "metadata": {},
   "source": [
    ":::{.callout-important }\n",
    "## The Conditional Expectation is a Random Variable\n",
    "\n",
    "Unlike the unconditional expectation, which is just a real number (not random), the conditional expectation depends on the value of the conditioning variable. Therefore, the conditional expectation is a random variable itself. This is important to keep in mind when we use the conditional expectation in further calculations.\n",
    "\n",
    ":::"
   ]
  },
  {
   "cell_type": "markdown",
   "metadata": {},
   "source": [
    ":::{.callout-important}\n",
    "## The Expectation of the Joint Distribution is a Vector\n",
    "\n",
    "The expectation of the joint distribution is a vector of the expectations of the individual random variables. For example, the expectation of the joint distribution of $X$ and $Y$ is\n",
    "\n",
    "$$\n",
    "E(X, Y) = \\begin{pmatrix} E(X) \\\\ E(Y) \\end{pmatrix}\n",
    "$$\n",
    "\n",
    ":::"
   ]
  },
  {
   "cell_type": "code",
   "execution_count": 40,
   "metadata": {},
   "outputs": [
    {
     "data": {
      "text/html": [
       "<div>\n",
       "<style scoped>\n",
       "    .dataframe tbody tr th:only-of-type {\n",
       "        vertical-align: middle;\n",
       "    }\n",
       "\n",
       "    .dataframe tbody tr th {\n",
       "        vertical-align: top;\n",
       "    }\n",
       "\n",
       "    .dataframe thead th {\n",
       "        text-align: right;\n",
       "    }\n",
       "</style>\n",
       "<table border=\"1\" class=\"dataframe\">\n",
       "  <thead>\n",
       "    <tr style=\"text-align: right;\">\n",
       "      <th></th>\n",
       "      <th>x</th>\n",
       "      <th>y</th>\n",
       "      <th>var</th>\n",
       "      <th>p</th>\n",
       "    </tr>\n",
       "  </thead>\n",
       "  <tbody>\n",
       "    <tr>\n",
       "      <th>0</th>\n",
       "      <td>0</td>\n",
       "      <td>2</td>\n",
       "      <td>p</td>\n",
       "      <td>0.241</td>\n",
       "    </tr>\n",
       "    <tr>\n",
       "      <th>1</th>\n",
       "      <td>0</td>\n",
       "      <td>3</td>\n",
       "      <td>p</td>\n",
       "      <td>0.009</td>\n",
       "    </tr>\n",
       "    <tr>\n",
       "      <th>2</th>\n",
       "      <td>1</td>\n",
       "      <td>2</td>\n",
       "      <td>p</td>\n",
       "      <td>0.089</td>\n",
       "    </tr>\n",
       "    <tr>\n",
       "      <th>3</th>\n",
       "      <td>1</td>\n",
       "      <td>3</td>\n",
       "      <td>p</td>\n",
       "      <td>0.006</td>\n",
       "    </tr>\n",
       "    <tr>\n",
       "      <th>4</th>\n",
       "      <td>2</td>\n",
       "      <td>2</td>\n",
       "      <td>p</td>\n",
       "      <td>0.229</td>\n",
       "    </tr>\n",
       "    <tr>\n",
       "      <th>5</th>\n",
       "      <td>2</td>\n",
       "      <td>3</td>\n",
       "      <td>p</td>\n",
       "      <td>0.043</td>\n",
       "    </tr>\n",
       "    <tr>\n",
       "      <th>6</th>\n",
       "      <td>3</td>\n",
       "      <td>2</td>\n",
       "      <td>p</td>\n",
       "      <td>0.201</td>\n",
       "    </tr>\n",
       "    <tr>\n",
       "      <th>7</th>\n",
       "      <td>3</td>\n",
       "      <td>3</td>\n",
       "      <td>p</td>\n",
       "      <td>0.182</td>\n",
       "    </tr>\n",
       "  </tbody>\n",
       "</table>\n",
       "</div>"
      ],
      "text/plain": [
       "   x  y var      p\n",
       "0  0  2   p  0.241\n",
       "1  0  3   p  0.009\n",
       "2  1  2   p  0.089\n",
       "3  1  3   p  0.006\n",
       "4  2  2   p  0.229\n",
       "5  2  3   p  0.043\n",
       "6  3  2   p  0.201\n",
       "7  3  3   p  0.182"
      ]
     },
     "execution_count": 40,
     "metadata": {},
     "output_type": "execute_result"
    }
   ],
   "source": [
    "# In pandas it is easier to calculate the conditional moments in a long format (more rows than columns)\n",
    "\n",
    "pxy_long = pxy.melt(id_vars=['x', 'y'], var_name='var').rename(columns={'value': 'p'})\n",
    "pxy_long"
   ]
  },
  {
   "cell_type": "code",
   "execution_count": 47,
   "metadata": {},
   "outputs": [
    {
     "name": "stderr",
     "output_type": "stream",
     "text": [
      "/tmp/ipykernel_48635/1029770212.py:3: DeprecationWarning: DataFrameGroupBy.apply operated on the grouping columns. This behavior is deprecated, and in a future version of pandas the grouping columns will be excluded from the operation. Either pass `include_groups=False` to exclude the groupings or explicitly select the grouping columns after groupby to silence this warning.\n",
      "  pxy_long.groupby('x').apply(lambda d: (d['y'] * d['p'] / d['p'].sum()).sum())\n"
     ]
    },
    {
     "data": {
      "text/plain": [
       "x\n",
       "0    2.036000\n",
       "1    2.063158\n",
       "2    2.158088\n",
       "3    2.475196\n",
       "dtype: float64"
      ]
     },
     "execution_count": 47,
     "metadata": {},
     "output_type": "execute_result"
    }
   ],
   "source": [
    "# Conditional expectation of y given x\n",
    "\n",
    "pxy_long.groupby('x').apply(lambda d: (d['y'] * d['p'] / d['p'].sum()).sum())"
   ]
  },
  {
   "cell_type": "code",
   "execution_count": 48,
   "metadata": {},
   "outputs": [
    {
     "name": "stderr",
     "output_type": "stream",
     "text": [
      "/tmp/ipykernel_48635/2853574574.py:3: DeprecationWarning: DataFrameGroupBy.apply operated on the grouping columns. This behavior is deprecated, and in a future version of pandas the grouping columns will be excluded from the operation. Either pass `include_groups=False` to exclude the groupings or explicitly select the grouping columns after groupby to silence this warning.\n",
      "  pxy_long.groupby('y').apply(lambda d: (d['x'] * d['p'] / d['p'].sum()).sum())\n"
     ]
    },
    {
     "data": {
      "text/plain": [
       "y\n",
       "2    1.513158\n",
       "3    2.658333\n",
       "dtype: float64"
      ]
     },
     "execution_count": 48,
     "metadata": {},
     "output_type": "execute_result"
    }
   ],
   "source": [
    "# Conditional expectation of x given y\n",
    "\n",
    "pxy_long.groupby('y').apply(lambda d: (d['x'] * d['p'] / d['p'].sum()).sum())\n"
   ]
  },
  {
   "cell_type": "markdown",
   "metadata": {},
   "source": [
    "## Covariance and Correlation\n",
    "\n",
    "When we have two random variables, we are often interested in the relationship between them. For example, we may want to know how our product sales are related to marketing spending or how a person's annual income is related to their education level (as measured by years spent in education, for example). \n",
    "\n",
    "Here we will discuss a basic statistic that captures a **linear** relationship between two random variables, the covariance.\n",
    "\n",
    "It is easier to understand the covariance if we start with its empirical counterpart, the sample covariance. The sample covariance between two random variables $X$ and $Y$ is defined as the average of the product of the deviations of the observations from their respective means. Let's say we have $n$ observations on pairs of values of $X$ and $Y$, $(x_1, y_1), (x_2, y_2), \\ldots, (x_n, y_n)$. The sample covariance is then\n",
    "\n",
    "$$\n",
    "S_{xy} = \\frac{1}{n - 1} \\sum_{i=1}^n (x_i - \\bar{x})(y_i - \\bar{y})\n",
    "$$\n",
    "\n",
    "where $\\bar{x}$ and $\\bar{y}$ are the sample means of $x$ and $y$, respectively. Again, the sample mean is the average of the observations.\n",
    "\n",
    "$$\n",
    "\\bar{x} = \\frac{1}{n} \\sum_{i=1}^n x_i\n",
    "$$\n",
    "\n",
    "$$\n",
    "\\bar{y} = \\frac{1}{n} \\sum_{i=1}^n y_i\n",
    "$$"
   ]
  },
  {
   "cell_type": "markdown",
   "metadata": {},
   "source": [
    ":::{#exr-sample-covariance}\n",
    "## Sample Covariance\n",
    "\n",
    "Let's calculate the sample covariance for the following data:\n",
    "\n",
    "$$\n",
    "\\begin{align*}\n",
    "x & : (x_1 = 0, x_2 = 1, x_3 = -1) \\\\\n",
    "y & : (y_1 = 2, y_2 = 5, y_3 = 0)\n",
    "\\end{align*}\n",
    "$$\n",
    ":::\n",
    ":::{.callout-note collapse=\"true\"}\n",
    "## Solution (click to expand)\n",
    "\n",
    "The sample means are\n",
    "\n",
    "\n",
    ":::\n"
   ]
  },
  {
   "cell_type": "code",
   "execution_count": 17,
   "metadata": {},
   "outputs": [
    {
     "name": "stdout",
     "output_type": "stream",
     "text": [
      "Sample mean of x: 0.0\n",
      "Sample mean of y: 2.3333333333333335\n"
     ]
    }
   ],
   "source": [
    "# Let's do this with numpy\n",
    "\n",
    "x = np.array([0, 1, -1])\n",
    "y = np.array([2, 5, 0])\n",
    "\n",
    "x_mean = np.mean(x)\n",
    "y_mean = np.mean(y)\n",
    "\n",
    "print(\"Sample mean of x:\", x_mean)\n",
    "print(\"Sample mean of y:\", y_mean)\n"
   ]
  },
  {
   "cell_type": "code",
   "execution_count": 18,
   "metadata": {},
   "outputs": [
    {
     "name": "stdout",
     "output_type": "stream",
     "text": [
      "[ 0.  1. -1.]\n",
      "[-0.33333333  2.66666667 -2.33333333]\n"
     ]
    }
   ],
   "source": [
    "# Now, compute the deviations of x from their mean\n",
    "\n",
    "x_dev = x - x_mean\n",
    "print(x_dev)\n",
    "\n",
    "y_dev = y - y_mean\n",
    "print(y_dev)\n"
   ]
  },
  {
   "cell_type": "code",
   "execution_count": 19,
   "metadata": {},
   "outputs": [
    {
     "name": "stdout",
     "output_type": "stream",
     "text": [
      "[-0.          2.66666667  2.33333333]\n",
      "Covariance of x and y: 2.5\n"
     ]
    }
   ],
   "source": [
    "# Now we have all the ingredients to compute the covariance\n",
    "\n",
    "products = x_dev * y_dev\n",
    "print(products)\n",
    "\n",
    "cov_xy = np.sum(products) / (len(x) - 1)\n",
    "\n",
    "print(\"Covariance of x and y:\", cov_xy)"
   ]
  },
  {
   "cell_type": "markdown",
   "metadata": {},
   "source": [
    "Now that you are familiar with the basic mechanics of the sample variance, let's move on to understand what it captures. For this purpose, we will generate some random data and calculate the covariance.\n"
   ]
  },
  {
   "cell_type": "code",
   "execution_count": null,
   "metadata": {},
   "outputs": [
    {
     "name": "stdout",
     "output_type": "stream",
     "text": [
      "Sample mean of x: -0.08451934362227914\n",
      "Sample mean of y: -0.3596972173907351\n",
      "Covariance matrix of x and y:\n",
      " [[0.86539735 1.69624059]\n",
      " [1.69624059 4.23546735]]\n"
     ]
    },
    {
     "data": {
      "text/plain": [
       "Text(0.5, 1.0, 'Scatter plot of x and y')"
      ]
     },
     "execution_count": 32,
     "metadata": {},
     "output_type": "execute_result"
    },
    {
     "data": {
      "image/png": "[encoded data removed]",
      "text/plain": [
       "<Figure size 640x480 with 1 Axes>"
      ]
     },
     "metadata": {},
     "output_type": "display_data"
    }
   ],
   "source": [
    "# Generate some data (positive linear relationship)\n",
    "\n",
    "x1 = np.random.randn(100)\n",
    "y1 = 2 * x1 + np.random.randn(100)\n",
    "\n",
    "print(\"Sample mean of x:\", np.mean(x1))\n",
    "print(\"Sample mean of y:\", np.mean(y1))\n",
    "print(\"Covariance matrix of x and y:\\n\", np.cov(x1, y1))\n",
    "\n",
    "# Plot \n",
    "\n",
    "plt.scatter(x1, y1)\n",
    "plt.axhline(y = np.mean(y1), color='red')\n",
    "plt.axvline(x = np.mean(x1), color='green')\n",
    "plt.xlabel('x')\n",
    "plt.ylabel('y')\n",
    "plt.title('Scatter plot of x and y')\n",
    "\n"
   ]
  },
  {
   "cell_type": "code",
   "execution_count": 48,
   "metadata": {},
   "outputs": [
    {
     "name": "stdout",
     "output_type": "stream",
     "text": [
      "Sample mean of x: 0.10348886824509693\n",
      "Sample mean of y: -0.3210516665569331\n",
      "Covariance matrix of x and y:\n",
      " [[ 0.96444618 -1.88965376]\n",
      " [-1.88965376  4.65805204]]\n"
     ]
    },
    {
     "data": {
      "text/plain": [
       "Text(0.5, 1.0, 'Scatter plot of x and y')"
      ]
     },
     "execution_count": 48,
     "metadata": {},
     "output_type": "execute_result"
    },
    {
     "data": {
      "image/png": "[encoded data removed]",
      "text/plain": [
       "<Figure size 640x480 with 1 Axes>"
      ]
     },
     "metadata": {},
     "output_type": "display_data"
    }
   ],
   "source": [
    "# Generate some data (negative linear relationship)\n",
    "\n",
    "x2 = np.random.randn(100)\n",
    "y2 = - 2 * x2 + np.random.randn(100)\n",
    "\n",
    "print(\"Sample mean of x:\", np.mean(x2))\n",
    "print(\"Sample mean of y:\", np.mean(y2))\n",
    "print(\"Covariance matrix of x and y:\\n\", np.cov(x2, y2))\n",
    "\n",
    "# Plot\n",
    "\n",
    "plt.scatter(x2, y2)\n",
    "plt.axhline(y = np.mean(y2), color='red')\n",
    "plt.axvline(x = np.mean(x2), color='green')\n",
    "plt.xlabel('x')\n",
    "plt.ylabel('y')\n",
    "plt.title('Scatter plot of x and y')"
   ]
  },
  {
   "cell_type": "code",
   "execution_count": 49,
   "metadata": {},
   "outputs": [
    {
     "name": "stdout",
     "output_type": "stream",
     "text": [
      "Sample mean of x: 0.006778526294919248\n",
      "Sample mean of y: 0.07440343947338025\n",
      "Covariance matrix of x and y:\n",
      " [[ 0.83120149 -0.02985675]\n",
      " [-0.02985675  1.24523535]]\n"
     ]
    },
    {
     "data": {
      "text/plain": [
       "Text(0.5, 1.0, 'Scatter plot of x and y')"
      ]
     },
     "execution_count": 49,
     "metadata": {},
     "output_type": "execute_result"
    },
    {
     "data": {
      "image/png": "[encoded data removed]",
      "text/plain": [
       "<Figure size 640x480 with 1 Axes>"
      ]
     },
     "metadata": {},
     "output_type": "display_data"
    }
   ],
   "source": [
    "# Generate some data (no linear relationship)\n",
    "\n",
    "x3 = np.random.randn(100)\n",
    "y3 = np.random.randn(100)\n",
    "\n",
    "print(\"Sample mean of x:\", np.mean(x3))\n",
    "print(\"Sample mean of y:\", np.mean(y3))\n",
    "print(\"Covariance matrix of x and y:\\n\", np.cov(x3, y3))\n",
    "\n",
    "# Plot\n",
    "\n",
    "plt.scatter(x3, y3)\n",
    "plt.axhline(y = np.mean(y3), color='red')\n",
    "plt.axvline(x = np.mean(x3), color='green')\n",
    "plt.xlabel('x')\n",
    "plt.ylabel('y')\n",
    "plt.title('Scatter plot of x and y')"
   ]
  },
  {
   "cell_type": "markdown",
   "metadata": {},
   "source": [
    "## Non-Linear Relationships\n",
    "\n",
    "It is important to remember that the covariance only captures linear relationships between two random variables. If the relationship is non-linear, the covariance will still describe the linear relationship between the two variables. However, it may be close to zero even if there is a strong non-linear relationship between the two variables."
   ]
  },
  {
   "cell_type": "code",
   "execution_count": 50,
   "metadata": {},
   "outputs": [
    {
     "name": "stdout",
     "output_type": "stream",
     "text": [
      "Sample mean of x: -0.025519774410724453\n",
      "Sample mean of y: 0.04245634113359448\n",
      "Covariance matrix of x and y:\n",
      " [[9.03515731 0.13980017]\n",
      " [0.13980017 0.50340521]]\n"
     ]
    },
    {
     "data": {
      "text/plain": [
       "Text(0.5, 1.0, 'Scatter plot of x and y')"
      ]
     },
     "execution_count": 50,
     "metadata": {},
     "output_type": "execute_result"
    },
    {
     "data": {
      "image/png": "[encoded data removed]",
      "text/plain": [
       "<Figure size 640x480 with 1 Axes>"
      ]
     },
     "metadata": {},
     "output_type": "display_data"
    }
   ],
   "source": [
    "# Generate some data (quadratic relationship)\n",
    "\n",
    "x4 = np.random.randn(200) * 3\n",
    "y4 = np.sin(x4) + np.random.randn(200) * 0.1\n",
    "\n",
    "print(\"Sample mean of x:\", np.mean(x4))\n",
    "print(\"Sample mean of y:\", np.mean(y4))\n",
    "\n",
    "print(\"Covariance matrix of x and y:\\n\", np.cov(x4, y4))\n",
    "\n",
    "# Plot\n",
    "\n",
    "plt.scatter(x4, y4)\n",
    "plt.axhline(y = np.mean(y4), color='red')\n",
    "plt.axvline(x = np.mean(x4), color='green')\n",
    "plt.xlabel('x')\n",
    "plt.ylabel('y')\n",
    "plt.title('Scatter plot of x and y')"
   ]
  },
  {
   "cell_type": "markdown",
   "metadata": {},
   "source": [
    "## Correlation\n",
    "\n",
    "The **sign** of the covariance tells us about the direction of the relationship between two random variables. If the covariance is positive, the two variables tend to move in the same direction. If the covariance is negative, the two variables tend to move in opposite directions. However, we cannot say anything about how strong the relationship is.\n",
    "\n",
    "The reason is that the covariance depends on the scale of the variables. For example, let's say we have two sets of measurements: height in m and monthly salary in 1000 USD.\n",
    "\n"
   ]
  },
  {
   "cell_type": "code",
   "execution_count": 55,
   "metadata": {},
   "outputs": [
    {
     "data": {
      "text/plain": [
       "array([[0.01708, 0.0778 ],\n",
       "       [0.0778 , 0.748  ]])"
      ]
     },
     "execution_count": 55,
     "metadata": {},
     "output_type": "execute_result"
    }
   ],
   "source": [
    "height_m = np.array([1.66, 1.76, 1.80, 1.90, 2.00])\n",
    "income_1000USD = np.array([2.1, 3.5, 4.1, 4.3, 3.7])\n",
    "\n",
    "np.cov(height_m, income_1000USD)"
   ]
  },
  {
   "cell_type": "code",
   "execution_count": null,
   "metadata": {},
   "outputs": [
    {
     "data": {
      "text/plain": [
       "array([[170.8  ,   7.78 ],\n",
       "       [  7.78 ,   0.748]])"
      ]
     },
     "execution_count": 57,
     "metadata": {},
     "output_type": "execute_result"
    }
   ],
   "source": [
    "# Now let's change the units of height to centimeters\n",
    "\n",
    "height_cm = height_m * 100\n",
    "\n",
    "np.cov(height_cm, income_1000USD)\n"
   ]
  },
  {
   "cell_type": "markdown",
   "metadata": {},
   "source": [
    "Notice that the covariance has changed and is now exactly 100 times larger than before. As an exercise, change the unit of measurement of the income to USD and see how the covariance changes.\n"
   ]
  },
  {
   "cell_type": "markdown",
   "metadata": {},
   "source": [
    "## Of Variability and Variance\n",
    "\n",
    "Until now we have discussed the span of the data and the inter-quartile range as measures of variability. Another measure of variability is the variance.\n",
    "\n",
    ":::{#def-variance}\n",
    "## The Sample Variance and Sample Standard Deviation\n",
    "\n",
    "The variance of a collection of $n$ values $x_1, x_2, \\ldots, x_n$ is calculated as the average (with a correction factor) of the squared differences between each value and the mean:\n",
    "\n",
    "$$\n",
    "\\text{S}^2_{x} = \\frac{1}{n - 1} \\sum_{i=1}^{n} (x_i - \\bar{x})^2\n",
    "$$\n",
    "\n",
    "This is a short way of writing:\n",
    "\n",
    "$$\n",
    "\\text{S}^2_{x} = \\frac{(x_1 - \\bar{x})^2 + (x_2 - \\bar{x})^2 + \\ldots + (x_n - \\bar{x})^2}{n - 1}\n",
    "$$\n",
    "\n",
    "The standard deviation is the square root of the variance:\n",
    "\n",
    "$$\n",
    "\\text{S}_{x} = \\sqrt{\\text{S}^2_{x}}\n",
    "$$\n",
    "\n",
    ":::\n",
    "\n",
    "What are the units of measurement of the variance and the standard deviation?\n",
    "\n",
    "- Assume that x is measured in meters. What are the units of measurement of the variance and the standard deviation?\n",
    "- Assume that x is measured in centimeters. What are the units of measurement of the variance and the standard deviation?\n",
    "- Assume that x is measured in years. What are the units of measurement of the variance and the standard deviation?v\n",
    "\n",
    "\n",
    ":::{#exm-variance}\n",
    "## Computing the sample variance and the sample standard deviation\n",
    "\n",
    "Given a set of measurements $x = (x_1 = 1, x_2 = 8, x_3 = 3)$, calculate the sample variance and the sample standard deviation.\n",
    "\n",
    ":::\n",
    ":::{.solution}\n",
    "\n",
    "For the set $x$:\n",
    "\n",
    "$$\n",
    "\\bar{x} = \\frac{1 + 8 + 3}{3} = 4\n",
    "$$\n",
    "\n",
    "$$\n",
    "\\text{S}^2_{x} = \\frac{(1 - 4)^2 + (8 - 4)^2 + (3 - 4)^2}{3 - 1} = \\frac{9 + 16 + 1}{2} = 13\n",
    "$$\n",
    "\n",
    ":::\n"
   ]
  }
 ],
 "metadata": {
  "kernelspec": {
   "display_name": "stat2024",
   "language": "python",
   "name": "python3"
  },
  "language_info": {
   "codemirror_mode": {
    "name": "ipython",
    "version": 3
   },
   "file_extension": ".py",
   "mimetype": "text/x-python",
   "name": "python",
   "nbconvert_exporter": "python",
   "pygments_lexer": "ipython3",
   "version": "3.12.5"
  }
 },
 "nbformat": 4,
 "nbformat_minor": 2
}
