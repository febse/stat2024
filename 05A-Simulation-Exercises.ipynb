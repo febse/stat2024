{
 "cells": [
  {
   "cell_type": "markdown",
   "metadata": {},
   "source": [
    ":::{#exr-simulation}\n",
    "## Dice Rolls Simulation\n",
    "\n",
    "You roll two six-sided dice 1000 times. Assume that the dice are fair and that the trials are independent. In how many games would you expect to get a sum greater than 10?\n",
    "\n",
    "- Event $A$: Estimate the probability of getting a sum greater than 10.\n",
    "- Event $B$: Estimate the probability of getting a sum of 7 with the first die being 3.\n",
    "- Event $C$: Estimate the probability of getting a sum greater than 7 and the first die being 5.\n",
    "- Event $D$: Estimate the probability of getting a sum of greater than 8 and the first roll is smaller or equal to the second roll.\n",
    "\n",
    "Use [Exercise 3.3](https://febse.github.io/stat2024/03-Probability.html#discrete-sample-spaces) as a starting point.\n",
    "\n",
    ":::\n",
    ":::{.callout-info collapse=\"true\"}\n",
    "## Sample Space (click to expand)\n",
    "\n",
    "We can consider a sample space of ordered pairs (first die, second die) with 36 equally likely outcomes. The probability of each outcome is $1/36$.\n",
    "\n",
    "The sample space is:\n",
    "\n",
    "$$\n",
    "\\Omega = \\left\\{\n",
    "    \\begin{array}{cccccc}\n",
    "        (1,1) & (1, 2) & (1, 3) & (1, 4) & (1, 5) & (1, 6) \\\\\n",
    "        (2,1) & (2, 2) & (2, 3) & (2, 4) & (2, 5) & (2, 6) \\\\\n",
    "        (3,1) & (3, 2) & (3, 3) & (3, 4) & (3, 5) & (3, 6) \\\\\n",
    "        (4,1) & (4, 2) & (4, 3) & (4, 4) & (4, 5) & (4, 6) \\\\\n",
    "        (5,1) & (5, 2) & (5, 3) & (5, 4) & (5, 5) & (5, 6) \\\\\n",
    "        (6,1) & (6, 2) & (6, 3) & (6, 4) & (6, 5) & (6, 6) \\\\\n",
    "    \\end{array}\n",
    "\\right\\}\n",
    "$$\n",
    ":::\n",
    ":::{.callout-info collapse=\"true\"}\n",
    "## Events (click to expand)\n",
    "\n",
    "Let $A$ be the event that the sum of the dice is greater than 10. The event $A$ is:\n",
    "\n",
    "$$\n",
    "A = \\left\\{\n",
    "    \\begin{array}{cccccc}\n",
    "        (5,6) & (6,5) & (6,6) \\\\\n",
    "    \\end{array}\n",
    "\\right\\}\n",
    "$$\n",
    "\n",
    "It has 3 outcomes, so the probability of $A$ is $3/36 = 1/12$.\n",
    "\n",
    "Let $B$ be the event that the sum of the dice is 7 and the first die is 3. The event $B$ is:\n",
    "\n",
    "$$\n",
    "B = \\left\\{\n",
    "    \\begin{array}{c}\n",
    "        (3,4) \\\\\n",
    "    \\end{array}\n",
    "\\right\\}\n",
    "$$\n",
    "\n",
    "It has 1 outcome, so the probability of $B$ is $1/36$.\n",
    "\n",
    "Let $C$ be the event that the sum of the dice is greater than 7 and the first die is 5. The event $C$ is:\n",
    "\n",
    "$$\n",
    "C = \\left\\{\n",
    "    \\begin{array}{cccc}\n",
    "        (5,3) & (5,4) & (5,5) & (5,6) \\\\\n",
    "    \\end{array}\n",
    "\\right\\}\n",
    "$$\n",
    "\n",
    "It has 4 outcomes, so the probability of $C$ is $4/36 = 1/9$.\n",
    "\n",
    "Let $D$ be the event that the sum of the dice is greater than 8 and the first die is smaller or equal to the second die. The event $D$ is:\n",
    "\n",
    "$$\n",
    "D = \\left\\{\n",
    "    \\begin{array}{cccc}\n",
    "        (6, 6) & (5, 6) & (4, 6) & (3, 6) \\\\\n",
    "        (5, 5) & (4, 5) \\\\\n",
    "    \\end{array}\n",
    "\\right\\}\n",
    "$$\n",
    "\n",
    "It has 6 outcomes, so the probability of $D$ is $6/36 = 1/6$.\n",
    "\n",
    ":::\n"
   ]
  },
  {
   "cell_type": "code",
   "execution_count": 2,
   "metadata": {},
   "outputs": [
    {
     "data": {
      "text/plain": [
       "array([[6, 1],\n",
       "       [5, 3],\n",
       "       [2, 5],\n",
       "       [6, 5],\n",
       "       [2, 3],\n",
       "       [4, 1],\n",
       "       [6, 4],\n",
       "       [1, 4],\n",
       "       [2, 3],\n",
       "       [4, 3]])"
      ]
     },
     "execution_count": 2,
     "metadata": {},
     "output_type": "execute_result"
    }
   ],
   "source": [
    "import numpy as np\n",
    "\n",
    "# First, throw a pair of dice 10 times.\n",
    "# The result is a 10x2 matrix where each row is one throw.\n",
    "# The first column is the result of the first die, the second column is the result of the second die.\n",
    "# Each row corresponds to one repetition of the game\n",
    "\n",
    "rolls = np.random.choice([1, 2, 3, 4, 5, 6], size=[10, 2])\n",
    "rolls\n"
   ]
  },
  {
   "cell_type": "code",
   "execution_count": 6,
   "metadata": {},
   "outputs": [
    {
     "data": {
      "text/plain": [
       "70"
      ]
     },
     "execution_count": 6,
     "metadata": {},
     "output_type": "execute_result"
    }
   ],
   "source": [
    "# The following uses the function np.sum()\n",
    "# Check what it is doing\n",
    "\n",
    "np.sum(rolls)"
   ]
  },
  {
   "cell_type": "code",
   "execution_count": 7,
   "metadata": {},
   "outputs": [
    {
     "data": {
      "text/plain": [
       "array([38, 32])"
      ]
     },
     "execution_count": 7,
     "metadata": {},
     "output_type": "execute_result"
    }
   ],
   "source": [
    "np.sum(rolls, axis=0)"
   ]
  },
  {
   "cell_type": "code",
   "execution_count": 8,
   "metadata": {},
   "outputs": [
    {
     "data": {
      "text/plain": [
       "array([ 7,  8,  7, 11,  5,  5, 10,  5,  5,  7])"
      ]
     },
     "execution_count": 8,
     "metadata": {},
     "output_type": "execute_result"
    }
   ],
   "source": [
    "np.sum(rolls, axis=1)"
   ]
  },
  {
   "cell_type": "code",
   "execution_count": 9,
   "metadata": {},
   "outputs": [
    {
     "data": {
      "text/plain": [
       "array([6, 1])"
      ]
     },
     "execution_count": 9,
     "metadata": {},
     "output_type": "execute_result"
    }
   ],
   "source": [
    "# The next operation that we need is array slicing. Run the following code and compare the output to the original rolls array.\n",
    "# Selects the first row of the array\n",
    "rolls[0]"
   ]
  },
  {
   "cell_type": "code",
   "execution_count": 12,
   "metadata": {},
   "outputs": [
    {
     "data": {
      "text/plain": [
       "array([6, 1])"
      ]
     },
     "execution_count": 12,
     "metadata": {},
     "output_type": "execute_result"
    }
   ],
   "source": [
    "# Selects the first column of the array (same as above)\n",
    "rolls[0, :]"
   ]
  },
  {
   "cell_type": "code",
   "execution_count": 10,
   "metadata": {},
   "outputs": [
    {
     "data": {
      "text/plain": [
       "array([6, 5, 2, 6, 2, 4, 6, 1, 2, 4])"
      ]
     },
     "execution_count": 10,
     "metadata": {},
     "output_type": "execute_result"
    }
   ],
   "source": [
    "# Selects the first column\n",
    "\n",
    "rolls[:, 0]"
   ]
  },
  {
   "cell_type": "code",
   "execution_count": 11,
   "metadata": {},
   "outputs": [
    {
     "data": {
      "text/plain": [
       "array([1, 3, 5, 5, 3, 1, 4, 4, 3, 3])"
      ]
     },
     "execution_count": 11,
     "metadata": {},
     "output_type": "execute_result"
    }
   ],
   "source": [
    "# Selects the second column\n",
    "\n",
    "rolls[:, 1]"
   ]
  },
  {
   "cell_type": "code",
   "execution_count": 13,
   "metadata": {},
   "outputs": [
    {
     "data": {
      "text/plain": [
       "array([[ True, False],\n",
       "       [ True, False],\n",
       "       [False,  True],\n",
       "       [ True,  True],\n",
       "       [False, False],\n",
       "       [ True, False],\n",
       "       [ True,  True],\n",
       "       [False,  True],\n",
       "       [False, False],\n",
       "       [ True, False]])"
      ]
     },
     "execution_count": 13,
     "metadata": {},
     "output_type": "execute_result"
    }
   ],
   "source": [
    "# We also need logical comparisons. Run the following code and compare the output to the original rolls array.\n",
    "\n",
    "rolls > 3\n"
   ]
  },
  {
   "cell_type": "code",
   "execution_count": 14,
   "metadata": {},
   "outputs": [
    {
     "data": {
      "text/plain": [
       "array([ True,  True, False,  True, False,  True,  True, False, False,\n",
       "        True])"
      ]
     },
     "execution_count": 14,
     "metadata": {},
     "output_type": "execute_result"
    }
   ],
   "source": [
    "rolls[:, 0] > 3"
   ]
  },
  {
   "cell_type": "code",
   "execution_count": 15,
   "metadata": {},
   "outputs": [
    {
     "data": {
      "text/plain": [
       "6"
      ]
     },
     "execution_count": 15,
     "metadata": {},
     "output_type": "execute_result"
    }
   ],
   "source": [
    "np.sum(rolls[:, 0] > 3)"
   ]
  },
  {
   "cell_type": "code",
   "execution_count": 5,
   "metadata": {},
   "outputs": [
    {
     "data": {
      "text/plain": [
       "3"
      ]
     },
     "execution_count": 5,
     "metadata": {},
     "output_type": "execute_result"
    }
   ],
   "source": [
    "# Count the number of occurrences of event A\n",
    "# For A the sum of the two dice is 10\n",
    "# You can use the np.sum() function to sum the values in each row\n",
    "# Then you can compare the result to 10 using the == operator\n",
    "# The result is a boolean array (True/False) where True means that the sum of the two dice is 10\n",
    "# You can use the np.sum() function again to count the number of occurrences of True\n",
    "\n",
    "# In the following, change the condition to check if the sum of the two dice is 10\n",
    "\n",
    "roll_sum = np.sum(rolls, axis=1)\n",
    "A = (roll_sum == 12)\n",
    "np.sum(A)"
   ]
  },
  {
   "cell_type": "code",
   "execution_count": null,
   "metadata": {},
   "outputs": [],
   "source": [
    "# In event B the sum is 7 AND the first die is 3\n",
    "# You can use the & operator to combine two conditions\n",
    "# The result is a boolean array where True means that both conditions are True\n",
    "# You can use the np.sum() function to count the number\n",
    "# of occurrences\n",
    "# You can access the first column of the matrix using the syntax rolls[:, 0]\n",
    "\n",
    "# In the following, change the condition to check if the sum of the two dice is 7 AND the first die is 3\n",
    "\n",
    "B = (roll_sum == 3) & (rolls[:, 1] == 8)\n",
    "\n",
    "# Count the number of occurrences of event B as in the previous example\n"
   ]
  },
  {
   "cell_type": "code",
   "execution_count": null,
   "metadata": {},
   "outputs": [],
   "source": [
    "# For event C the sum is greater (>) than 7 AND the first die is 5\n",
    "# Change the code for event B so that you can count the number of occurrences of event C\n",
    "\n"
   ]
  },
  {
   "cell_type": "code",
   "execution_count": null,
   "metadata": {},
   "outputs": [
    {
     "data": {
      "text/plain": [
       "array([ True,  True, False,  True, False,  True,  True, False, False,\n",
       "        True])"
      ]
     },
     "execution_count": 16,
     "metadata": {},
     "output_type": "execute_result"
    }
   ],
   "source": [
    "# For event D the sum is greater (>) than 8 AND the first roll is less (<) than the second roll\n",
    "# To compare the first and second rolls you can use the < operator\n",
    "\n",
    "# For example the following checks if the first roll is greater than the second roll\n",
    "# Adapt it and use it to count the number of occurrences of event D\n",
    "\n",
    "rolls[:, 0] > rolls[:, 1]\n"
   ]
  }
 ],
 "metadata": {
  "kernelspec": {
   "display_name": "stat2024",
   "language": "python",
   "name": "python3"
  },
  "language_info": {
   "codemirror_mode": {
    "name": "ipython",
    "version": 3
   },
   "file_extension": ".py",
   "mimetype": "text/x-python",
   "name": "python",
   "nbconvert_exporter": "python",
   "pygments_lexer": "ipython3",
   "version": "3.12.7"
  }
 },
 "nbformat": 4,
 "nbformat_minor": 2
}
