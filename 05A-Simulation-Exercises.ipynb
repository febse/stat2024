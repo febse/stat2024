{
 "cells": [
  {
   "cell_type": "markdown",
   "metadata": {},
   "source": [
    ":::{#exr-simulation}\n",
    "## Dice Rolls Simulation\n",
    "\n",
    "You roll two six-sided dice 1000 times. Assume that the dice are fair and that the trials are independent. In how many games would you expect to get a sum greater than 10?\n",
    "\n",
    "- Event $A$: Estimate the probability of getting a sum greater than 10.\n",
    "- Event $B$: Estimate the probability of getting a sum of 7 with the first die being 3.\n",
    "- Event $C$: Estimate the probability of getting a sum greater than 7 and the first die being 5.\n",
    "- Event $D$: Estimate the probability of getting a sum of greater than 8 and the first roll is smaller or equal to the second roll.\n",
    "\n",
    "Use [Exercise 3.3](https://febse.github.io/stat2024/03-Probability.html#discrete-sample-spaces) as a starting point.\n",
    "\n",
    ":::\n",
    ":::{.callout-info collapse=\"true\"}\n",
    "## Sample Space (click to expand)\n",
    "\n",
    "We can consider a sample space of ordered pairs (first die, second die) with 36 equally likely outcomes. The probability of each outcome is $1/36$.\n",
    "\n",
    "The sample space is:\n",
    "\n",
    "$$\n",
    "\\Omega = \\left\\{\n",
    "    \\begin{array}{cccccc}\n",
    "        (1,1) & (1, 2) & (1, 3) & (1, 4) & (1, 5) & (1, 6) \\\\\n",
    "        (2,1) & (2, 2) & (2, 3) & (2, 4) & (2, 5) & (2, 6) \\\\\n",
    "        (3,1) & (3, 2) & (3, 3) & (3, 4) & (3, 5) & (3, 6) \\\\\n",
    "        (4,1) & (4, 2) & (4, 3) & (4, 4) & (4, 5) & (4, 6) \\\\\n",
    "        (5,1) & (5, 2) & (5, 3) & (5, 4) & (5, 5) & (5, 6) \\\\\n",
    "        (6,1) & (6, 2) & (6, 3) & (6, 4) & (6, 5) & (6, 6) \\\\\n",
    "    \\end{array}\n",
    "\\right\\}\n",
    "$$\n",
    ":::\n",
    ":::{.callout-info collapse=\"true\"}\n",
    "## Events (click to expand)\n",
    "\n",
    "Let $A$ be the event that the sum of the dice is greater than 10. The event $A$ is:\n",
    "\n",
    "$$\n",
    "A = \\left\\{\n",
    "    \\begin{array}{cccccc}\n",
    "        (5,6) & (6,5) & (6,6) \\\\\n",
    "    \\end{array}\n",
    "\\right\\}\n",
    "$$\n",
    "\n",
    "It has 3 outcomes, so the probability of $A$ is $3/36 = 1/12$.\n",
    "\n",
    "Let $B$ be the event that the sum of the dice is 7 and the first die is 3. The event $B$ is:\n",
    "\n",
    "$$\n",
    "B = \\left\\{\n",
    "    \\begin{array}{c}\n",
    "        (3,4) \\\\\n",
    "    \\end{array}\n",
    "\\right\\}\n",
    "$$\n",
    "\n",
    "It has 1 outcome, so the probability of $B$ is $1/36$.\n",
    "\n",
    "Let $C$ be the event that the sum of the dice is greater than 7 and the first die is 5. The event $C$ is:\n",
    "\n",
    "$$\n",
    "C = \\left\\{\n",
    "    \\begin{array}{cccc}\n",
    "        (5,3) & (5,4) & (5,5) & (5,6) \\\\\n",
    "    \\end{array}\n",
    "\\right\\}\n",
    "$$\n",
    "\n",
    "It has 4 outcomes, so the probability of $C$ is $4/36 = 1/9$.\n",
    "\n",
    "Let $D$ be the event that the sum of the dice is greater than 8 and the first die is smaller or equal to the second die. The event $D$ is:\n",
    "\n",
    "$$\n",
    "D = \\left\\{\n",
    "    \\begin{array}{cccc}\n",
    "        (6, 6) & (5, 6) & (4, 6) & (3, 6) \\\\\n",
    "        (5, 5) & (4, 5) \\\\\n",
    "    \\end{array}\n",
    "\\right\\}\n",
    "$$\n",
    "\n",
    "It has 6 outcomes, so the probability of $D$ is $6/36 = 1/6$.\n",
    "\n",
    ":::\n"
   ]
  },
  {
   "cell_type": "code",
   "execution_count": 2,
   "metadata": {},
   "outputs": [
    {
     "data": {
      "text/plain": [
       "array([[5, 4],\n",
       "       [5, 1],\n",
       "       [1, 3],\n",
       "       [4, 4],\n",
       "       [5, 3],\n",
       "       [3, 2],\n",
       "       [5, 4],\n",
       "       [3, 3],\n",
       "       [2, 3],\n",
       "       [1, 3]])"
      ]
     },
     "execution_count": 2,
     "metadata": {},
     "output_type": "execute_result"
    }
   ],
   "source": [
    "import numpy as np\n",
    "\n",
    "# First, throw a pair of dice 10 times.\n",
    "# The result is a 10x2 matrix where each row is one throw.\n",
    "# The first column is the result of the first die, the second column is the result of the second die.\n",
    "# Each row corresponds to one repetition of the game\n",
    "\n",
    "rolls = np.random.choice([1, 2, 3, 4, 5, 6], size=[10, 2])\n",
    "rolls\n"
   ]
  },
  {
   "cell_type": "code",
   "execution_count": 3,
   "metadata": {},
   "outputs": [
    {
     "data": {
      "text/plain": [
       "64"
      ]
     },
     "execution_count": 3,
     "metadata": {},
     "output_type": "execute_result"
    }
   ],
   "source": [
    "# The following uses the function np.sum()\n",
    "# Check what it is doing\n",
    "\n",
    "np.sum(rolls)"
   ]
  },
  {
   "cell_type": "code",
   "execution_count": 4,
   "metadata": {},
   "outputs": [
    {
     "data": {
      "text/plain": [
       "array([34, 30])"
      ]
     },
     "execution_count": 4,
     "metadata": {},
     "output_type": "execute_result"
    }
   ],
   "source": [
    "np.sum(rolls, axis=0)"
   ]
  },
  {
   "cell_type": "code",
   "execution_count": 5,
   "metadata": {},
   "outputs": [
    {
     "data": {
      "text/plain": [
       "array([9, 6, 4, 8, 8, 5, 9, 6, 5, 4])"
      ]
     },
     "execution_count": 5,
     "metadata": {},
     "output_type": "execute_result"
    }
   ],
   "source": [
    "np.sum(rolls, axis=1)"
   ]
  },
  {
   "cell_type": "code",
   "execution_count": 6,
   "metadata": {},
   "outputs": [
    {
     "data": {
      "text/plain": [
       "array([5, 4])"
      ]
     },
     "execution_count": 6,
     "metadata": {},
     "output_type": "execute_result"
    }
   ],
   "source": [
    "# The next operation that we need is array slicing. Run the following code and compare the output to the original rolls array.\n",
    "# Selects the first row of the array\n",
    "rolls[0]"
   ]
  },
  {
   "cell_type": "code",
   "execution_count": 7,
   "metadata": {},
   "outputs": [
    {
     "data": {
      "text/plain": [
       "array([5, 4])"
      ]
     },
     "execution_count": 7,
     "metadata": {},
     "output_type": "execute_result"
    }
   ],
   "source": [
    "# Selects the first column of the array (same as above)\n",
    "rolls[0, :]"
   ]
  },
  {
   "cell_type": "code",
   "execution_count": 8,
   "metadata": {},
   "outputs": [
    {
     "data": {
      "text/plain": [
       "array([5, 5, 1, 4, 5, 3, 5, 3, 2, 1])"
      ]
     },
     "execution_count": 8,
     "metadata": {},
     "output_type": "execute_result"
    }
   ],
   "source": [
    "# Selects the first column\n",
    "\n",
    "rolls[:, 0]"
   ]
  },
  {
   "cell_type": "code",
   "execution_count": 9,
   "metadata": {},
   "outputs": [
    {
     "data": {
      "text/plain": [
       "array([4, 1, 3, 4, 3, 2, 4, 3, 3, 3])"
      ]
     },
     "execution_count": 9,
     "metadata": {},
     "output_type": "execute_result"
    }
   ],
   "source": [
    "# Selects the second column\n",
    "\n",
    "rolls[:, 1]"
   ]
  },
  {
   "cell_type": "code",
   "execution_count": 10,
   "metadata": {},
   "outputs": [
    {
     "data": {
      "text/plain": [
       "array([[ True,  True],\n",
       "       [ True, False],\n",
       "       [False, False],\n",
       "       [ True,  True],\n",
       "       [ True, False],\n",
       "       [False, False],\n",
       "       [ True,  True],\n",
       "       [False, False],\n",
       "       [False, False],\n",
       "       [False, False]])"
      ]
     },
     "execution_count": 10,
     "metadata": {},
     "output_type": "execute_result"
    }
   ],
   "source": [
    "# We also need logical comparisons. Run the following code and compare the output to the original rolls array.\n",
    "\n",
    "rolls > 3\n"
   ]
  },
  {
   "cell_type": "code",
   "execution_count": 11,
   "metadata": {},
   "outputs": [
    {
     "data": {
      "text/plain": [
       "array([ True,  True, False,  True,  True, False,  True, False, False,\n",
       "       False])"
      ]
     },
     "execution_count": 11,
     "metadata": {},
     "output_type": "execute_result"
    }
   ],
   "source": [
    "rolls[:, 0] > 3"
   ]
  },
  {
   "cell_type": "code",
   "execution_count": 12,
   "metadata": {},
   "outputs": [
    {
     "data": {
      "text/plain": [
       "5"
      ]
     },
     "execution_count": 12,
     "metadata": {},
     "output_type": "execute_result"
    }
   ],
   "source": [
    "np.sum(rolls[:, 0] > 3)"
   ]
  },
  {
   "cell_type": "code",
   "execution_count": 13,
   "metadata": {},
   "outputs": [
    {
     "data": {
      "text/plain": [
       "0"
      ]
     },
     "execution_count": 13,
     "metadata": {},
     "output_type": "execute_result"
    }
   ],
   "source": [
    "# Count the number of occurrences of event A\n",
    "# For A the sum of the two dice is 10\n",
    "# You can use the np.sum() function to sum the values in each row\n",
    "# Then you can compare the result to 10 using the == operator\n",
    "# The result is a boolean array (True/False) where True means that the sum of the two dice is 10\n",
    "# You can use the np.sum() function again to count the number of occurrences of True\n",
    "\n",
    "# In the following, change the condition to check if the sum of the two dice is 10\n",
    "\n",
    "roll_sum = np.sum(rolls, axis=1)\n",
    "A = (roll_sum == 12)\n",
    "np.sum(A)"
   ]
  },
  {
   "cell_type": "code",
   "execution_count": 14,
   "metadata": {},
   "outputs": [],
   "source": [
    "# In event B the sum is 7 AND the first die is 3\n",
    "# You can use the & operator to combine two conditions\n",
    "# The result is a boolean array where True means that both conditions are True\n",
    "# You can use the np.sum() function to count the number\n",
    "# of occurrences\n",
    "# You can access the first column of the matrix using the syntax rolls[:, 0]\n",
    "\n",
    "# In the following, change the condition to check if the sum of the two dice is 7 AND the first die is 3\n",
    "\n",
    "B = (roll_sum == 3) & (rolls[:, 1] == 8)\n",
    "\n",
    "# Count the number of occurrences of event B as in the previous example\n"
   ]
  },
  {
   "cell_type": "code",
   "execution_count": 15,
   "metadata": {},
   "outputs": [],
   "source": [
    "# For event C the sum is greater (>) than 7 AND the first die is 5\n",
    "# Change the code for event B so that you can count the number of occurrences of event C\n",
    "\n"
   ]
  },
  {
   "cell_type": "code",
   "execution_count": 16,
   "metadata": {},
   "outputs": [
    {
     "data": {
      "text/plain": [
       "array([ True,  True, False, False,  True,  True,  True, False, False,\n",
       "       False])"
      ]
     },
     "execution_count": 16,
     "metadata": {},
     "output_type": "execute_result"
    }
   ],
   "source": [
    "# For event D the sum is greater (>) than 8 AND the first roll is less (<) than the second roll\n",
    "# To compare the first and second rolls you can use the < operator\n",
    "\n",
    "# For example the following checks if the first roll is greater than the second roll\n",
    "# Adapt it and use it to count the number of occurrences of event D\n",
    "\n",
    "rolls[:, 0] > rolls[:, 1]\n"
   ]
  },
  {
   "cell_type": "markdown",
   "metadata": {},
   "source": [
    "## The Matching Problem\n",
    "\n",
    "Some results in probability theory can be confusing and counter-intuitive. A classic example is the matching problem. Consider a room with $n$ dancing couples. If the couples are randomly paired, what is the probability that after the pairing, no one is matched with their original partner?\n",
    "\n",
    "Imagine that the leads are numbered from 1 to $n$ and the follows are also numbered from 1 to $n$.\n",
    "\n",
    "The original arrangement of the couples and two possible rearrangements are shown in the table below (for five couples numbered from 0 to 4).\n",
    "\n",
    "| Leads                  | 0   | 1   | 2   | 3   | 4   | Matches |\n",
    "| ---------------------- | --- | --- | --- | --- | --- | ------- |\n",
    "| Follows (original)     | 0   | 1   | 2   | 3   | 4   | 5       |\n",
    "| Follows (rearranged 1) | 2   | 4   | 1   | 3   | 0   | ?       |\n",
    "| Follows (rearranged 2) | 0   | 1   | 3   | 4   | 2   | ?       |\n",
    "\n",
    "\n",
    "We will approach the problem with a simulation. We will randomly pair the couples and count the number of times no one is matched with their original partner. We will then compare the simulation results with the theoretical resulFollows (original)ts."
   ]
  },
  {
   "cell_type": "code",
   "execution_count": 17,
   "metadata": {},
   "outputs": [
    {
     "data": {
      "text/plain": [
       "array([0, 1, 2, 3, 4])"
      ]
     },
     "execution_count": 17,
     "metadata": {},
     "output_type": "execute_result"
    }
   ],
   "source": [
    "n = 5 # Number of pairs\n",
    "repetitions = 3 # Number of simulations\n",
    "\n",
    "# Create a list (an array) of integers from 0 to n-1 (corresponding to the partners)\n",
    "\n",
    "partners = np.arange(n)\n",
    "partners"
   ]
  },
  {
   "cell_type": "code",
   "execution_count": 18,
   "metadata": {},
   "outputs": [
    {
     "name": "stdout",
     "output_type": "stream",
     "text": [
      "Partners after shuffling:\n"
     ]
    },
    {
     "data": {
      "text/plain": [
       "array([1, 3, 4, 0, 2])"
      ]
     },
     "execution_count": 18,
     "metadata": {},
     "output_type": "execute_result"
    }
   ],
   "source": [
    "# NOTE: code for illustration purposes only\n",
    "\n",
    "# A single experiment: shuffle the partners and check if there are any matches\n",
    "\n",
    "partners_shuffled = np.random.permutation(partners)\n",
    "print(\"Partners after shuffling:\")\n",
    "partners_shuffled"
   ]
  },
  {
   "cell_type": "code",
   "execution_count": 19,
   "metadata": {},
   "outputs": [
    {
     "name": "stdout",
     "output_type": "stream",
     "text": [
      "Matches:\n"
     ]
    },
    {
     "data": {
      "text/plain": [
       "array([False, False, False, False, False])"
      ]
     },
     "execution_count": 19,
     "metadata": {},
     "output_type": "execute_result"
    }
   ],
   "source": [
    "# If the value in the shuffled array is the same as in the original array, it means that the partners are the same\n",
    "# as in the original couple\n",
    "\n",
    "# We can check if there are any matches by comparing the two arrays element-wise\n",
    "\n",
    "matches = (partners == partners_shuffled)\n",
    "\n",
    "print(\"Matches:\")\n",
    "matches"
   ]
  },
  {
   "cell_type": "code",
   "execution_count": 20,
   "metadata": {},
   "outputs": [
    {
     "name": "stdout",
     "output_type": "stream",
     "text": [
      "Number of matches: 0\n"
     ]
    }
   ],
   "source": [
    "# We are interested in the event \"No partner gets their original partner\".\n",
    "# \n",
    "\n",
    "n_matches = matches.sum()\n",
    "\n",
    "print(\"Number of matches:\", n_matches)"
   ]
  },
  {
   "cell_type": "code",
   "execution_count": null,
   "metadata": {},
   "outputs": [
    {
     "name": "stdout",
     "output_type": "stream",
     "text": [
      "Simulation 0\n",
      "Simulation 1\n",
      "Simulation 2\n"
     ]
    }
   ],
   "source": [
    "# The following code loops over the number of simulations and counts the number of matches in each simulation\n",
    "# It uses a for loop and the np.random.permutation() function\n",
    "\n",
    "# To see what a loop does you can use the print() function to print the value of a variable inside the loop\n",
    "\n",
    "# np.arange(3) will create an array [0, 1, 2]\n",
    "for i in np.arange(repetitions):\n",
    "    print(\"Simulation\", i)\n"
   ]
  },
  {
   "cell_type": "code",
   "execution_count": 25,
   "metadata": {},
   "outputs": [
    {
     "name": "stdout",
     "output_type": "stream",
     "text": [
      "Counter = 1\n",
      "Counter = 2\n",
      "Counter = 3\n",
      "Counter = 4\n",
      "Counter = 5\n",
      "Counter = 6\n",
      "Counter = 7\n",
      "Counter = 8\n",
      "Counter = 9\n",
      "Counter = 10\n",
      "Final counter value = 10\n"
     ]
    }
   ],
   "source": [
    "# We will use a variable to count the number of matches in each simulation\n",
    "\n",
    "# See how this works in a simple example\n",
    "\n",
    "counter = 0\n",
    "\n",
    "for i in np.arange(10):\n",
    "    counter = counter + 1\n",
    "    print(\"Counter =\", counter)\n",
    "    \n",
    "print(\"Final counter value =\", counter)"
   ]
  },
  {
   "cell_type": "code",
   "execution_count": 26,
   "metadata": {},
   "outputs": [
    {
     "name": "stdout",
     "output_type": "stream",
     "text": [
      "0 is even, incrementing counter\n",
      "Counter: 1\n",
      "1 is odd, not incrementing counter\n",
      "Counter: 1\n",
      "2 is even, incrementing counter\n",
      "Counter: 2\n",
      "3 is odd, not incrementing counter\n",
      "Counter: 2\n",
      "4 is even, incrementing counter\n",
      "Counter: 3\n",
      "5 is odd, not incrementing counter\n",
      "Counter: 3\n",
      "6 is even, incrementing counter\n",
      "Counter: 4\n",
      "7 is odd, not incrementing counter\n",
      "Counter: 4\n",
      "8 is even, incrementing counter\n",
      "Counter: 5\n",
      "9 is odd, not incrementing counter\n",
      "Counter: 5\n",
      "Final counter: 5\n"
     ]
    }
   ],
   "source": [
    "# We can choose when to increment the counter by using an if statement\n",
    "\n",
    "counter = 0\n",
    "\n",
    "for i in range(10):\n",
    "    if i % 2 == 0:\n",
    "        print(i, \"is even, incrementing counter\")\n",
    "        counter = counter + 1\n",
    "    else:\n",
    "        print(i, \"is odd, not incrementing counter\")\n",
    "\n",
    "    print(\"Counter:\", counter)\n",
    "\n",
    "print(\"Final counter:\", counter)"
   ]
  },
  {
   "cell_type": "code",
   "execution_count": null,
   "metadata": {},
   "outputs": [
    {
     "name": "stdout",
     "output_type": "stream",
     "text": [
      "Number of times (simulations) where no partner got their original partner: 80\n",
      "Proportion of no partner getting their original partner: 0.4\n"
     ]
    }
   ],
   "source": [
    "# Now we can repeat the experiment R times and count in how many times there were no matches\n",
    "\n",
    "# Set the number of matches to zero\n",
    "no_matches_counter = 0\n",
    "\n",
    "for i in range(repetitions):\n",
    "    # Shuffle the partners\n",
    "    partners_shuffled = np.random.permutation(partners)\n",
    "    \n",
    "    # Check if no one got their original partner.\n",
    "    no_match_in_permutation = (partners == partners_shuffled).sum() == 0\n",
    "    \n",
    "    # If yes, increment the no_matches counter\n",
    "    if no_match_in_permutation:\n",
    "        no_matches_counter += 1\n",
    "\n",
    "print(\"Number of times (simulations) where no partner got their original partner:\", no_matches_counter)\n",
    "print(\"Proportion of no partner getting their original partner:\", no_matches_counter / repetitions)"
   ]
  }
 ],
 "metadata": {
  "kernelspec": {
   "display_name": "stat2024",
   "language": "python",
   "name": "python3"
  },
  "language_info": {
   "codemirror_mode": {
    "name": "ipython",
    "version": 3
   },
   "file_extension": ".py",
   "mimetype": "text/x-python",
   "name": "python",
   "nbconvert_exporter": "python",
   "pygments_lexer": "ipython3",
   "version": "3.12.7"
  }
 },
 "nbformat": 4,
 "nbformat_minor": 2
}
