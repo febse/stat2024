{
 "cells": [
  {
   "cell_type": "markdown",
   "metadata": {},
   "source": [
    ":::{#exr-simulation}\n",
    "## Dice Rolls Simulation\n",
    "\n",
    "You roll two six-sided dice 1000 times. In how many games would you expect to get a sum greater than 10?\n",
    "\n",
    "- Estimate the probability of getting a sum greater than 10.\n",
    "- Estimate the probability of getting a sum of 7 if the first die is 3.\n",
    "- Estimate the probability of getting a sum of 7 if the first die is 6.\n",
    "- Estimate the probability of getting a sum of 7 if the first roll is smaller or equal to the second roll.\n",
    "\n",
    "Use [Exercise 3.3](https://febse.github.io/stat2024/03-Probability.html#discrete-sample-spaces) as a starting point.\n",
    "\n",
    ":::\n"
   ]
  },
  {
   "cell_type": "code",
   "execution_count": null,
   "metadata": {},
   "outputs": [],
   "source": [
    "# Write your code here\n"
   ]
  }
 ],
 "metadata": {
  "kernelspec": {
   "display_name": "stat2024",
   "language": "python",
   "name": "python3"
  },
  "language_info": {
   "codemirror_mode": {
    "name": "ipython",
    "version": 3
   },
   "file_extension": ".py",
   "mimetype": "text/x-python",
   "name": "python",
   "nbconvert_exporter": "python",
   "pygments_lexer": "ipython3",
   "version": "3.12.5"
  }
 },
 "nbformat": 4,
 "nbformat_minor": 2
}
