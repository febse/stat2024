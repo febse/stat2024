{
 "cells": [
  {
   "cell_type": "markdown",
   "metadata": {},
   "source": [
    ":::{#exr-simulation}\n",
    "## Dice Rolls Simulation\n",
    "\n",
    "You roll two six-sided dice 1000 times. Assume that the dice are fair and that the trials are independent. In how many games would you expect to get a sum greater than 10?\n",
    "\n",
    "- Event $A$: Estimate the probability of getting a sum greater than 10.\n",
    "- Event $B$: Estimate the probability of getting a sum of 7 with the first die being 3.\n",
    "- Event $C$: Estimate the probability of getting a sum greater than 7 and the first die being 5.\n",
    "- Event $D$: Estimate the probability of getting a sum of greater than 8 and the first roll is smaller or equal to the second roll.\n",
    "\n",
    "Use [Exercise 3.3](https://febse.github.io/stat2024/03-Probability.html#discrete-sample-spaces) as a starting point.\n",
    "\n",
    ":::\n",
    ":::{.callout-info collapse=\"true\"}\n",
    "## Sample Space (click to expand)\n",
    "\n",
    "We can consider a sample space of ordered pairs (first die, second die) with 36 equally likely outcomes. The probability of each outcome is $1/36$.\n",
    "\n",
    "The sample space is:\n",
    "\n",
    "$$\n",
    "\\Omega = \\left\\{\n",
    "    \\begin{array}{cccccc}\n",
    "        (1,1) & (1, 2) & (1, 3) & (1, 4) & (1, 5) & (1, 6) \\\\\n",
    "        (2,1) & (2, 2) & (2, 3) & (2, 4) & (2, 5) & (2, 6) \\\\\n",
    "        (3,1) & (3, 2) & (3, 3) & (3, 4) & (3, 5) & (3, 6) \\\\\n",
    "        (4,1) & (4, 2) & (4, 3) & (4, 4) & (4, 5) & (4, 6) \\\\\n",
    "        (5,1) & (5, 2) & (5, 3) & (5, 4) & (5, 5) & (5, 6) \\\\\n",
    "        (6,1) & (6, 2) & (6, 3) & (6, 4) & (6, 5) & (6, 6) \\\\\n",
    "    \\end{array}\n",
    "\\right\\}\n",
    "$$\n",
    ":::\n",
    ":::{.callout-info collapse=\"true\"}\n",
    "## Events (click to expand)\n",
    "\n",
    "Let $A$ be the event that the sum of the dice is greater than 10. The event $A$ is:\n",
    "\n",
    "$$\n",
    "A = \\left\\{\n",
    "    \\begin{array}{cccccc}\n",
    "        (5,6) & (6,5) & (6,6) \\\\\n",
    "    \\end{array}\n",
    "\\right\\}\n",
    "$$\n",
    "\n",
    "It has 3 outcomes, so the probability of $A$ is $3/36 = 1/12$.\n",
    "\n",
    "Let $B$ be the event that the sum of the dice is 7 and the first die is 3. The event $B$ is:\n",
    "\n",
    "$$\n",
    "B = \\left\\{\n",
    "    \\begin{array}{c}\n",
    "        (3,4) \\\\\n",
    "    \\end{array}\n",
    "\\right\\}\n",
    "$$\n",
    "\n",
    "It has 1 outcome, so the probability of $B$ is $1/36$.\n",
    "\n",
    "Let $C$ be the event that the sum of the dice is greater than 7 and the first die is 5. The event $C$ is:\n",
    "\n",
    "$$\n",
    "C = \\left\\{\n",
    "    \\begin{array}{cccc}\n",
    "        (5,3) & (5,4) & (5,5) & (5,6) \\\\\n",
    "    \\end{array}\n",
    "\\right\\}\n",
    "$$\n",
    "\n",
    "It has 4 outcomes, so the probability of $C$ is $4/36 = 1/9$.\n",
    "\n",
    "Let $D$ be the event that the sum of the dice is greater than 8 and the first die is smaller or equal to the second die. The event $D$ is:\n",
    "\n",
    "$$\n",
    "D = \\left\\{\n",
    "    \\begin{array}{cccc}\n",
    "        (6, 6) & (5, 6) & (4, 6) & (3, 6) \\\\\n",
    "        (5, 5) & (4, 5) \\\\\n",
    "    \\end{array}\n",
    "\\right\\}\n",
    "$$\n",
    "\n",
    "It has 6 outcomes, so the probability of $D$ is $6/36 = 1/6$.\n",
    "\n",
    ":::\n"
   ]
  },
  {
   "cell_type": "code",
   "execution_count": 60,
   "metadata": {},
   "outputs": [
    {
     "data": {
      "text/plain": [
       "array([[5, 1],\n",
       "       [1, 4],\n",
       "       [5, 6],\n",
       "       [6, 4],\n",
       "       [5, 5],\n",
       "       [5, 2],\n",
       "       [5, 4],\n",
       "       [4, 2],\n",
       "       [5, 1],\n",
       "       [4, 3]])"
      ]
     },
     "execution_count": 60,
     "metadata": {},
     "output_type": "execute_result"
    }
   ],
   "source": [
    "import numpy as np\n",
    "\n",
    "# First, throw a pair of dice 10 times.\n",
    "# The result is a 10x2 matrix where each row is one throw.\n",
    "# The first column is the result of the first die, the second column is the result of the second die.\n",
    "# Each row corresponds to one repetition of the game\n",
    "\n",
    "rolls = np.random.choice([1, 2, 3, 4, 5, 6], size=[10, 2])\n",
    "rolls\n"
   ]
  },
  {
   "cell_type": "code",
   "execution_count": 59,
   "metadata": {},
   "outputs": [
    {
     "data": {
      "text/plain": [
       "70095"
      ]
     },
     "execution_count": 59,
     "metadata": {},
     "output_type": "execute_result"
    }
   ],
   "source": [
    "# The following uses the function np.sum()\n",
    "# Check what it is doing\n",
    "\n",
    "np.sum(rolls)"
   ]
  },
  {
   "cell_type": "code",
   "execution_count": 3,
   "metadata": {},
   "outputs": [
    {
     "data": {
      "text/plain": [
       "array([34, 30])"
      ]
     },
     "execution_count": 3,
     "metadata": {},
     "output_type": "execute_result"
    }
   ],
   "source": [
    "np.sum(rolls, axis=0)"
   ]
  },
  {
   "cell_type": "code",
   "execution_count": 58,
   "metadata": {},
   "outputs": [
    {
     "data": {
      "text/plain": [
       "array([ 5,  7, 10, ...,  9,  7,  5])"
      ]
     },
     "execution_count": 58,
     "metadata": {},
     "output_type": "execute_result"
    }
   ],
   "source": [
    "np.sum(rolls, axis=1)"
   ]
  },
  {
   "cell_type": "code",
   "execution_count": null,
   "metadata": {},
   "outputs": [
    {
     "data": {
      "text/plain": [
       "array([False, False, False, False, False,  True, False, False, False,\n",
       "        True])"
      ]
     },
     "execution_count": 71,
     "metadata": {},
     "output_type": "execute_result"
    }
   ],
   "source": [
    "np.sum(rolls, axis=1) > 10"
   ]
  },
  {
   "cell_type": "code",
   "execution_count": null,
   "metadata": {},
   "outputs": [
    {
     "data": {
      "text/plain": [
       "array([False, False, False, False, False,  True, False, False, False,\n",
       "        True])"
      ]
     },
     "execution_count": 69,
     "metadata": {},
     "output_type": "execute_result"
    }
   ],
   "source": [
    "eventA = (np.sum(rolls, axis=1) > 10)\n",
    "eventA"
   ]
  },
  {
   "cell_type": "code",
   "execution_count": 72,
   "metadata": {},
   "outputs": [
    {
     "data": {
      "text/plain": [
       "2"
      ]
     },
     "execution_count": 72,
     "metadata": {},
     "output_type": "execute_result"
    }
   ],
   "source": [
    "np.sum(eventA)"
   ]
  },
  {
   "cell_type": "code",
   "execution_count": 73,
   "metadata": {},
   "outputs": [
    {
     "data": {
      "text/plain": [
       "0.2"
      ]
     },
     "execution_count": 73,
     "metadata": {},
     "output_type": "execute_result"
    }
   ],
   "source": [
    "np.mean(eventA)"
   ]
  },
  {
   "cell_type": "code",
   "execution_count": 68,
   "metadata": {},
   "outputs": [
    {
     "name": "stdout",
     "output_type": "stream",
     "text": [
      "Event A occurred in 2 games.\n",
      "Event A occurred in 20.0 percent of the games.\n"
     ]
    }
   ],
   "source": [
    "print(\"Event A occurred in\", np.sum(eventA), \"games.\")\n",
    "print(\"Event A occurred in\", 100 * np.mean(eventA), \"percent of the games.\")"
   ]
  },
  {
   "cell_type": "code",
   "execution_count": null,
   "metadata": {},
   "outputs": [
    {
     "data": {
      "text/plain": [
       "array([4, 3])"
      ]
     },
     "execution_count": 16,
     "metadata": {},
     "output_type": "execute_result"
    }
   ],
   "source": [
    "# Selects the first row of the array (same as above)\n",
    "rolls[0, :]"
   ]
  },
  {
   "cell_type": "code",
   "execution_count": 70,
   "metadata": {},
   "outputs": [
    {
     "data": {
      "text/plain": [
       "array([5, 1, 5, 6, 5, 5, 5, 4, 5, 4])"
      ]
     },
     "execution_count": 70,
     "metadata": {},
     "output_type": "execute_result"
    }
   ],
   "source": [
    "# Selects the first column of the array (same as above)\n",
    "rolls[:, 0]"
   ]
  },
  {
   "cell_type": "code",
   "execution_count": null,
   "metadata": {},
   "outputs": [
    {
     "data": {
      "text/plain": [
       "array([4, 1, 3, 4, 3, 2, 4, 3, 3, 3])"
      ]
     },
     "execution_count": 9,
     "metadata": {},
     "output_type": "execute_result"
    }
   ],
   "source": [
    "# Selects the second column\n",
    "rolls[:, 1]"
   ]
  },
  {
   "cell_type": "code",
   "execution_count": 11,
   "metadata": {},
   "outputs": [
    {
     "data": {
      "text/plain": [
       "array([ True,  True, False,  True,  True, False,  True, False, False,\n",
       "       False])"
      ]
     },
     "execution_count": 11,
     "metadata": {},
     "output_type": "execute_result"
    }
   ],
   "source": [
    "rolls[:, 0] > 3"
   ]
  },
  {
   "cell_type": "code",
   "execution_count": null,
   "metadata": {},
   "outputs": [],
   "source": [
    "# Create a new array called eventB that is True if:\n",
    "# - the first die equals 3\n",
    "# AND\n",
    "# - the roll sum is equal to 7\n",
    "# Hint: Use the & operator (logical AND)\n",
    " \n"
   ]
  },
  {
   "cell_type": "code",
   "execution_count": 74,
   "metadata": {},
   "outputs": [],
   "source": [
    "# Create a new array called eventC that is True if:\n",
    "# - the roll sum is greater than 7\n",
    "# AND\n",
    "# - the second die is equal to 5\n",
    "\n"
   ]
  },
  {
   "cell_type": "code",
   "execution_count": null,
   "metadata": {},
   "outputs": [],
   "source": [
    "# Create a new array called eventD that is True if:\n",
    "# - the roll sum is greater than 8\n",
    "# AND\n",
    "# - the first die is smaller or equal to the second die\n"
   ]
  },
  {
   "cell_type": "markdown",
   "metadata": {},
   "source": [
    "## The Matching Problem\n",
    "\n",
    "Some results in probability theory can be confusing and counter-intuitive. A classic example is the matching problem. Consider a room with $n$ dancing couples. If the couples are randomly paired, what is the probability that after the pairing, no one is matched with their original partner?\n",
    "\n",
    "Imagine that the leads are numbered from 1 to $n$ and the follows are also numbered from 1 to $n$.\n",
    "\n",
    "The original arrangement of the couples and two possible rearrangements are shown in the table below (for five couples numbered from 0 to 4).\n",
    "\n",
    "| Leads                  | 0   | 1   | 2   | 3   | 4   | Matches |\n",
    "| ---------------------- | --- | --- | --- | --- | --- | ------- |\n",
    "| Follows (original)     | 0   | 1   | 2   | 3   | 4   | 5       |\n",
    "| Follows (rearranged 1) | 2   | 4   | 1   | 3   | 0   | ?       |\n",
    "| Follows (rearranged 2) | 0   | 1   | 3   | 4   | 2   | ?       |\n",
    "\n",
    "\n",
    "We will approach the problem with a simulation. We will randomly pair the couples and count the number of times no one is matched with their original partner. We will then compare the simulation results with the theoretical resulFollows (original)ts."
   ]
  },
  {
   "cell_type": "code",
   "execution_count": null,
   "metadata": {},
   "outputs": [
    {
     "data": {
      "text/plain": [
       "array([   0,    1,    2, ..., 1997, 1998, 1999])"
      ]
     },
     "execution_count": 52,
     "metadata": {},
     "output_type": "execute_result"
    }
   ],
   "source": [
    "n = 5 # Number of pairs\n",
    "repetitions = 3 # Number of simulations\n",
    "\n",
    "# Create a list (an array) of integers from 0 to n-1 (corresponding to the partners)\n",
    "\n",
    "partners = np.arange(n)\n",
    "partners"
   ]
  },
  {
   "cell_type": "code",
   "execution_count": 37,
   "metadata": {},
   "outputs": [
    {
     "name": "stdout",
     "output_type": "stream",
     "text": [
      "Partners after shuffling:\n"
     ]
    },
    {
     "data": {
      "text/plain": [
       "array([0, 4, 2, 1, 3])"
      ]
     },
     "execution_count": 37,
     "metadata": {},
     "output_type": "execute_result"
    }
   ],
   "source": [
    "# NOTE: code for illustration purposes only\n",
    "\n",
    "# A single experiment: shuffle the partners and check if there are any matches\n",
    "\n",
    "partners_shuffled = np.random.permutation(partners)\n",
    "print(\"Partners after shuffling:\")\n",
    "partners_shuffled"
   ]
  },
  {
   "cell_type": "code",
   "execution_count": 41,
   "metadata": {},
   "outputs": [
    {
     "name": "stdout",
     "output_type": "stream",
     "text": [
      "Matches:\n"
     ]
    }
   ],
   "source": [
    "# If the value in the shuffled array is the same as in the original array, it means that the partners are the same\n",
    "# as in the original couple\n",
    "\n",
    "# We can check if there are any matches by comparing the two arrays element-wise\n",
    "\n",
    "matches = (partners == partners_shuffled)\n",
    "\n",
    "print(\"Matches:\")"
   ]
  },
  {
   "cell_type": "code",
   "execution_count": 40,
   "metadata": {},
   "outputs": [
    {
     "name": "stdout",
     "output_type": "stream",
     "text": [
      "Number of matches: 2\n"
     ]
    }
   ],
   "source": [
    "# We are interested in the event \"No partner gets their original partner\".\n",
    "# \n",
    "\n",
    "n_matches = np.sum(matches)\n",
    "\n",
    "print(\"Number of matches:\", n_matches)"
   ]
  },
  {
   "cell_type": "code",
   "execution_count": null,
   "metadata": {},
   "outputs": [
    {
     "name": "stdout",
     "output_type": "stream",
     "text": [
      "Number of times (simulations) where no partner got their original partner: 18420\n",
      "Proportion of no partner getting their original partner: 0.3684\n"
     ]
    }
   ],
   "source": [
    "# Now we can repeat the experiment a large number of times (repetitions) \n",
    "# and count how many times there were no matches\n",
    "\n",
    "# Set the number of matches to zero\n",
    "no_matches_counter = 0\n",
    "\n",
    "for i in range(repetitions):\n",
    "    # Shuffle the partners\n",
    "    partners_shuffled = np.random.permutation(partners)\n",
    "    \n",
    "    # Check if no one got their original partner.\n",
    "    no_match_in_permutation = np.sum(partners == partners_shuffled) == 0\n",
    "    \n",
    "    # If yes, increment the no_matches counter\n",
    "    if no_match_in_permutation:\n",
    "        no_matches_counter += 1\n",
    "\n",
    "print(\"Number of times (simulations) where no partner got their original partner:\", no_matches_counter)\n",
    "print(\"Proportion of no partner getting their original partner:\", no_matches_counter / repetitions)"
   ]
  },
  {
   "cell_type": "code",
   "execution_count": null,
   "metadata": {},
   "outputs": [
    {
     "name": "stdout",
     "output_type": "stream",
     "text": [
      "Simulation 100\n",
      "Simulation 101\n",
      "Simulation 102\n"
     ]
    }
   ],
   "source": [
    "# The previous code loops over the number of simulations and counts the number of matches in each simulation\n",
    "# It uses a for loop and the np.random.permutation() function\n",
    "\n",
    "# To see what a loop does you can use the print() function to print the value of a variable inside the loop\n",
    "\n",
    "# np.arange(3) will create an array [0, 1, 2]\n",
    "for i in range(3):\n",
    "    print(\"Simulation\", i + 100)\n"
   ]
  },
  {
   "cell_type": "code",
   "execution_count": 55,
   "metadata": {},
   "outputs": [
    {
     "data": {
      "text/plain": [
       "[0, 1, 2, 3, 4, 5, 6, 7, 8, 9]"
      ]
     },
     "execution_count": 55,
     "metadata": {},
     "output_type": "execute_result"
    }
   ],
   "source": [
    "list(range(10))"
   ]
  },
  {
   "cell_type": "code",
   "execution_count": 47,
   "metadata": {},
   "outputs": [
    {
     "name": "stdout",
     "output_type": "stream",
     "text": [
      "Counter = 1\n",
      "Counter = 2\n",
      "Counter = 3\n",
      "Counter = 4\n",
      "Counter = 5\n",
      "Counter = 6\n",
      "Counter = 7\n",
      "Counter = 8\n",
      "Counter = 9\n",
      "Counter = 10\n",
      "Final counter value = 10\n"
     ]
    }
   ],
   "source": [
    "# We will use a variable to count the number of matches in each simulation\n",
    "\n",
    "# See how this works in a simple example\n",
    "\n",
    "counter = 0\n",
    "\n",
    "for i in range(10):\n",
    "    counter = counter + 1\n",
    "    print(\"Counter =\", counter)\n",
    "    \n",
    "print(\"Final counter value =\", counter)"
   ]
  },
  {
   "cell_type": "code",
   "execution_count": 54,
   "metadata": {},
   "outputs": [
    {
     "name": "stdout",
     "output_type": "stream",
     "text": [
      "0 is even, incrementing counter\n",
      "Counter: 1\n",
      "1 is odd, not incrementing counter\n",
      "Counter: 1\n",
      "2 is even, incrementing counter\n",
      "Counter: 2\n",
      "3 is odd, not incrementing counter\n",
      "Counter: 2\n",
      "4 is even, incrementing counter\n",
      "Counter: 3\n",
      "5 is odd, not incrementing counter\n",
      "Counter: 3\n",
      "6 is even, incrementing counter\n",
      "Counter: 4\n",
      "7 is odd, not incrementing counter\n",
      "Counter: 4\n",
      "8 is even, incrementing counter\n",
      "Counter: 5\n",
      "9 is odd, not incrementing counter\n",
      "Counter: 5\n",
      "Final counter: 5\n"
     ]
    }
   ],
   "source": [
    "# We can choose when to increment the counter by using an if statement\n",
    "\n",
    "counter = 0\n",
    "\n",
    "for i in range(10):\n",
    "    if i % 2 == 0:\n",
    "        print(i, \"is even, incrementing counter\")\n",
    "        counter = counter + 1\n",
    "    else:\n",
    "        print(i, \"is odd, not incrementing counter\")\n",
    "\n",
    "    print(\"Counter:\", counter)\n",
    "\n",
    "print(\"Final counter:\", counter)"
   ]
  }
 ],
 "metadata": {
  "kernelspec": {
   "display_name": "stat2024",
   "language": "python",
   "name": "python3"
  },
  "language_info": {
   "codemirror_mode": {
    "name": "ipython",
    "version": 3
   },
   "file_extension": ".py",
   "mimetype": "text/x-python",
   "name": "python",
   "nbconvert_exporter": "python",
   "pygments_lexer": "ipython3",
   "version": "3.12.5"
  }
 },
 "nbformat": 4,
 "nbformat_minor": 2
}
