{
 "cells": [
  {
   "cell_type": "markdown",
   "metadata": {},
   "source": [
    "# Introduction: An Age Guessing Game\n",
    "\n",
    "[Colab Notebook](https://colab.research.google.com/github/febse/stat2024/blob/main/01-Introduction.ipynb)\n",
    "\n",
    "In the following game we will try to guess the age of the person in the image. The images are taken from the [UTKFace dataset](https://susanqq.github.io/UTKFace/), a large-scale face dataset. The age of the persons in our game ranges from 15 to 90 years.\n",
    "\n",
    "Scan the following QR code to open the game in your mobile device or click here:\n",
    "\n",
    "[https://uni-sofia.vercel.app/surveys/UKTfaces](https://uni-sofia.vercel.app/surveys/UKTfaces)."
   ]
  },
  {
   "cell_type": "code",
   "execution_count": 54,
   "metadata": {
    "ExecuteTime": {
     "end_time": "2024-10-05T07:46:26.899406Z",
     "start_time": "2024-10-05T07:46:26.862276Z"
    }
   },
   "outputs": [
    {
     "data": {
      "image/jpeg": "[encoded data removed]",
      "image/png": "[encoded data removed]",
      "text/plain": [
       "<qrcode.image.pil.PilImage at 0x7f48be983ef0>"
      ]
     },
     "execution_count": 54,
     "metadata": {},
     "output_type": "execute_result"
    }
   ],
   "source": [
    "#| echo: false\n",
    "\n",
    "from utils.qr_code import create_qr_code\n",
    "\n",
    "create_qr_code('https://uni-sofia.vercel.app/surveys/UKTfaces')"
   ]
  },
  {
   "cell_type": "markdown",
   "metadata": {},
   "source": [
    "## Data Import\n",
    "\n",
    "Now that we have played the game, let's import the data and see what we can learn from it. The following block of code will download the data, restructure it and display the first few rows. In these introductory classes you do not need to understand the code, but you can run it and see the results.\n",
    "\n",
    "The data consists of the following columns:\n",
    "\n",
    "- **FileId** (character): The name of the image file.\n",
    "- **UserId** (character): A unique identifier for the user.\n",
    "- **Guess** (numeric): The age guessed by the user.\n",
    "- **Age** (numeric): The actual age of the person in the image.\n",
    "- **Gender** (character): The gender of the person in the image.\n",
    "- **Position** (numeric): The position of the image in the game (0-16), 0 being the first image shown to the user, 1 the second, and so on. The images were shown in random order except for the first image which was always the same.\n",
    "- **TimeStart** (numeric): The time when the user saw the image (milliseconds from 1970-01-01).\n",
    "- **TimeEnd** (numeric): The time when the user submitted the guess (milliseconds from 1970-01-01).\n",
    "\n",
    "```python\n",
    "\n",
    "Each row corresponds to a guess made by a user for a specific image."
   ]
  },
  {
   "cell_type": "code",
   "execution_count": 55,
   "metadata": {
    "ExecuteTime": {
     "end_time": "2024-10-05T07:46:46.819237Z",
     "start_time": "2024-10-05T07:46:46.232801Z"
    }
   },
   "outputs": [
    {
     "data": {
      "text/html": [
       "<div>\n",
       "<style scoped>\n",
       "    .dataframe tbody tr th:only-of-type {\n",
       "        vertical-align: middle;\n",
       "    }\n",
       "\n",
       "    .dataframe tbody tr th {\n",
       "        vertical-align: top;\n",
       "    }\n",
       "\n",
       "    .dataframe thead th {\n",
       "        text-align: right;\n",
       "    }\n",
       "</style>\n",
       "<table border=\"1\" class=\"dataframe\">\n",
       "  <thead>\n",
       "    <tr style=\"text-align: right;\">\n",
       "      <th></th>\n",
       "      <th>FileId</th>\n",
       "      <th>UserId</th>\n",
       "      <th>Guess</th>\n",
       "      <th>Age</th>\n",
       "      <th>Race</th>\n",
       "      <th>Gender</th>\n",
       "      <th>Position</th>\n",
       "      <th>TimeStart</th>\n",
       "      <th>TimeEnd</th>\n",
       "    </tr>\n",
       "  </thead>\n",
       "  <tbody>\n",
       "    <tr>\n",
       "      <th>0</th>\n",
       "      <td>72_1_0_20170110141531648_jpg</td>\n",
       "      <td>2TkJQyslSFb5GXbdv1aCc2QAZO53</td>\n",
       "      <td>58</td>\n",
       "      <td>72</td>\n",
       "      <td>White</td>\n",
       "      <td>F</td>\n",
       "      <td>10</td>\n",
       "      <td>1728456243117</td>\n",
       "      <td>1728456250343</td>\n",
       "    </tr>\n",
       "    <tr>\n",
       "      <th>1</th>\n",
       "      <td>62_0_0_20170111210223707_jpg</td>\n",
       "      <td>2TkJQyslSFb5GXbdv1aCc2QAZO53</td>\n",
       "      <td>70</td>\n",
       "      <td>62</td>\n",
       "      <td>White</td>\n",
       "      <td>M</td>\n",
       "      <td>9</td>\n",
       "      <td>1728456238837</td>\n",
       "      <td>1728456243116</td>\n",
       "    </tr>\n",
       "    <tr>\n",
       "      <th>2</th>\n",
       "      <td>75_0_1_20170111205346848_jpg</td>\n",
       "      <td>2TkJQyslSFb5GXbdv1aCc2QAZO53</td>\n",
       "      <td>57</td>\n",
       "      <td>75</td>\n",
       "      <td>Other</td>\n",
       "      <td>M</td>\n",
       "      <td>7</td>\n",
       "      <td>1728456228654</td>\n",
       "      <td>1728456235495</td>\n",
       "    </tr>\n",
       "    <tr>\n",
       "      <th>3</th>\n",
       "      <td>21_1_2_20170105183505385_jpg</td>\n",
       "      <td>2TkJQyslSFb5GXbdv1aCc2QAZO53</td>\n",
       "      <td>19</td>\n",
       "      <td>21</td>\n",
       "      <td>Other</td>\n",
       "      <td>F</td>\n",
       "      <td>16</td>\n",
       "      <td>1728456288579</td>\n",
       "      <td>1728456295650</td>\n",
       "    </tr>\n",
       "    <tr>\n",
       "      <th>4</th>\n",
       "      <td>28_0_1_20170112211810813_jpg</td>\n",
       "      <td>2TkJQyslSFb5GXbdv1aCc2QAZO53</td>\n",
       "      <td>30</td>\n",
       "      <td>28</td>\n",
       "      <td>Other</td>\n",
       "      <td>M</td>\n",
       "      <td>11</td>\n",
       "      <td>1728456250345</td>\n",
       "      <td>1728456254708</td>\n",
       "    </tr>\n",
       "  </tbody>\n",
       "</table>\n",
       "</div>"
      ],
      "text/plain": [
       "                         FileId                        UserId  Guess  Age  \\\n",
       "0  72_1_0_20170110141531648_jpg  2TkJQyslSFb5GXbdv1aCc2QAZO53     58   72   \n",
       "1  62_0_0_20170111210223707_jpg  2TkJQyslSFb5GXbdv1aCc2QAZO53     70   62   \n",
       "2  75_0_1_20170111205346848_jpg  2TkJQyslSFb5GXbdv1aCc2QAZO53     57   75   \n",
       "3  21_1_2_20170105183505385_jpg  2TkJQyslSFb5GXbdv1aCc2QAZO53     19   21   \n",
       "4  28_0_1_20170112211810813_jpg  2TkJQyslSFb5GXbdv1aCc2QAZO53     30   28   \n",
       "\n",
       "    Race Gender  Position      TimeStart        TimeEnd  \n",
       "0  White      F        10  1728456243117  1728456250343  \n",
       "1  White      M         9  1728456238837  1728456243116  \n",
       "2  Other      M         7  1728456228654  1728456235495  \n",
       "3  Other      F        16  1728456288579  1728456295650  \n",
       "4  Other      M        11  1728456250345  1728456254708  "
      ]
     },
     "execution_count": 55,
     "metadata": {},
     "output_type": "execute_result"
    }
   ],
   "source": [
    "#| echo: false\n",
    "\n",
    "import pandas as pd\n",
    "import numpy as np\n",
    "\n",
    "# NOTE: you can ignore this code, it's just for data preparation\n",
    "\n",
    "# Imports the age guessing data from the database,\n",
    "# restructures it and merges it with the game data.\n",
    "\n",
    "dt_raw = pd.read_json(\"https://get-uktfaces-data-suq3dizvtq-uc.a.run.app\")\n",
    "dt = pd.melt(\n",
    "    dt_raw.reset_index(names=\"FileId\"), \n",
    "    id_vars=[\"FileId\"],\n",
    "    var_name=\"UserId\",\n",
    "    value_name=\"Data\"\n",
    ")\n",
    "dt_mesurements = pd.json_normalize(dt['Data']).rename(columns=lambda x: x[0].upper() + x[1:])\n",
    "dt = pd.concat([dt.drop(columns=[\"Data\"]), dt_mesurements], axis=1)\n",
    "\n",
    "game = pd.read_json(\"https://get-uktfaces-game-suq3dizvtq-uc.a.run.app\").rename(columns={\"id\": \"FileId\", \"age\": \"Age\", \"race_f\": \"Race\", \"gender\": \"Gender\"})\n",
    "dt = dt.merge(game, on=\"FileId\", how=\"left\")[[\"FileId\", \"UserId\", \"Guess\", \"Age\", \"Race\", \"Gender\", \"Position\", \"TimeStart\", \"TimeEnd\"]].copy()\n",
    "dt.head()"
   ]
  },
  {
   "cell_type": "code",
   "execution_count": 1,
   "metadata": {},
   "outputs": [
    {
     "name": "stdout",
     "output_type": "stream",
     "text": [
      "34,359,738,368\n",
      "4231494872.9064045\n"
     ]
    },
    {
     "data": {
      "text/plain": [
       "279001075548.16"
      ]
     },
     "execution_count": 1,
     "metadata": {},
     "output_type": "execute_result"
    }
   ],
   "source": [
    "x = 2 ** 35\n",
    "\n",
    "y = 8.12\n",
    "\n",
    "print(x / y)\n",
    "x * y"
   ]
  },
  {
   "cell_type": "markdown",
   "metadata": {},
   "source": [
    "## Data Description\n",
    "\n",
    "The first thing we want to know about a new dataset is its size. How many rows and columns does it have? We can use the `shape` attribute of the DataFrame to find out."
   ]
  },
  {
   "cell_type": "code",
   "execution_count": 57,
   "metadata": {},
   "outputs": [
    {
     "data": {
      "text/plain": [
       "(714, 9)"
      ]
     },
     "execution_count": 57,
     "metadata": {},
     "output_type": "execute_result"
    }
   ],
   "source": [
    "# Data shape is a tuple (think of it as a list of numbers for now): the first number is the number of rows, the second number is the number of columns\n",
    "dt.shape"
   ]
  },
  {
   "cell_type": "code",
   "execution_count": 58,
   "metadata": {},
   "outputs": [
    {
     "name": "stdout",
     "output_type": "stream",
     "text": [
      "There are 714 rows in the dataset.\n",
      "There are 9 columns in the dataset.\n"
     ]
    }
   ],
   "source": [
    "# You can access the individual elements of the tuple using square brackets\n",
    "\n",
    "# The first number is the number of rows\n",
    "dt.shape[0]\n",
    "print(\"There are\", dt.shape[0], \"rows in the dataset.\")\n",
    "\n",
    "# The second number is the number of columns\n",
    "dt.shape[1]\n",
    "print(\"There are\", dt.shape[1], \"columns in the dataset.\")"
   ]
  },
  {
   "cell_type": "code",
   "execution_count": 59,
   "metadata": {},
   "outputs": [],
   "source": [
    "# dt.shape[2]"
   ]
  },
  {
   "cell_type": "code",
   "execution_count": 60,
   "metadata": {},
   "outputs": [
    {
     "data": {
      "text/plain": [
       "(714, 9)"
      ]
     },
     "execution_count": 60,
     "metadata": {},
     "output_type": "execute_result"
    }
   ],
   "source": [
    "dt.shape"
   ]
  },
  {
   "cell_type": "code",
   "execution_count": 61,
   "metadata": {},
   "outputs": [
    {
     "data": {
      "text/plain": [
       "Index(['FileId', 'UserId', 'Guess', 'Age', 'Race', 'Gender', 'Position',\n",
       "       'TimeStart', 'TimeEnd'],\n",
       "      dtype='object')"
      ]
     },
     "execution_count": 61,
     "metadata": {},
     "output_type": "execute_result"
    }
   ],
   "source": [
    "# What are the columns in the dataset?\n",
    "\n",
    "# The columns are stored in the columns attribute of the DataFrame\n",
    "dt.columns\n"
   ]
  },
  {
   "cell_type": "code",
   "execution_count": 1,
   "metadata": {},
   "outputs": [
    {
     "ename": "NameError",
     "evalue": "name 'dt' is not defined",
     "output_type": "error",
     "traceback": [
      "\u001b[0;31m---------------------------------------------------------------------------\u001b[0m",
      "\u001b[0;31mNameError\u001b[0m                                 Traceback (most recent call last)",
      "Cell \u001b[0;32mIn[1], line 5\u001b[0m\n\u001b[1;32m      1\u001b[0m \u001b[38;5;66;03m# How many unique users are there in the dataset? You can access the columns in the using the brackets notation\u001b[39;00m\n\u001b[1;32m      2\u001b[0m \n\u001b[1;32m      3\u001b[0m \u001b[38;5;66;03m# The unique function returns the unique values in a Series\u001b[39;00m\n\u001b[0;32m----> 5\u001b[0m dt[\u001b[38;5;124m\"\u001b[39m\u001b[38;5;124mUserId\u001b[39m\u001b[38;5;124m\"\u001b[39m]\n",
      "\u001b[0;31mNameError\u001b[0m: name 'dt' is not defined"
     ]
    }
   ],
   "source": [
    "# How many unique users are there in the dataset? You can access the columns in the using the brackets notation\n",
    "\n",
    "# The unique function returns the unique values in a Series\n",
    "\n",
    "dt[\"UserId\"].unique()"
   ]
  },
  {
   "cell_type": "code",
   "execution_count": 63,
   "metadata": {},
   "outputs": [
    {
     "data": {
      "text/plain": [
       "42"
      ]
     },
     "execution_count": 63,
     "metadata": {},
     "output_type": "execute_result"
    }
   ],
   "source": [
    "dt[\"UserId\"].nunique()"
   ]
  },
  {
   "cell_type": "code",
   "execution_count": 64,
   "metadata": {},
   "outputs": [
    {
     "data": {
      "text/plain": [
       "array(['2TkJQyslSFb5GXbdv1aCc2QAZO53', '4W0FEKDKyjNZUuCf9uBNs8rfjjq1',\n",
       "       '8Dv06RmVjaVJE4ZFNRMK5f1oQOp1', '8fPccGO10Bb2la4FkBqgl1rVWHg1',\n",
       "       '8jKBM5SOv0fOly6vCBdHXtxBPQ23', '9j9Y0NUvW0MJRsoa266Y1kMZSuY2',\n",
       "       'CPjrqG93VHSL9IGx30p4ZSXd4Qr1', 'CbS6ZrS8dyd0awFJRvhc7OBK5YA2',\n",
       "       'DuGjUzQlaUOS2bOkD2nzCq3TaMI3', 'GmKPuKAbgoYQCPmlg8RwPNsBHM23',\n",
       "       'HqIR4yBnDLax4jjFITVp6hVvqx52', 'Lec4YA560vapZcD5fIP8MJm5sl42',\n",
       "       'MxAZfVjX3eZRJXHxkdj8TrkCldD2', 'NPtpMro4nOOJTqTNpt8PPHmbiFk2',\n",
       "       'OBczO7vxLvN2FiLBkqnQvCM8NdF2', 'PVb3jSAxyMXAuQ2PeIpdqQ0ILp53',\n",
       "       'PphGn6oTxNPO1u8YiwrruLNTzXE2', 'QEskanUwcUNT2gyBQFvSaVHeI4D3',\n",
       "       'SQC3UTi7a1P7CGyqhy7mBe8Zgmj2', 'Tvwjrx7GfaaBRYS6TGadjBjO9HF2',\n",
       "       'TzOCmmyl29OjE7JyQjqJqg7lD3u1', 'UCEzPzCCb7YfusqZVuUmGPIMFVV2',\n",
       "       'UpgLIyOuiVSd3y8VQ2gnJ6ViCxw2', 'VeyVpTOLy7NR0V5ZCnbLipceCEG2',\n",
       "       'W8MAPl0tmKbJAJ3abhcnQrqG5no1', 'WLi6ASLPTccgRUo1KG6ThcH80Nx1',\n",
       "       'Y1fElir0oXeayPWZb5vLKph5lUo2', 'b0lWZmr0VDa5EFS4AJliWXDqFKP2',\n",
       "       'e1mjyMk2cOR5XLP9YiO9OPEuapi1', 'fhvPybcsEhO9yui4zF4MYJiowGf2',\n",
       "       'hASSWNNQmIZY92TSasx7bK4V5VE2', 'kDlJXIQowGTAiE4USAhMfqdgtHi1',\n",
       "       'mZGwkLZFMQPbTisMJrmnNZCUHAB2', 'stRoVijSb9Rv7DV5f9Z39ccaHIN2',\n",
       "       'tur4WIEQ4ocZzgF8lmsSCPK3HnW2', 'vOuQwWBYrBYKTzBPG4LESFZ5MBJ2',\n",
       "       'w6UifmFZfRXtIIuAi76VfB7WiuF3', 'w7pLK2CfZoMtjHE17nJya29OiQd2',\n",
       "       'wpzHrTsY6hdzWWw8a7DC2hjiDwD2', 'xOisU25aSoWx5B7tzUN6yz5bK8Z2',\n",
       "       'xv627zbJwNSbB648KX6XfQyCO3d2', 'ybJOzEmZp7ZYeN5vtODtY1Ovu5d2'],\n",
       "      dtype=object)"
      ]
     },
     "execution_count": 64,
     "metadata": {},
     "output_type": "execute_result"
    }
   ],
   "source": [
    "# Sometimes it is useful to sort the unique values\n",
    "\n",
    "np.sort(dt[\"UserId\"].unique())"
   ]
  },
  {
   "cell_type": "code",
   "execution_count": 65,
   "metadata": {},
   "outputs": [
    {
     "data": {
      "text/plain": [
       "42"
      ]
     },
     "execution_count": 65,
     "metadata": {},
     "output_type": "execute_result"
    }
   ],
   "source": [
    "# The nunique function returns the number of unique values in a Series\n",
    "\n",
    "dt[\"UserId\"].nunique()"
   ]
  },
  {
   "cell_type": "markdown",
   "metadata": {},
   "source": [
    ":::{#ex-1}\n",
    "## Exercise\n",
    "\n",
    "List the unique values of the `FileId` column. How many unique images are there in the dataset?\n",
    "\n",
    ":::"
   ]
  },
  {
   "cell_type": "code",
   "execution_count": 66,
   "metadata": {},
   "outputs": [],
   "source": [
    "# Write your code here and \n"
   ]
  },
  {
   "cell_type": "markdown",
   "metadata": {},
   "source": [
    "## Selecting Subsets of the Data\n",
    "\n",
    "There are multiple ways to choose a part of the data. We can select rows by their index, columns by their name, or both. We can also use logical conditions to filter the data.\n",
    "Here we want to select only the rows belonging to one of the users."
   ]
  },
  {
   "cell_type": "code",
   "execution_count": 67,
   "metadata": {},
   "outputs": [
    {
     "data": {
      "text/plain": [
       "17"
      ]
     },
     "execution_count": 67,
     "metadata": {},
     "output_type": "execute_result"
    }
   ],
   "source": [
    "# The == operator checks if two values are equal. It returns a boolean value (True or False).\n",
    "\n",
    "(dt[\"UserId\"] == \"2TkJQyslSFb5GXbdv1aCc2QAZO53\").sum()"
   ]
  },
  {
   "cell_type": "code",
   "execution_count": 68,
   "metadata": {},
   "outputs": [
    {
     "data": {
      "text/html": [
       "<div>\n",
       "<style scoped>\n",
       "    .dataframe tbody tr th:only-of-type {\n",
       "        vertical-align: middle;\n",
       "    }\n",
       "\n",
       "    .dataframe tbody tr th {\n",
       "        vertical-align: top;\n",
       "    }\n",
       "\n",
       "    .dataframe thead th {\n",
       "        text-align: right;\n",
       "    }\n",
       "</style>\n",
       "<table border=\"1\" class=\"dataframe\">\n",
       "  <thead>\n",
       "    <tr style=\"text-align: right;\">\n",
       "      <th></th>\n",
       "      <th>FileId</th>\n",
       "      <th>UserId</th>\n",
       "      <th>Guess</th>\n",
       "      <th>Age</th>\n",
       "      <th>Race</th>\n",
       "      <th>Gender</th>\n",
       "      <th>Position</th>\n",
       "      <th>TimeStart</th>\n",
       "      <th>TimeEnd</th>\n",
       "    </tr>\n",
       "  </thead>\n",
       "  <tbody>\n",
       "    <tr>\n",
       "      <th>68</th>\n",
       "      <td>72_1_0_20170110141531648_jpg</td>\n",
       "      <td>8jKBM5SOv0fOly6vCBdHXtxBPQ23</td>\n",
       "      <td>69</td>\n",
       "      <td>72</td>\n",
       "      <td>White</td>\n",
       "      <td>F</td>\n",
       "      <td>7</td>\n",
       "      <td>1728466078201</td>\n",
       "      <td>1728466083168</td>\n",
       "    </tr>\n",
       "    <tr>\n",
       "      <th>69</th>\n",
       "      <td>62_0_0_20170111210223707_jpg</td>\n",
       "      <td>8jKBM5SOv0fOly6vCBdHXtxBPQ23</td>\n",
       "      <td>72</td>\n",
       "      <td>62</td>\n",
       "      <td>White</td>\n",
       "      <td>M</td>\n",
       "      <td>4</td>\n",
       "      <td>1728466058849</td>\n",
       "      <td>1728466065965</td>\n",
       "    </tr>\n",
       "    <tr>\n",
       "      <th>70</th>\n",
       "      <td>75_0_1_20170111205346848_jpg</td>\n",
       "      <td>8jKBM5SOv0fOly6vCBdHXtxBPQ23</td>\n",
       "      <td>69</td>\n",
       "      <td>75</td>\n",
       "      <td>Other</td>\n",
       "      <td>M</td>\n",
       "      <td>14</td>\n",
       "      <td>1728466118959</td>\n",
       "      <td>1728466125058</td>\n",
       "    </tr>\n",
       "    <tr>\n",
       "      <th>71</th>\n",
       "      <td>21_1_2_20170105183505385_jpg</td>\n",
       "      <td>8jKBM5SOv0fOly6vCBdHXtxBPQ23</td>\n",
       "      <td>32</td>\n",
       "      <td>21</td>\n",
       "      <td>Other</td>\n",
       "      <td>F</td>\n",
       "      <td>9</td>\n",
       "      <td>1728466093455</td>\n",
       "      <td>1728466098292</td>\n",
       "    </tr>\n",
       "    <tr>\n",
       "      <th>72</th>\n",
       "      <td>28_0_1_20170112211810813_jpg</td>\n",
       "      <td>8jKBM5SOv0fOly6vCBdHXtxBPQ23</td>\n",
       "      <td>36</td>\n",
       "      <td>28</td>\n",
       "      <td>Other</td>\n",
       "      <td>M</td>\n",
       "      <td>12</td>\n",
       "      <td>1728466106791</td>\n",
       "      <td>1728466112456</td>\n",
       "    </tr>\n",
       "    <tr>\n",
       "      <th>73</th>\n",
       "      <td>30_0_4_20170117202914440_jpg</td>\n",
       "      <td>8jKBM5SOv0fOly6vCBdHXtxBPQ23</td>\n",
       "      <td>43</td>\n",
       "      <td>30</td>\n",
       "      <td>Other</td>\n",
       "      <td>M</td>\n",
       "      <td>0</td>\n",
       "      <td>1728465970667</td>\n",
       "      <td>1728466037743</td>\n",
       "    </tr>\n",
       "    <tr>\n",
       "      <th>74</th>\n",
       "      <td>62_1_0_20170110175644800_jpg</td>\n",
       "      <td>8jKBM5SOv0fOly6vCBdHXtxBPQ23</td>\n",
       "      <td>68</td>\n",
       "      <td>62</td>\n",
       "      <td>White</td>\n",
       "      <td>F</td>\n",
       "      <td>5</td>\n",
       "      <td>1728466065967</td>\n",
       "      <td>1728466075283</td>\n",
       "    </tr>\n",
       "    <tr>\n",
       "      <th>75</th>\n",
       "      <td>16_0_0_20170110231841292_jpg</td>\n",
       "      <td>8jKBM5SOv0fOly6vCBdHXtxBPQ23</td>\n",
       "      <td>17</td>\n",
       "      <td>16</td>\n",
       "      <td>White</td>\n",
       "      <td>M</td>\n",
       "      <td>16</td>\n",
       "      <td>1728466134829</td>\n",
       "      <td>1728466141246</td>\n",
       "    </tr>\n",
       "    <tr>\n",
       "      <th>76</th>\n",
       "      <td>18_1_0_20170109214608184_jpg</td>\n",
       "      <td>8jKBM5SOv0fOly6vCBdHXtxBPQ23</td>\n",
       "      <td>22</td>\n",
       "      <td>18</td>\n",
       "      <td>White</td>\n",
       "      <td>F</td>\n",
       "      <td>6</td>\n",
       "      <td>1728466075284</td>\n",
       "      <td>1728466078199</td>\n",
       "    </tr>\n",
       "    <tr>\n",
       "      <th>77</th>\n",
       "      <td>75_0_3_20170111202756116_jpg</td>\n",
       "      <td>8jKBM5SOv0fOly6vCBdHXtxBPQ23</td>\n",
       "      <td>57</td>\n",
       "      <td>75</td>\n",
       "      <td>Other</td>\n",
       "      <td>M</td>\n",
       "      <td>1</td>\n",
       "      <td>1728466037744</td>\n",
       "      <td>1728466045288</td>\n",
       "    </tr>\n",
       "    <tr>\n",
       "      <th>78</th>\n",
       "      <td>56_0_0_20170111201143803_jpg</td>\n",
       "      <td>8jKBM5SOv0fOly6vCBdHXtxBPQ23</td>\n",
       "      <td>56</td>\n",
       "      <td>56</td>\n",
       "      <td>White</td>\n",
       "      <td>M</td>\n",
       "      <td>15</td>\n",
       "      <td>1728466125060</td>\n",
       "      <td>1728466134828</td>\n",
       "    </tr>\n",
       "    <tr>\n",
       "      <th>79</th>\n",
       "      <td>90_1_2_20170110183708997_jpg</td>\n",
       "      <td>8jKBM5SOv0fOly6vCBdHXtxBPQ23</td>\n",
       "      <td>78</td>\n",
       "      <td>90</td>\n",
       "      <td>Other</td>\n",
       "      <td>F</td>\n",
       "      <td>3</td>\n",
       "      <td>1728466053299</td>\n",
       "      <td>1728466058847</td>\n",
       "    </tr>\n",
       "    <tr>\n",
       "      <th>80</th>\n",
       "      <td>76_1_2_20170110182935621_jpg</td>\n",
       "      <td>8jKBM5SOv0fOly6vCBdHXtxBPQ23</td>\n",
       "      <td>74</td>\n",
       "      <td>76</td>\n",
       "      <td>Other</td>\n",
       "      <td>F</td>\n",
       "      <td>13</td>\n",
       "      <td>1728466112458</td>\n",
       "      <td>1728466118957</td>\n",
       "    </tr>\n",
       "    <tr>\n",
       "      <th>81</th>\n",
       "      <td>26_1_1_20170116232657066_jpg</td>\n",
       "      <td>8jKBM5SOv0fOly6vCBdHXtxBPQ23</td>\n",
       "      <td>29</td>\n",
       "      <td>26</td>\n",
       "      <td>Other</td>\n",
       "      <td>F</td>\n",
       "      <td>11</td>\n",
       "      <td>1728466102073</td>\n",
       "      <td>1728466106789</td>\n",
       "    </tr>\n",
       "    <tr>\n",
       "      <th>82</th>\n",
       "      <td>16_0_0_20170110231617005_jpg</td>\n",
       "      <td>8jKBM5SOv0fOly6vCBdHXtxBPQ23</td>\n",
       "      <td>28</td>\n",
       "      <td>16</td>\n",
       "      <td>White</td>\n",
       "      <td>M</td>\n",
       "      <td>10</td>\n",
       "      <td>1728466098294</td>\n",
       "      <td>1728466102072</td>\n",
       "    </tr>\n",
       "    <tr>\n",
       "      <th>83</th>\n",
       "      <td>25_0_1_20170113184508496_jpg</td>\n",
       "      <td>8jKBM5SOv0fOly6vCBdHXtxBPQ23</td>\n",
       "      <td>39</td>\n",
       "      <td>25</td>\n",
       "      <td>Other</td>\n",
       "      <td>M</td>\n",
       "      <td>8</td>\n",
       "      <td>1728466083169</td>\n",
       "      <td>1728466093453</td>\n",
       "    </tr>\n",
       "    <tr>\n",
       "      <th>84</th>\n",
       "      <td>16_1_0_20170109214013596_jpg</td>\n",
       "      <td>8jKBM5SOv0fOly6vCBdHXtxBPQ23</td>\n",
       "      <td>16</td>\n",
       "      <td>16</td>\n",
       "      <td>White</td>\n",
       "      <td>F</td>\n",
       "      <td>2</td>\n",
       "      <td>1728466045290</td>\n",
       "      <td>1728466053297</td>\n",
       "    </tr>\n",
       "  </tbody>\n",
       "</table>\n",
       "</div>"
      ],
      "text/plain": [
       "                          FileId                        UserId  Guess  Age  \\\n",
       "68  72_1_0_20170110141531648_jpg  8jKBM5SOv0fOly6vCBdHXtxBPQ23     69   72   \n",
       "69  62_0_0_20170111210223707_jpg  8jKBM5SOv0fOly6vCBdHXtxBPQ23     72   62   \n",
       "70  75_0_1_20170111205346848_jpg  8jKBM5SOv0fOly6vCBdHXtxBPQ23     69   75   \n",
       "71  21_1_2_20170105183505385_jpg  8jKBM5SOv0fOly6vCBdHXtxBPQ23     32   21   \n",
       "72  28_0_1_20170112211810813_jpg  8jKBM5SOv0fOly6vCBdHXtxBPQ23     36   28   \n",
       "73  30_0_4_20170117202914440_jpg  8jKBM5SOv0fOly6vCBdHXtxBPQ23     43   30   \n",
       "74  62_1_0_20170110175644800_jpg  8jKBM5SOv0fOly6vCBdHXtxBPQ23     68   62   \n",
       "75  16_0_0_20170110231841292_jpg  8jKBM5SOv0fOly6vCBdHXtxBPQ23     17   16   \n",
       "76  18_1_0_20170109214608184_jpg  8jKBM5SOv0fOly6vCBdHXtxBPQ23     22   18   \n",
       "77  75_0_3_20170111202756116_jpg  8jKBM5SOv0fOly6vCBdHXtxBPQ23     57   75   \n",
       "78  56_0_0_20170111201143803_jpg  8jKBM5SOv0fOly6vCBdHXtxBPQ23     56   56   \n",
       "79  90_1_2_20170110183708997_jpg  8jKBM5SOv0fOly6vCBdHXtxBPQ23     78   90   \n",
       "80  76_1_2_20170110182935621_jpg  8jKBM5SOv0fOly6vCBdHXtxBPQ23     74   76   \n",
       "81  26_1_1_20170116232657066_jpg  8jKBM5SOv0fOly6vCBdHXtxBPQ23     29   26   \n",
       "82  16_0_0_20170110231617005_jpg  8jKBM5SOv0fOly6vCBdHXtxBPQ23     28   16   \n",
       "83  25_0_1_20170113184508496_jpg  8jKBM5SOv0fOly6vCBdHXtxBPQ23     39   25   \n",
       "84  16_1_0_20170109214013596_jpg  8jKBM5SOv0fOly6vCBdHXtxBPQ23     16   16   \n",
       "\n",
       "     Race Gender  Position      TimeStart        TimeEnd  \n",
       "68  White      F         7  1728466078201  1728466083168  \n",
       "69  White      M         4  1728466058849  1728466065965  \n",
       "70  Other      M        14  1728466118959  1728466125058  \n",
       "71  Other      F         9  1728466093455  1728466098292  \n",
       "72  Other      M        12  1728466106791  1728466112456  \n",
       "73  Other      M         0  1728465970667  1728466037743  \n",
       "74  White      F         5  1728466065967  1728466075283  \n",
       "75  White      M        16  1728466134829  1728466141246  \n",
       "76  White      F         6  1728466075284  1728466078199  \n",
       "77  Other      M         1  1728466037744  1728466045288  \n",
       "78  White      M        15  1728466125060  1728466134828  \n",
       "79  Other      F         3  1728466053299  1728466058847  \n",
       "80  Other      F        13  1728466112458  1728466118957  \n",
       "81  Other      F        11  1728466102073  1728466106789  \n",
       "82  White      M        10  1728466098294  1728466102072  \n",
       "83  Other      M         8  1728466083169  1728466093453  \n",
       "84  White      F         2  1728466045290  1728466053297  "
      ]
     },
     "execution_count": 68,
     "metadata": {},
     "output_type": "execute_result"
    }
   ],
   "source": [
    "# Putting this boolean series in square brackets returns only the rows where the condition is True\n",
    "\n",
    "mydt = dt[dt[\"UserId\"] == \"8jKBM5SOv0fOly6vCBdHXtxBPQ23\"].copy()\n",
    "mydt"
   ]
  },
  {
   "cell_type": "markdown",
   "metadata": {},
   "source": [
    ":::{#ex-mydata}\n",
    "## Select Your Data\n",
    "\n",
    "Create a new DataFrame called `mydt` containing only the rows where the `UserId` is equal to your unique identifier (it is shown on the results page of the game).\n",
    "To avoid typing the whole identifier, look at the sorted unique values of the `UserId` and copy the one that corresponds to you.\n",
    "\n",
    ":::"
   ]
  },
  {
   "cell_type": "markdown",
   "metadata": {},
   "source": [
    "## Counting Things\n",
    "\n",
    "A lot of the time we will want to compute some simple counts. In our example, we may want to count the number of guesses made by each user, the number of guesses that overestimated the age, or the number of correct guesses. We can accomplish this using logical conditions and the `sum` method of series (or the `np.sum` function).\n",
    "\n",
    ":::{#ex-counting-overestimations}\n",
    "\n",
    "## Counting Overestimations\n",
    "\n",
    "How many times did you overestimate the age of the person in the images?\n",
    "\n",
    ":::"
   ]
  },
  {
   "cell_type": "code",
   "execution_count": 69,
   "metadata": {},
   "outputs": [
    {
     "data": {
      "text/plain": [
       "2"
      ]
     },
     "execution_count": 69,
     "metadata": {},
     "output_type": "execute_result"
    }
   ],
   "source": [
    "mydt[\"Overestimates\"] = (mydt[\"Guess\"] > mydt[\"Age\"])\n",
    "mydt[\"Underestimates\"] = (mydt[\"Guess\"] > mydt[\"Age\"])\n",
    "mydt[\"NoError\"] = (mydt[\"Guess\"] == mydt[\"Age\"])\n",
    "mydt[\"NoError\"].sum()"
   ]
  },
  {
   "cell_type": "code",
   "execution_count": 70,
   "metadata": {},
   "outputs": [],
   "source": [
    "# Exercise: In how many images did you under estimate the age?\n",
    "# Write your code here\n"
   ]
  },
  {
   "cell_type": "code",
   "execution_count": 71,
   "metadata": {},
   "outputs": [
    {
     "data": {
      "text/plain": [
       "array([ True, False,  True,  True, False])"
      ]
     },
     "execution_count": 71,
     "metadata": {},
     "output_type": "execute_result"
    }
   ],
   "source": [
    "# Why does using the .sum() method actually work here?\n",
    "\n",
    "x_logical = np.array([True, False, True, True, False])\n",
    "x_logical"
   ]
  },
  {
   "cell_type": "code",
   "execution_count": 72,
   "metadata": {},
   "outputs": [
    {
     "data": {
      "text/plain": [
       "3"
      ]
     },
     "execution_count": 72,
     "metadata": {},
     "output_type": "execute_result"
    }
   ],
   "source": [
    "# Test it by changing the values (True/False) in the assignment of x_logical and running the cell again (you also need to run the cell with the definition of x_logical)\n",
    "x_logical.sum()"
   ]
  },
  {
   "cell_type": "code",
   "execution_count": 73,
   "metadata": {},
   "outputs": [],
   "source": [
    "# Exercise: How many female images have your guessed?\n",
    "\n"
   ]
  },
  {
   "cell_type": "code",
   "execution_count": 74,
   "metadata": {},
   "outputs": [],
   "source": [
    "# Exercise: How many male images have you guessed?\n",
    "\n"
   ]
  },
  {
   "cell_type": "code",
   "execution_count": 75,
   "metadata": {},
   "outputs": [
    {
     "data": {
      "text/plain": [
       "Gender\n",
       "M    9\n",
       "F    8\n",
       "Name: count, dtype: int64"
      ]
     },
     "execution_count": 75,
     "metadata": {},
     "output_type": "execute_result"
    }
   ],
   "source": [
    "# Compare your results with the output of the following code\n",
    "\n",
    "mydt[\"Gender\"].value_counts()"
   ]
  }
 ],
 "metadata": {
  "kernelspec": {
   "display_name": "stat2024",
   "language": "python",
   "name": "python3"
  },
  "language_info": {
   "codemirror_mode": {
    "name": "ipython",
    "version": 3
   },
   "file_extension": ".py",
   "mimetype": "text/x-python",
   "name": "python",
   "nbconvert_exporter": "python",
   "pygments_lexer": "ipython3",
   "version": "3.12.5"
  }
 },
 "nbformat": 4,
 "nbformat_minor": 2
}
