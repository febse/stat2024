{
 "cells": [
  {
   "cell_type": "markdown",
   "metadata": {},
   "source": [
    "# Hypothesis Tests\n",
    "\n",
    "## Introduction\n",
    "\n",
    "In this notebook, we will discuss hypothesis tests. To understand statistical tests, it is useful to think about how a judge in a court must make a decision about whether to convict a defendant or not. The prosecution presents a case that the defendant is guilty, the case being a summary of the evidence that the defendant committed the crime. The judge does not know wheher the defendent is guilty or not, so he/she must rely on the evidence presented by the prosecution and determine if the evidence is strong enough to convict the defendant. The judge can make to types of error:\n",
    "\n",
    "1. To convict an innocent person (Type I error)\n",
    "2. Fail to convict a guilty person (Type II error)\n",
    "\n",
    "\n",
    "| Reality/Decision | Convict | Fail to convict |\n",
    "|----------|----------|----------|\n",
    "| Defendent innocent    | Type I error   | Correct   |\n",
    "| Defendent guilty    | Correct   | Type II error   |\n",
    "\n",
    "\n",
    "In statistics we very much face the same situation as the judge. We have a research question, we collect data and we must decide whether the data appears consistent with some conjecture about the state of the world or not. The conjecture is usually called a hupothesis. \n",
    "\n",
    "## Hypothesis Testing\n",
    "\n",
    "Let's say that we suspect that the share of customers interested in some of our products is $p \\geq 0.7$ and suppose that we collect a sample of 100 customers and find that 60 of them are interested. The question is: is the sample consistent with our conjecture that the share of interested customers is at least 0.7?\n",
    "\n",
    "$$\n",
    "\\begin{align*}\n",
    "H_0&: p \\geq 0.7 \\quad \\text{Null Hypothesis}\\\\\n",
    "H_1&: p < 0.7 \\quad \\text{Alternative}\n",
    "\\end{align*}\n",
    "$$\n",
    "\n",
    "Now we need to decide whether our observed 60 interested customers are consistent with the null hypothesis. Intuitively, if the share of interested customers is 0.7, then we would expect to see 70 interested customers in our sample of 100 customers. The question is: is 60 interested customers too far from 70 to be consistent with the null hypothesis? In other words: if the share of interested customers is 0.7, how likely is it that we would see 60 or fewer interested customers in our sample of 100 customers?\n",
    "\n",
    "To do this, we need to summarize the data in a single number that we can use to make a decision. Fortunately, in this case the number of interested customers in our sample is already a summary of the data. Nevertheless, it is useful to write it down formally. Let $X_1, X_2, \\ldots, X_n$ are the answers of the $n = 100$ customers in our sample before they answer. Each $X_i$ is a random variable that can take the value 1 if the customer is interested in our products and 0 otherwise and because our sample is random, the first customer's answer is one with probability $p = 0.7$ and zero with probability $1 - p = 0.3$. The same is true for the second customer and so on.\n",
    "\n",
    "Let us look at $p = 0.7$ which is closest to the alternative hypothesis. We can ask the question: what is the probability to observe 60 or fewer interested customers in our sample of 100 customers if the share of interested customers is 0.7? This is the same as asking.\n",
    "We can answer this using the fact that the number of interested customers (successes) in our sample of 100 customers follows a binomial distribution with parameters $n = 100$ and $p = 0.7$. The probability of observing 60 or fewer interested customers is:\n",
    "\n",
    "$$\n",
    "\\begin{align*}\n",
    "P(X \\leq 60) &= P(X = 0) + P(X = 1) + \\ldots + P(X = 60)\\\\\n",
    "&= \\sum_{i = 0}^{60} \\binom{100}{i} 0.7^i 0.3^{100 - i}\n",
    "\\end{align*}\n",
    "$$\n",
    "\n",
    "We can calculate this probability using the `scipy.stats` module in Python."
   ]
  },
  {
   "cell_type": "code",
   "execution_count": 17,
   "metadata": {},
   "outputs": [
    {
     "name": "stdout",
     "output_type": "stream",
     "text": [
      "Probability of seeing less or equal to 60 successes out of 100 trials: 0.020988576003924803\n"
     ]
    }
   ],
   "source": [
    "from scipy import stats\n",
    "import numpy as np\n",
    "\n",
    "n = 100\n",
    "p = 0.7\n",
    "p_hat = 0.6\n",
    "expected_successes = p * n\n",
    "observed_successes = p_hat * n\n",
    "\n",
    "print(\"Probability of seeing less or equal to 60 successes out of 100 trials:\", stats.binom.cdf(observed_successes, n, p))"
   ]
  },
  {
   "cell_type": "code",
   "execution_count": 18,
   "metadata": {},
   "outputs": [
    {
     "name": "stdout",
     "output_type": "stream",
     "text": [
      "Probability of seeing less or equal to 60 successes out of 100 trials (normal approximation): 0.014548165870626097\n"
     ]
    }
   ],
   "source": [
    "# For large samples we can also use the normal approximation\n",
    "\n",
    "print(\"Probability of seeing less or equal to 60 successes out of 100 trials (normal approximation):\", stats.norm.cdf((observed_successes - expected_successes) / np.sqrt(n * p * (1 - p))))\n"
   ]
  }
 ],
 "metadata": {
  "kernelspec": {
   "display_name": "stat2024",
   "language": "python",
   "name": "python3"
  },
  "language_info": {
   "codemirror_mode": {
    "name": "ipython",
    "version": 3
   },
   "file_extension": ".py",
   "mimetype": "text/x-python",
   "name": "python",
   "nbconvert_exporter": "python",
   "pygments_lexer": "ipython3",
   "version": "3.12.8"
  }
 },
 "nbformat": 4,
 "nbformat_minor": 2
}
