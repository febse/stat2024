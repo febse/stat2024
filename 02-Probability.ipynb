{
 "cells": [
  {
   "cell_type": "code",
   "execution_count": 6,
   "id": "28c68a66",
   "metadata": {},
   "outputs": [
    {
     "name": "stdout",
     "output_type": "stream",
     "text": [
      "Requirement already satisfied: matplotlib-venn in /home/amarov/anaconda3/envs/stat2024/lib/python3.12/site-packages (1.1.1)\n",
      "Requirement already satisfied: matplotlib in /home/amarov/anaconda3/envs/stat2024/lib/python3.12/site-packages (from matplotlib-venn) (3.9.2)\n",
      "Requirement already satisfied: numpy in /home/amarov/anaconda3/envs/stat2024/lib/python3.12/site-packages (from matplotlib-venn) (1.26.4)\n",
      "Requirement already satisfied: scipy in /home/amarov/anaconda3/envs/stat2024/lib/python3.12/site-packages (from matplotlib-venn) (1.13.1)\n",
      "Requirement already satisfied: contourpy>=1.0.1 in /home/amarov/anaconda3/envs/stat2024/lib/python3.12/site-packages (from matplotlib->matplotlib-venn) (1.2.0)\n",
      "Requirement already satisfied: cycler>=0.10 in /home/amarov/anaconda3/envs/stat2024/lib/python3.12/site-packages (from matplotlib->matplotlib-venn) (0.11.0)\n",
      "Requirement already satisfied: fonttools>=4.22.0 in /home/amarov/anaconda3/envs/stat2024/lib/python3.12/site-packages (from matplotlib->matplotlib-venn) (4.51.0)\n",
      "Requirement already satisfied: kiwisolver>=1.3.1 in /home/amarov/anaconda3/envs/stat2024/lib/python3.12/site-packages (from matplotlib->matplotlib-venn) (1.4.4)\n",
      "Requirement already satisfied: packaging>=20.0 in /home/amarov/anaconda3/envs/stat2024/lib/python3.12/site-packages (from matplotlib->matplotlib-venn) (24.1)\n",
      "Requirement already satisfied: pillow>=8 in /home/amarov/anaconda3/envs/stat2024/lib/python3.12/site-packages (from matplotlib->matplotlib-venn) (10.4.0)\n",
      "Requirement already satisfied: pyparsing>=2.3.1 in /home/amarov/anaconda3/envs/stat2024/lib/python3.12/site-packages (from matplotlib->matplotlib-venn) (3.1.2)\n",
      "Requirement already satisfied: python-dateutil>=2.7 in /home/amarov/anaconda3/envs/stat2024/lib/python3.12/site-packages (from matplotlib->matplotlib-venn) (2.9.0.post0)\n",
      "Requirement already satisfied: six>=1.5 in /home/amarov/anaconda3/envs/stat2024/lib/python3.12/site-packages (from python-dateutil>=2.7->matplotlib->matplotlib-venn) (1.16.0)\n",
      "Note: you may need to restart the kernel to use updated packages.\n"
     ]
    }
   ],
   "source": [
    "#| echo: false\n",
    "#| output: false\n",
    "\n",
    "%pip install matplotlib-venn\n",
    "\n",
    "import matplotlib.pyplot as plt\n",
    "from matplotlib_venn import venn2"
   ]
  },
  {
   "cell_type": "markdown",
   "id": "748f8497",
   "metadata": {},
   "source": [
    "# Probability\n",
    "\n",
    "[Colab Notebook](https://colab.research.google.com/github/febse/stat2024/blob/main/02-Probability.ipynb)\n",
    "\n",
    "Let us start with the definition of probability. We will return to it later in much more detail.\n",
    "\n",
    ":::{#def-probability}\n",
    "## Probability\n",
    "\n",
    "A probability law is a functions that assigns a number between 0 and 1 to each (measurable) event in the sample space. Let $\\Omega$ be a non-empty set and\n",
    "let $A$ and $B$ be subsets of $\\Omega$. A probability law is a function $P$ that satisfies the following properties:\n",
    "\n",
    "1. $P(A) \\geq 0$ for all $A \\subseteq \\Omega$ (all events have non-negative probability).\n",
    "2. $P(\\emptyset) = 0$. (The probability of the empty set is 0).\n",
    "3. $P(\\Omega) = 1$. (The probability of the entire sample space is 1).\n",
    "4. If $A$ and $B$ are disjoint, i.e. $P \\cup B = \\emptyset$, then $P(A \\cup B) = P(A) + P(B)$.\n",
    "\n",
    ":::\n",
    "\n",
    "In the following, we will discuss the key terms in the definition of probability.\n"
   ]
  },
  {
   "cell_type": "markdown",
   "id": "4279265c",
   "metadata": {},
   "source": [
    "\n",
    "## Sets\n",
    "\n",
    "As you can see the definition of probability heavily relies on the concept of sets. A set is a collection of distinct objects, considered as an object in its own right. We will use capital letters to denote sets, and the elements of a set will be denoted by lowercase letters.\n",
    "\n",
    "There are a couple of important set operations that we will use in the context of probability:\n",
    "\n",
    "1. **Union**: The union of two sets $A$ and $B$ is the set of elements that are in $A$, in $B$, or in both. The union of $A$ and $B$ is denoted by $A \\cup B$.\n",
    "2. **Intersection**: The intersection of two sets $A$ and $B$ is the set of elements that are in both $A$ and $B$. The intersection of $A$ and $B$ is denoted by $A \\cap B$.\n",
    "4. **Disjoint sets**: Two sets are disjoint if their intersection is the empty set, i.e. $A \\cap B = \\emptyset$.\n",
    "3. **Complement**: The complement of a set $A$ is the set of elements that are not in $A$. The complement of $A$ is denoted by $A^c$ (or sometimes $\\bar{A}$).\n",
    "\n",
    "\n",
    "The union and intersection of sets are commutative and distributive. Commutative means that you can change the order of the sets without changing the result.\n",
    "\n",
    "- For example, $A \\cup B = B \\cup A$.\n",
    "- For example, $A \\cap B = B \\cap A$.\n",
    "\n",
    "Distributive means that you can distribute the union or intersection over the other set.\n",
    "\n",
    "- For example, $A \\cup (B \\cap C) = (A \\cup B) \\cap (A \\cup C)$.\n",
    "- For example, $A \\cap (B \\cup C) = (A \\cap B) \\cup (A \\cap C)$.\n",
    "\n",
    ":::{#thm-de-morgan}\n",
    "## De Morgan's Laws\n",
    "\n",
    "De Morgan's laws are a pair of rules that relate the complement of the union and the intersection of sets.\n",
    "\n",
    "1. The complement of the union of two sets is the intersection of their complements: $(A \\cup B)^c = A^c \\cap B^c$.\n",
    "2. The complement of the intersection of two sets is the union of their complements: $(A \\cap B)^c = A^c \\cup B^c$.\n",
    "\n",
    "This also generalizes to more than two sets.\n",
    "\n",
    "Let $A_1$, $A_2$, $\\ldots$, $A_n$ be sets. Then,\n",
    "\n",
    "1. The complement of the union of the sets is the intersection of their complements: \n",
    "\n",
    "$$\n",
    "(\\cup_{i=1}^n A_i)^c = \\cap_{i=1}^n A_i^c\n",
    "$$.\n",
    "\n",
    "2. The complement of the intersection of the sets is the union of their complements:\n",
    "\n",
    "$$\n",
    "(\\cap_{i=1}^n A_i)^c = \\cup_{i=1}^n A_i^c\n",
    "$$.\n",
    "\n",
    ":::"
   ]
  },
  {
   "cell_type": "code",
   "execution_count": 2,
   "id": "aa6692d2",
   "metadata": {},
   "outputs": [
    {
     "data": {
      "text/plain": [
       "<matplotlib_venn._common.VennDiagram at 0x7fcaa75e95b0>"
      ]
     },
     "execution_count": 2,
     "metadata": {},
     "output_type": "execute_result"
    },
    {
     "data": {
      "image/png": "[encoded data removed]",
      "text/plain": [
       "<Figure size 640x480 with 1 Axes>"
      ]
     },
     "metadata": {},
     "output_type": "display_data"
    }
   ],
   "source": [
    "#| label: fig-venn-intersecting\n",
    "#| fig-cap: \"Two sets intersecting\"\n",
    "\n",
    "venn2((set(['1', '2', '3', '4']), set(['2', '6', '7'])), set_labels=[\"A\", \"B\"])\n"
   ]
  },
  {
   "cell_type": "code",
   "execution_count": 4,
   "id": "13df86a7",
   "metadata": {},
   "outputs": [
    {
     "data": {
      "text/plain": [
       "<matplotlib_venn._common.VennDiagram at 0x7fcaa7656690>"
      ]
     },
     "execution_count": 4,
     "metadata": {},
     "output_type": "execute_result"
    },
    {
     "data": {
      "image/png": "[encoded data removed]",
      "text/plain": [
       "<Figure size 640x480 with 1 Axes>"
      ]
     },
     "metadata": {},
     "output_type": "display_data"
    }
   ],
   "source": [
    "#| label: fig-venn-disjoint\n",
    "#| fig-cap: \"Two disjoint sets\"\n",
    "\n",
    "venn2((set(['1', '2', '3', '4']), set(['5', '6', '7'])), set_labels=[\"C\", \"D\"])\n"
   ]
  },
  {
   "cell_type": "markdown",
   "id": "0b68a5f1",
   "metadata": {},
   "source": [
    ":::{#exr-de-morgan}\n",
    "## De Morgan's Laws\n",
    "\n",
    "Use sets from the Venn diagram in @fig-venn-intersecting to show the validity of De Morgan's laws.\n",
    "\n",
    "- The first set is $A = \\{1, 2, 3, 4, 5\\}$\n",
    "- The second set is $B = \\{4, 5, 6\\}$\n",
    "\n",
    "Write down the complements of $A$ and $B$ and the intersection of $A$ and $B$. Then, write down the complements of $A$ and $B$ and the union of the complements of $A$ and $B$. Compare the results.\n",
    "\n",
    ":::"
   ]
  },
  {
   "cell_type": "markdown",
   "id": "23eae4c0",
   "metadata": {},
   "source": [
    "\n",
    "\n",
    "## The Sample Space\n",
    "\n",
    "Consider a couple of simple experiments with a random outcome\n",
    "\n",
    "- The classic example is flipping a coin once: the outcomes can be either heads or tails.\n",
    "- Another example is rolling a die: the outcomes can be any of the numbers 1, 2, 3, 4, 5, or 6.\n",
    "\n",
    "The sample space of the experiment is the set of _all_ possible outcomes. For the coin flip, the sample space is $\\{H, T\\}$, and for the die roll, the sample space is $\\{1, 2, 3, 4, 5, 6\\}$. These are very easy examples, but depending on the experiment, the sample space can be much more complex.\n",
    "\n",
    "There are a couple of rules that the sample space must follow:\n",
    "\n",
    "1. The sample space must be exhaustive: it must contain all possible outcomes. For example, if you are flipping a coin, the sample space must include both heads and tails: a sample space of $\\{H\\}$ would not be exhaustive.\n",
    "2. The elements of the sample space must be mutually exclusive: when the experiment is performed, only _one_ of the outcomes can occur.\n",
    "\n",
    "## Events\n",
    "\n",
    "TODO\n"
   ]
  },
  {
   "cell_type": "code",
   "execution_count": null,
   "id": "initial_id",
   "metadata": {
    "collapsed": true
   },
   "outputs": [],
   "source": []
  }
 ],
 "metadata": {
  "kernelspec": {
   "display_name": "stat2024",
   "language": "python",
   "name": "python3"
  },
  "language_info": {
   "codemirror_mode": {
    "name": "ipython",
    "version": 3
   },
   "file_extension": ".py",
   "mimetype": "text/x-python",
   "name": "python",
   "nbconvert_exporter": "python",
   "pygments_lexer": "ipython3",
   "version": "3.12.5"
  }
 },
 "nbformat": 4,
 "nbformat_minor": 5
}
